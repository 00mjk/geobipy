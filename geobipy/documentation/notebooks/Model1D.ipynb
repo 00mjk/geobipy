{
 "cells": [
  {
   "cell_type": "markdown",
   "metadata": {},
   "source": [
    "# 1 Dimensional Model\n",
    "\n",
    "##### Back to [Main](../../PackageInfo.ipynb)"
   ]
  },
  {
   "cell_type": "code",
   "execution_count": null,
   "metadata": {},
   "outputs": [],
   "source": [
    "%matplotlib notebook\n",
    "%load_ext autoreload\n",
    "%autoreload 2"
   ]
  },
  {
   "cell_type": "code",
   "execution_count": null,
   "metadata": {},
   "outputs": [],
   "source": [
    "from geobipy import StatArray\n",
    "from geobipy import Model1D\n",
    "import matplotlib.pyplot as plt\n",
    "import numpy as np\n",
    "import h5py\n",
    "from geobipy import hdfRead"
   ]
  },
  {
   "cell_type": "markdown",
   "metadata": {},
   "source": [
    "### Make a test model with 10 layers, and increasing parameter values"
   ]
  },
  {
   "cell_type": "code",
   "execution_count": null,
   "metadata": {},
   "outputs": [],
   "source": [
    "par = StatArray(np.linspace(0.01, 0.1, 10), \"Conductivity\", \"$\\\\frac{S}{m}$\")\n",
    "thk = StatArray(np.ones(10) * 10.0)\n",
    "mod = Model1D(nCells = 10, parameters=par, thickness=thk)"
   ]
  },
  {
   "cell_type": "code",
   "execution_count": null,
   "metadata": {},
   "outputs": [],
   "source": [
    "mod.summary()"
   ]
  },
  {
   "cell_type": "markdown",
   "metadata": {},
   "source": [
    "## Randomness and Model Perturbations\n",
    "We can make the 1D model perturbable by assigning minimum and maximum layer depths, a maximum number of layers, and a probability wheel describing the relative probabilities of either creating a layer, deleting a layer, moving an interface, or doing nothing."
   ]
  },
  {
   "cell_type": "code",
   "execution_count": null,
   "metadata": {
    "scrolled": false
   },
   "outputs": [],
   "source": [
    "prng = np.random.RandomState()\n",
    "# Assign probabilities to the model layers\n",
    "# They are the cumulative probability of life-death-perturb-doNothing\n",
    "mod.makePerturbable(pWheel=[0.50, 0.25, 0.15, 0.1], zmin=1.0, zmax=150.0, kmax=30, prng=prng)\n",
    "# We can then perturb the layers of the model\n",
    "perturbed,option,value = mod.perturb()"
   ]
  },
  {
   "cell_type": "code",
   "execution_count": null,
   "metadata": {},
   "outputs": [],
   "source": [
    "plt.figure(figsize=(8,6))\n",
    "plt.subplot(121)\n",
    "mod.pcolor()\n",
    "plt.subplot(122)\n",
    "perturbed.pcolor()\n",
    "plt.savefig('Perturbed.png', dpi=200, figsize=(8,6))"
   ]
  },
  {
   "cell_type": "code",
   "execution_count": null,
   "metadata": {},
   "outputs": [],
   "source": [
    "plt.figure()\n",
    "mod.plot()"
   ]
  },
  {
   "cell_type": "markdown",
   "metadata": {},
   "source": [
    "#### We can evaluate the prior of the model"
   ]
  },
  {
   "cell_type": "code",
   "execution_count": null,
   "metadata": {},
   "outputs": [],
   "source": [
    "try:\n",
    "  tmp.priorProbability(True,True) # This is meant to fail here!\n",
    "except:\n",
    "  print('This will not work because no prior has been assigned')"
   ]
  },
  {
   "cell_type": "markdown",
   "metadata": {},
   "source": [
    "#### This last command failed because we did not assign a prior distribution to the model parameters"
   ]
  },
  {
   "cell_type": "code",
   "execution_count": null,
   "metadata": {},
   "outputs": [],
   "source": [
    "# Set priors on the depth interfaces, given a number of layers\n",
    "mod.depth.setPrior('Order',mod.zmin,mod.zmax,mod.hmin,30)\n",
    "# To include priors on the parameter and change in the parameter, we need to assign their priors\n",
    "# Assign a multivariate normal distribution that is logged to the conductivities\n",
    "mod.par.setPrior('MvNormalLog',np.log(0.004),np.log(11.0), prng=prng)\n",
    "# Assign a prior to the derivative of the model\n",
    "mod.dpar.setPrior('MvNormalLog',0.0,np.float64(1.5), prng=prng)\n",
    "# We can evaluate the prior of the model using depths only\n",
    "print('Probability of the Model given its priors: ', mod.priorProbability(False,False))\n",
    "# Or with priors on its parameters, and parameter gradient with depth.\n",
    "print('Probability of the Model given its priors: ', mod.priorProbability(True,True))"
   ]
  },
  {
   "cell_type": "markdown",
   "metadata": {},
   "source": [
    "#### Evaluating the prior uses the probability of the parameter distributions"
   ]
  },
  {
   "cell_type": "code",
   "execution_count": null,
   "metadata": {},
   "outputs": [],
   "source": [
    "# Evaluate the probability for these depths\n",
    "print(mod.depth.probability(mod.nCells))"
   ]
  },
  {
   "cell_type": "markdown",
   "metadata": {},
   "source": [
    "## Writing and reading with HDF5\n",
    "\n",
    "### Write to a HDF5 file"
   ]
  },
  {
   "cell_type": "code",
   "execution_count": null,
   "metadata": {},
   "outputs": [],
   "source": [
    "with h5py.File('Model1D.h5','w') as hf:\n",
    "    mod.toHdf(hf,'Model1D')"
   ]
  },
  {
   "cell_type": "markdown",
   "metadata": {},
   "source": [
    "### Read from the file"
   ]
  },
  {
   "cell_type": "code",
   "execution_count": null,
   "metadata": {},
   "outputs": [],
   "source": [
    "ModNew=hdfRead.readKeyFromFiles('Model1D.h5','/','Model1D')"
   ]
  },
  {
   "cell_type": "markdown",
   "metadata": {},
   "source": [
    "### Creating memory in HDF5 to accomodate multiple models"
   ]
  },
  {
   "cell_type": "code",
   "execution_count": null,
   "metadata": {},
   "outputs": [],
   "source": [
    "# Create an initial Model class with enough layers to hold as many layers as we expect. (an upper bound)\n",
    "tmp = Model1D(nCells=20)\n",
    "\n",
    "# Open the file \n",
    "f = h5py.File('Model1D.h5','w')\n",
    "\n",
    "# Create the memory using the temporary model with space for 2 models.\n",
    "tmp.createHdf(f, myName='test', nRepeats=2)\n",
    "\n",
    "# Write mod and perturbed to different entries in the HDF5 file\n",
    "mod.writeHdf(f, 'test', create=False, index=0)\n",
    "perturbed.writeHdf(f, 'test', create=False, index=1)\n",
    "\n",
    "# Close the file\n",
    "f.close()"
   ]
  },
  {
   "cell_type": "markdown",
   "metadata": {},
   "source": [
    "### Reading from a HDF5 file with multiple models"
   ]
  },
  {
   "cell_type": "code",
   "execution_count": null,
   "metadata": {},
   "outputs": [],
   "source": [
    "# Special read functions\n",
    "from geobipy import hdfRead\n",
    "# Open the file\n",
    "f = h5py.File('Model1D.h5', 'r')\n",
    "# Read the Model1D from the file\n",
    "tmp = hdfRead.readKeyFromFile(f, fName='Model1D.h5', groupName='/', key='test', index=1)\n",
    "f.close()"
   ]
  },
  {
   "cell_type": "markdown",
   "metadata": {
    "collapsed": true
   },
   "source": [
    "### Creating a hitmap and adding a 1D model to it"
   ]
  },
  {
   "cell_type": "code",
   "execution_count": null,
   "metadata": {},
   "outputs": [],
   "source": [
    "from geobipy import Hitmap2D\n",
    "x = StatArray(np.logspace(-3, -0, 100), name='Parameter')\n",
    "y = StatArray(np.linspace(0.0, 200.0, 100), name='Depth', units='m')\n",
    "Hit = Hitmap2D(x=x, y=y)"
   ]
  },
  {
   "cell_type": "markdown",
   "metadata": {},
   "source": [
    "#### If we perturb a model multiple times, we can add each model to the hitmap"
   ]
  },
  {
   "cell_type": "code",
   "execution_count": null,
   "metadata": {},
   "outputs": [],
   "source": [
    "perturbed.addToHitMap(Hitmap=Hit)\n",
    "for i in range(10):\n",
    "    perturbed,option,value = perturbed.perturb()\n",
    "    perturbed.addToHitMap(Hitmap=Hit)"
   ]
  },
  {
   "cell_type": "code",
   "execution_count": null,
   "metadata": {},
   "outputs": [],
   "source": [
    "plt.figure()\n",
    "Hit.pcolor(flipY=True, xscale='log')"
   ]
  },
  {
   "cell_type": "markdown",
   "metadata": {},
   "source": [
    "### We can now plot the 1D layered model"
   ]
  },
  {
   "cell_type": "code",
   "execution_count": null,
   "metadata": {},
   "outputs": [],
   "source": [
    "plt.figure()\n",
    "mod.plot(1.0)"
   ]
  },
  {
   "cell_type": "markdown",
   "metadata": {},
   "source": [
    "### We can access and plot the elements of model. The parameters are an [StatArray](../../Base/StatArray_Class.ipynb)"
   ]
  },
  {
   "cell_type": "code",
   "execution_count": null,
   "metadata": {},
   "outputs": [],
   "source": [
    "plt.figure()\n",
    "mod.par.plot()"
   ]
  },
  {
   "cell_type": "markdown",
   "metadata": {
    "collapsed": true
   },
   "source": [
    "### Or we can plot the 1D model as coloured blocks"
   ]
  },
  {
   "cell_type": "code",
   "execution_count": null,
   "metadata": {
    "scrolled": false
   },
   "outputs": [],
   "source": [
    "plt.figure()\n",
    "perturbed.pcolor()"
   ]
  },
  {
   "cell_type": "code",
   "execution_count": null,
   "metadata": {},
   "outputs": [],
   "source": []
  },
  {
   "cell_type": "code",
   "execution_count": null,
   "metadata": {},
   "outputs": [],
   "source": []
  }
 ],
 "metadata": {
  "anaconda-cloud": {},
  "kernelspec": {
   "display_name": "Python [conda root]",
   "language": "python",
   "name": "conda-root-py"
  },
  "language_info": {
   "codemirror_mode": {
    "name": "ipython",
    "version": 3
   },
   "file_extension": ".py",
   "mimetype": "text/x-python",
   "name": "python",
   "nbconvert_exporter": "python",
   "pygments_lexer": "ipython3",
   "version": "3.5.5"
  }
 },
 "nbformat": 4,
 "nbformat_minor": 1
}
