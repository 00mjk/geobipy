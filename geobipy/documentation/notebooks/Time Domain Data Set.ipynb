{
 "cells": [
  {
   "cell_type": "code",
   "execution_count": null,
   "metadata": {
    "collapsed": false
   },
   "outputs": [],
   "source": [
    "%matplotlib notebook\n",
    "%load_ext autoreload\n",
    "%autoreload 2\n",
    "from os.path import join\n",
    "import matplotlib.pyplot as plt\n",
    "import numpy as np\n",
    "from geobipy.src.classes.core.StatArray import StatArray\n",
    "from geobipy.src.classes.data.dataset.TdemData import TdemData"
   ]
  },
  {
   "cell_type": "code",
   "execution_count": null,
   "metadata": {
    "collapsed": false
   },
   "outputs": [],
   "source": [
    "TD=TdemData()\n",
    "TD.read(dataFname = [join('supplementary','Data','Skytem_High.txt'), join('supplementary','Data','Skytem_Low.txt')],\n",
    "        systemFname = [join('supplementary','Data','SkytemHM-SLV.stm'), join('supplementary','Data','SkytemLM-SLV.stm')])"
   ]
  },
  {
   "cell_type": "code",
   "execution_count": null,
   "metadata": {
    "collapsed": false
   },
   "outputs": [],
   "source": [
    "t0=TD.times(0)\n",
    "plt.figure()\n",
    "ax1=plt.subplot(221)\n",
    "TD.getDataPoint(0).plot()\n",
    "plt.xlabel('')\n",
    "plt.subplot(222, sharex=ax1)\n",
    "TD.getDataPoint(50).plot()\n",
    "plt.xlabel('')\n",
    "plt.ylabel('')\n",
    "plt.subplot(223, sharex=ax1)\n",
    "TD.getDataPoint(100).plot()\n",
    "plt.title('')\n",
    "plt.subplot(224, sharex=ax1)\n",
    "TD.getDataPoint(200).plot()\n",
    "plt.ylabel('')\n",
    "plt.title('')"
   ]
  },
  {
   "cell_type": "code",
   "execution_count": null,
   "metadata": {
    "collapsed": false
   },
   "outputs": [],
   "source": [
    "plt.figure()\n",
    "TD.plotWaveform()"
   ]
  },
  {
   "cell_type": "code",
   "execution_count": null,
   "metadata": {
    "collapsed": false
   },
   "outputs": [],
   "source": [
    "plt.figure()\n",
    "ax=TD.scatter2D(s=1.0,c=TD.getChannel(0,23),equalize=True)\n",
    "plt.axis('equal')"
   ]
  },
  {
   "cell_type": "code",
   "execution_count": null,
   "metadata": {
    "collapsed": false,
    "scrolled": false
   },
   "outputs": [],
   "source": [
    "plt.figure()\n",
    "TD.pcolor(log=10)"
   ]
  }
 ],
 "metadata": {
  "kernelspec": {
   "display_name": "Python [conda root]",
   "language": "python",
   "name": "conda-root-py"
  },
  "language_info": {
   "codemirror_mode": {
    "name": "ipython",
    "version": 3
   },
   "file_extension": ".py",
   "mimetype": "text/x-python",
   "name": "python",
   "nbconvert_exporter": "python",
   "pygments_lexer": "ipython3",
   "version": "3.5.2"
  }
 },
 "nbformat": 4,
 "nbformat_minor": 2
}
