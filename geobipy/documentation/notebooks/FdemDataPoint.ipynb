{
 "cells": [
  {
   "cell_type": "markdown",
   "metadata": {},
   "source": [
    "# Fdem Data Point Class"
   ]
  },
  {
   "cell_type": "markdown",
   "metadata": {},
   "source": [
    "## Fdem Data contains entire data sets\n",
    "## Fdem Data Points can forward model and evaluate themselves\n",
    "\n",
    "### FdemData is an extension to the [Data](Data.ipynb) Class\n",
    "\n",
    "##### Back to [Main](../../PackageInfo.ipynb)"
   ]
  },
  {
   "cell_type": "code",
   "execution_count": null,
   "metadata": {},
   "outputs": [],
   "source": [
    "%matplotlib notebook\n",
    "%load_ext autoreload\n",
    "%autoreload 2\n",
    "\n",
    "from os.path import join\n",
    "import numpy as np\n",
    "import h5py\n",
    "import matplotlib.pyplot as plt\n",
    "from geobipy import hdfRead\n",
    "from geobipy import FdemData\n",
    "from geobipy import FdemDataPoint\n",
    "from geobipy import Model1D\n",
    "from geobipy import StatArray"
   ]
  },
  {
   "cell_type": "code",
   "execution_count": null,
   "metadata": {},
   "outputs": [],
   "source": [
    "# The data file name\n",
    "dataFile=join('supplementary','Data','Resolve2.txt')\n",
    "# The EM system file name\n",
    "systemFile=join('supplementary','Data','FdemSystem2.stm')"
   ]
  },
  {
   "cell_type": "markdown",
   "metadata": {},
   "source": [
    "## Initialize and read an EM data set"
   ]
  },
  {
   "cell_type": "code",
   "execution_count": null,
   "metadata": {},
   "outputs": [],
   "source": [
    "D=FdemData()\n",
    "D.read(dataFile,systemFile)"
   ]
  },
  {
   "cell_type": "markdown",
   "metadata": {},
   "source": [
    "## Summarize the Data"
   ]
  },
  {
   "cell_type": "code",
   "execution_count": null,
   "metadata": {},
   "outputs": [],
   "source": [
    "D.summary()"
   ]
  },
  {
   "cell_type": "markdown",
   "metadata": {},
   "source": [
    "## Grab a measurement from the data set"
   ]
  },
  {
   "cell_type": "code",
   "execution_count": null,
   "metadata": {
    "scrolled": false
   },
   "outputs": [],
   "source": [
    "P=D.getDataPoint(0)\n",
    "P.sys.summary()\n",
    "P.summary()\n",
    "plt.figure()\n",
    "P.plot()"
   ]
  },
  {
   "cell_type": "markdown",
   "metadata": {},
   "source": [
    "## We can forward model the EM response of a 1D layered earth <a href=\"../Model/Model1D.ipynb\">Model1D</a>"
   ]
  },
  {
   "cell_type": "code",
   "execution_count": null,
   "metadata": {},
   "outputs": [],
   "source": [
    "par = StatArray(np.linspace(0.01, 0.1, 10), \"Conductivity\", \"$\\\\frac{S}{m}$\")\n",
    "thk = StatArray(np.ones(10) * 10.0)\n",
    "mod = Model1D(nCells = 10, parameters=par, thickness=thk)\n",
    "mod.summary()\n",
    "#plt.figure()\n",
    "#mod.plotBlocks()"
   ]
  },
  {
   "cell_type": "markdown",
   "metadata": {},
   "source": [
    "## Compute and plot the data from the model"
   ]
  },
  {
   "cell_type": "code",
   "execution_count": null,
   "metadata": {},
   "outputs": [],
   "source": [
    "P.forward(mod)\n",
    "plt.figure()\n",
    "P.plot()\n",
    "P.plotPredicted()"
   ]
  },
  {
   "cell_type": "markdown",
   "metadata": {},
   "source": [
    "## The errors are set to zero right now, so lets change that"
   ]
  },
  {
   "cell_type": "code",
   "execution_count": null,
   "metadata": {},
   "outputs": [],
   "source": [
    "# Set the Prior\n",
    "addErrors = StatArray(np.full(2*P.sys.nFreq, 10.0))\n",
    "P.p.setPrior('MVNormalLog', addErrors, addErrors)\n",
    "P.updateErrors(1, P.s[:], 0.1, addErrors[:])"
   ]
  },
  {
   "cell_type": "markdown",
   "metadata": {},
   "source": [
    "## With forward modelling, we can solve for the best fitting halfspace model"
   ]
  },
  {
   "cell_type": "code",
   "execution_count": null,
   "metadata": {},
   "outputs": [],
   "source": [
    "HSconductivity=P.FindBestHalfSpace()\n",
    "print('Best half space conductivity is ', HSconductivity, ' $S/m$')\n",
    "plt.figure()\n",
    "P.plot()\n",
    "P.plotPredicted()"
   ]
  },
  {
   "cell_type": "markdown",
   "metadata": {},
   "source": [
    "## Compute the misfit between observed and predicted data"
   ]
  },
  {
   "cell_type": "code",
   "execution_count": null,
   "metadata": {},
   "outputs": [],
   "source": [
    "print(P.dataMisfit())"
   ]
  },
  {
   "cell_type": "markdown",
   "metadata": {},
   "source": [
    "## Plot the misfits for a range of half space conductivities"
   ]
  },
  {
   "cell_type": "code",
   "execution_count": null,
   "metadata": {},
   "outputs": [],
   "source": [
    "plt.figure()\n",
    "P.plotHalfSpaceResponses(-6.0,4.0,200)"
   ]
  },
  {
   "cell_type": "markdown",
   "metadata": {},
   "source": [
    "## Compute the sensitivity matrix for a given model"
   ]
  },
  {
   "cell_type": "code",
   "execution_count": null,
   "metadata": {},
   "outputs": [],
   "source": [
    "J = P.sensitivity(mod)\n",
    "plt.figure()\n",
    "J.pcolor()"
   ]
  },
  {
   "cell_type": "markdown",
   "metadata": {},
   "source": [
    "## We can save the FdemDataPoint to a HDF file"
   ]
  },
  {
   "cell_type": "code",
   "execution_count": null,
   "metadata": {},
   "outputs": [],
   "source": [
    "with h5py.File('FdemDataPoint.h5','w') as hf:\n",
    "    P.writeHdf(hf, 'fdp')"
   ]
  },
  {
   "cell_type": "markdown",
   "metadata": {},
   "source": [
    "## And then read it in"
   ]
  },
  {
   "cell_type": "code",
   "execution_count": null,
   "metadata": {},
   "outputs": [],
   "source": [
    "P1=hdfRead.readKeyFromFiles('FdemDataPoint.h5','/','fdp')"
   ]
  },
  {
   "cell_type": "code",
   "execution_count": null,
   "metadata": {},
   "outputs": [],
   "source": [
    "P1.summary()"
   ]
  },
  {
   "cell_type": "code",
   "execution_count": null,
   "metadata": {},
   "outputs": [],
   "source": []
  }
 ],
 "metadata": {
  "kernelspec": {
   "display_name": "Python [default]",
   "language": "python",
   "name": "python3"
  },
  "language_info": {
   "codemirror_mode": {
    "name": "ipython",
    "version": 3
   },
   "file_extension": ".py",
   "mimetype": "text/x-python",
   "name": "python",
   "nbconvert_exporter": "python",
   "pygments_lexer": "ipython3",
   "version": "3.5.5"
  }
 },
 "nbformat": 4,
 "nbformat_minor": 1
}
