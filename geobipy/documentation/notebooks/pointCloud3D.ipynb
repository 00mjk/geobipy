{
 "cells": [
  {
   "cell_type": "markdown",
   "metadata": {},
   "source": [
    "# 3D Point Cloud class\n",
    "### The 3D Point Cloud class extracts and utilizes the [Point](Point%20Class.ipynb) Class"
   ]
  },
  {
   "cell_type": "code",
   "execution_count": null,
   "metadata": {},
   "outputs": [],
   "source": [
    "%matplotlib notebook\n",
    "%load_ext autoreload\n",
    "%autoreload 2"
   ]
  },
  {
   "cell_type": "code",
   "execution_count": null,
   "metadata": {},
   "outputs": [],
   "source": [
    "from geobipy import PointCloud3D\n",
    "from os.path import join\n",
    "import numpy as np\n",
    "import matplotlib.pyplot as plt\n",
    "# Initialize a 3D point cloud with N elements\n",
    "N=10\n",
    "# Instantiation pointcloud with an integer size N\n",
    "PC3D=PointCloud3D(N)"
   ]
  },
  {
   "cell_type": "markdown",
   "metadata": {},
   "source": [
    "## Create a quick test example using random points\n",
    "$z=x(1-x)cos(4\\pi x)sin(4\\pi y^{2})^{2}$"
   ]
  },
  {
   "cell_type": "code",
   "execution_count": null,
   "metadata": {
    "scrolled": true
   },
   "outputs": [],
   "source": [
    "PC3D.maketest(8000)"
   ]
  },
  {
   "cell_type": "markdown",
   "metadata": {},
   "source": [
    "### Write a summary of the contents of the point cloud"
   ]
  },
  {
   "cell_type": "code",
   "execution_count": null,
   "metadata": {},
   "outputs": [],
   "source": [
    "PC3D.summary()"
   ]
  },
  {
   "cell_type": "markdown",
   "metadata": {},
   "source": [
    "### Get a single location from the point as a 3x1 vector"
   ]
  },
  {
   "cell_type": "code",
   "execution_count": null,
   "metadata": {},
   "outputs": [],
   "source": [
    "Point=PC3D.getPoint(50)\n",
    "# Print the point to the screen\n",
    "print(Point)"
   ]
  },
  {
   "cell_type": "markdown",
   "metadata": {},
   "source": [
    "### Plot the locations with Height as colour"
   ]
  },
  {
   "cell_type": "code",
   "execution_count": null,
   "metadata": {},
   "outputs": [],
   "source": [
    "plt.figure()\n",
    "PC3D.scatter2D(edgecolor='k')"
   ]
  },
  {
   "cell_type": "markdown",
   "metadata": {},
   "source": [
    "### Plotting routines take matplotlib arguments for customization\n",
    "#### For example, plotting the size of the points according to the absolute value of height"
   ]
  },
  {
   "cell_type": "code",
   "execution_count": null,
   "metadata": {},
   "outputs": [],
   "source": [
    "plt.figure()\n",
    "PC3D.scatter2D(s=100*np.abs(PC3D.z),edgecolor='k')"
   ]
  },
  {
   "cell_type": "markdown",
   "metadata": {},
   "source": [
    "### Grid the points using a triangulated CloughTocher interpolation"
   ]
  },
  {
   "cell_type": "code",
   "execution_count": null,
   "metadata": {},
   "outputs": [],
   "source": [
    "!surface"
   ]
  },
  {
   "cell_type": "code",
   "execution_count": null,
   "metadata": {
    "scrolled": false
   },
   "outputs": [],
   "source": [
    "plt.figure()\n",
    "PC3D.mapPlot()"
   ]
  },
  {
   "cell_type": "code",
   "execution_count": null,
   "metadata": {},
   "outputs": [],
   "source": [
    "bounds=[0, 100, 0, 100]\n",
    "dx = 5; dy = 5\n",
    "centres = np.asarray([bounds[0]+0.5*dx, bounds[1]-0.5*dx, bounds[2]+0.5*dy, bounds[3]-0.5*dy])\n",
    "nx = np.int((centres[1]-centres[0])/dx)\n",
    "ny = np.int((centres[3]-centres[2])/dy)\n",
    "x = np.linspace(centres[0], centres[1], nx+1)\n",
    "y = np.linspace(centres[2], centres[3], ny+1)"
   ]
  },
  {
   "cell_type": "code",
   "execution_count": null,
   "metadata": {},
   "outputs": [],
   "source": [
    "xe = np.linspace(bounds[0], bounds[1], x.size+1)\n",
    "print(x.size)\n",
    "print(xe)"
   ]
  },
  {
   "cell_type": "markdown",
   "metadata": {},
   "source": [
    "### We can perform spatial searches on the 3D point cloud"
   ]
  },
  {
   "cell_type": "code",
   "execution_count": null,
   "metadata": {},
   "outputs": [],
   "source": [
    "PC3D.setKdTree(nDims=2)\n",
    "p=PC3D.nearest((0.0,0.0), k=10, p=2, radius=0.3)\n",
    "print(p)"
   ]
  },
  {
   "cell_type": "markdown",
   "metadata": {},
   "source": [
    "#### .nearest returns the distances and indices into the point cloud of the nearest points.\n",
    "We can then obtain those points as another point cloud"
   ]
  },
  {
   "cell_type": "code",
   "execution_count": null,
   "metadata": {},
   "outputs": [],
   "source": [
    "pNear = PC3D[p[1]-1]\n",
    "plt.figure()\n",
    "plt.subplot(1,2,1)\n",
    "ax=pNear.scatter2D()\n",
    "xlim=ax.get_xlim()\n",
    "ylim=ax.get_ylim()\n",
    "plt.subplot(1,2,2)\n",
    "ax=PC3D.scatter2D(edgecolor='k')\n",
    "plt.xlim(xlim)\n",
    "plt.ylim(ylim)\n",
    "searchRadius = plt.Circle((0.0, 0.0), 0.3, color='b', fill=False)\n",
    "ax.add_artist(searchRadius)\n",
    "plt.plot(0.0, 0.0, 'x')"
   ]
  },
  {
   "cell_type": "markdown",
   "metadata": {},
   "source": [
    "### Read in the xyz co-ordinates in columns 2,3,4 from a file. Skip 1 header line."
   ]
  },
  {
   "cell_type": "code",
   "execution_count": null,
   "metadata": {},
   "outputs": [],
   "source": [
    "PC3D.read(join('supplementary','data','Resolve1.txt'),1,[2,3,4])"
   ]
  },
  {
   "cell_type": "code",
   "execution_count": null,
   "metadata": {},
   "outputs": [],
   "source": [
    "plt.figure()\n",
    "f=PC3D.scatter2D(s=100)"
   ]
  },
  {
   "cell_type": "code",
   "execution_count": null,
   "metadata": {},
   "outputs": [],
   "source": []
  }
 ],
 "metadata": {
  "anaconda-cloud": {},
  "kernelspec": {
   "display_name": "Python [conda root]",
   "language": "python",
   "name": "conda-root-py"
  },
  "language_info": {
   "codemirror_mode": {
    "name": "ipython",
    "version": 3
   },
   "file_extension": ".py",
   "mimetype": "text/x-python",
   "name": "python",
   "nbconvert_exporter": "python",
   "pygments_lexer": "ipython3",
   "version": "3.5.5"
  }
 },
 "nbformat": 4,
 "nbformat_minor": 1
}
