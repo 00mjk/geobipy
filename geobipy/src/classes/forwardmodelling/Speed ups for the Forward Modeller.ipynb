{
 "cells": [
  {
   "cell_type": "markdown",
   "metadata": {},
   "source": [
    "## Documentation and Interesting Results from Code Speed Up"
   ]
  },
  {
   "cell_type": "markdown",
   "metadata": {},
   "source": [
    "### Setting up the examples to run through the forward modeller"
   ]
  },
  {
   "cell_type": "code",
   "execution_count": 1,
   "metadata": {
    "collapsed": false
   },
   "outputs": [],
   "source": [
    "%matplotlib inline\n",
    "import sys\n",
    "myBase=\"D:\\\\WorkForOthers\\\\USGS\\\\MCMC\\\\Python\"\n",
    "if myBase not in sys.path:\n",
    "    sys.path.append(myBase)\n",
    "import setupPackage\n",
    "from FdemData import FdemData\n",
    "from Stopwatch import Stopwatch\n",
    "from StatArray import StatArray\n",
    "#from System import EmSystem\n",
    "from Model1D import Model1D\n",
    "from scipy.constants import mu_0 as mu0\n",
    "from scipy.constants import epsilon_0 as eps0\n",
    "import numpy as np\n",
    "import cmath as cm\n",
    "import Error as Err\n",
    "import time as time\n",
    "import matplotlib.pyplot as plt\n",
    "N=100000"
   ]
  },
  {
   "cell_type": "code",
   "execution_count": 2,
   "metadata": {
    "collapsed": false
   },
   "outputs": [],
   "source": [
    "# The data file name\n",
    "dataFile='../Data/FdemData.csv'\n",
    "# The EM system file name\n",
    "systemFile=\"hemSystem.txt\"\n",
    "D=FdemData()\n",
    "D.read(dataFile,systemFile)\n",
    "P=D.getDataPoint(0)\n",
    "P.z[:]=35.2\n",
    "\n",
    "# Create a model with the # of layers as input\n",
    "con=[0.000392628452446,0.000325149730765,   0.000382893410534,   0.000406282291944,   0.000000000977662,   0.000036199582044,   0.000000000005504,   0.017405471215531,   0.012247158625986,   0.071007642063211,   0.054715322480840,   0.016057998091585,   0.001402874523406,   0.000000948808653,   0.000000001403383,   0.000602024538505,   0.082170028582427,   0.000000889045405,   0.002039497239736,   0.000021128714358,   0.000000000366016,   0.000579847880082,   0.000000000063988,   0.029142208651212,   0.213002720466422,   0.027305520944434,   0.184039623884463,   0.000000000167473,   0.740817138328565,   0.000000000124133]\n",
    "thk=[1.506304835312014,   2.545858145434390,   5.025650447739466,   4.951042896904797,   4.148059319040655,   5.478954167713898,   3.117559623909347,   5.473159265644906,   4.068959105263104,  13.206568558595997,   7.482754829287153,   8.728005290161825,   5.198880117483057,   5.261538801714735,   3.272546111675439,   4.569255431822512,   2.517115172736155,   4.229317958524064,  10.377421445020047,   7.193529306967264,   3.841476894831672,   6.382407545807752,   6.662544568868938,   3.826471571459606,   2.973877306345486,   4.819340786030267,   5.161285840207938,   3.893569754464238,   3.498839469107594,                   0]\n",
    "Mod=Model1D()\n",
    "Mod.maketest(29)\n",
    "Mod.par[:]=con\n",
    "Mod.thk[:]=thk\n",
    "\n",
    "S=P.sys\n",
    "mod=Mod"
   ]
  },
  {
   "cell_type": "code",
   "execution_count": 3,
   "metadata": {
    "collapsed": false
   },
   "outputs": [
    {
     "name": "stdout",
     "output_type": "stream",
     "text": [
      "0.04347085952758789\n",
      "[  22.41724624   90.59613622   54.75704843  228.6285731   321.57857908\n",
      "  414.65043221   45.18922488  103.99558308   44.84793245  114.20207415\n",
      "  114.75538919  162.32026945]\n",
      "0.08953714370727539\n",
      "Elapsed Time: 00:00:00.133 (h:m:s.ms)\n",
      "Answers are the same? True\n"
     ]
    }
   ],
   "source": [
    "# Run the forward modeller to get a base line\n",
    "clk=Stopwatch('New Code') \n",
    "clk.start()\n",
    "P.forward(Mod)\n",
    "print(clk.lap())\n",
    "print(P.p[:])\n",
    "J=P.sensitivity(Mod)\n",
    "print(clk.lap())\n",
    "clk.stop()\n",
    "  \n",
    "print(clk)\n",
    "\n",
    "tmp=P.p-[22.4172462541,90.5961362227,54.757048434,228.628573101,321.578579083,414.65043221,45.1892248798,103.995583076,44.8479324477,114.202074154,114.75538919,162.320269454]\n",
    "print('Answers are the same? '+str(np.linalg.norm(tmp) < 1e-6))"
   ]
  },
  {
   "cell_type": "markdown",
   "metadata": {},
   "source": [
    "# fdem1dfwd()"
   ]
  },
  {
   "cell_type": "code",
   "execution_count": 4,
   "metadata": {
    "collapsed": false
   },
   "outputs": [],
   "source": [
    "z0=-P.z[0]\n",
    "if (z0 > mod.top):\n",
    "    Err.Emsg(\"Sensor altitude must be above the top of the model\")\n",
    "\n",
    "# Create the indices of the coil orientations for the frequencies.\n",
    "xx,xy,xz,yx,yy,yz,zx,zy,zz = S.getComponentID()\n",
    "useJ0=False\n",
    "useJ1=False\n",
    "if (len(xx),len(xy),len(yx),len(yy),len(zz) != 0):\n",
    "  useJ0=True\n",
    "if (len(xx),len(xy),len(xz),len(yx),len(yy),len(yz),len(zx),len(zy) != 0):\n",
    "  useJ1=True\n",
    "\n",
    "rTEj0Flg1 = []\n",
    "u0j0Flg1 = []\n",
    "drTEdlogconj0Flg1 = []\n",
    "rTEj1Flg1 = []\n",
    "u0j1Flg1 = []\n",
    "drTEdlogconj1Flg1 = []  "
   ]
  },
  {
   "cell_type": "markdown",
   "metadata": {},
   "source": [
    "### Speed up regarding the use of expanding lists or pre-allocated numpy arrays\n",
    "#### Even though the iterations are many, the time savings may be dramatic for large algorithms"
   ]
  },
  {
   "cell_type": "code",
   "execution_count": 5,
   "metadata": {
    "collapsed": false
   },
   "outputs": [
    {
     "name": "stdout",
     "output_type": "stream",
     "text": [
      "1.1632590293884277\n",
      "1.2194480895996094\n",
      "Answers are the same? True\n",
      "Speed up: 0.9539225484951716\n"
     ]
    }
   ],
   "source": [
    "# Original empty list and expansion\n",
    "t1=time.time()\n",
    "for i in range(N):\n",
    "    tMom=[];rMom=[]\n",
    "    tMom = [S.T[i].moment for i in range(S.nFreq)]\n",
    "    rMom = [S.R[i].moment for i in range(S.nFreq)]\n",
    "    scl1 = np.asarray(tMom) * np.asarray(rMom)\n",
    "ta=time.time()-t1\n",
    "print(ta)\n",
    "t1=time.time()\n",
    "# Preallocation using numpy and maintaining a numpy array\n",
    "for i in range(N):\n",
    "    tMom=np.zeros(S.nFreq);rMom=np.zeros(S.nFreq)\n",
    "    for i in range(S.nFreq):\n",
    "      tMom[i] = S.T[i].moment\n",
    "      rMom[i] = S.R[i].moment\n",
    "    scl = tMom*rMom\n",
    "tb=time.time()-t1\n",
    "print(tb)\n",
    "print('Answers are the same? '+str(np.linalg.norm(scl-scl1)==0.0))\n",
    "print('Speed up: '+str(ta/tb))"
   ]
  },
  {
   "cell_type": "markdown",
   "metadata": {},
   "source": [
    "## calcTEsens"
   ]
  },
  {
   "cell_type": "code",
   "execution_count": 6,
   "metadata": {
    "collapsed": false
   },
   "outputs": [],
   "source": [
    "S\n",
    "J=S.H.J0\n",
    "M=Mod\n",
    "computeSens=False"
   ]
  },
  {
   "cell_type": "code",
   "execution_count": 7,
   "metadata": {
    "collapsed": false
   },
   "outputs": [],
   "source": [
    "# Get the number of layers in the model\n",
    "nLayers=M.nCells[0]\n",
    "nL1=nLayers+1\n",
    "\n",
    "lamSq=np.zeros(J.lam.shape)\n",
    "lamSq[:]=J.lam**2.0\n",
    "\n",
    "# Compute the angular frequencies from the system frequencies \n",
    "omega=np.zeros(S.nFreq)\n",
    "omega+=2.0*np.pi*S.freq[:]"
   ]
  },
  {
   "cell_type": "markdown",
   "metadata": {},
   "source": [
    "### Another example of list expansion, this time numpy.insert.\n",
    "#### Instead we can simply initialize an array with one extra length and have explicit assignment"
   ]
  },
  {
   "cell_type": "code",
   "execution_count": 8,
   "metadata": {
    "collapsed": false
   },
   "outputs": [
    {
     "name": "stdout",
     "output_type": "stream",
     "text": [
      "5.4534289836883545\n",
      "1.465066909790039\n",
      "Speed up: 3.7223071159732175\n"
     ]
    }
   ],
   "source": [
    "# Create temporary variables and insert parameters at the beginning\n",
    "# Original using np.insert\n",
    "t1=time.time()\n",
    "for i in range(N):\n",
    "  con  = np.insert(M.par, 0, 0.0)\n",
    "  #chie = np.insert(M.chie, 0, 0.0)\n",
    "  chim = np.insert(M.chim, 0, 0.0)\n",
    "  thk = np.insert(M.thk, 0, np.NAN)\n",
    "ta=time.time()-t1\n",
    "print(ta)\n",
    "# Reworked with initialization with +1 and assignment\n",
    "t1=time.time()\n",
    "for i in range(N):\n",
    "    con=np.zeros(nLayers+1);con[0]=0.0;con[1:]=M.par[:]\n",
    "    chim=np.zeros(nLayers+1);chim[0]=0.0;chim[1:]=M.chim[:]\n",
    "    thk=np.zeros(nLayers+1);thk[0]=np.NAN;thk[1:]=M.thk[:]\n",
    "tb=time.time()-t1\n",
    "print(tb)\n",
    "print('Speed up: '+str(ta/tb))"
   ]
  },
  {
   "cell_type": "markdown",
   "metadata": {},
   "source": [
    "### Building the responses per layer"
   ]
  },
  {
   "cell_type": "code",
   "execution_count": 9,
   "metadata": {
    "collapsed": false
   },
   "outputs": [
    {
     "name": "stdout",
     "output_type": "stream",
     "text": [
      "0.006012916564941406\n"
     ]
    }
   ],
   "source": [
    "# Build an array of responses per layer\n",
    "t1=time.time()\n",
    "\n",
    "tmp=StatArray([nL1,S.nFreq],\"tmp\",\"N/A\",np.complex128)\n",
    "for i in range(nL1):\n",
    "    tmp[i,:]=np.dot(np.dot(1j,omega),1.0)\n",
    "        \n",
    "# Compute the Admitivity, yn=j*omega*eps+sigma\n",
    "ynO=tmp*eps0\n",
    "for i in range(nL1):\n",
    "    ynO[i,:]=ynO[i,:]+con[i]\n",
    "        \n",
    "ynPO=StatArray([nL1,S.nFreq,J.nC],\"ynP\",\"N/A\",np.complex128)\n",
    "for i in range(J.nC):\n",
    "    ynPO[:,:,i]=ynO[:,:]\n",
    "    \n",
    "# Compute the impedivity, zn=j*omega*mu\n",
    "znO=tmp*mu0\n",
    "znPO=StatArray([nL1,S.nFreq,J.nC],\"znP\",\"N/A\",np.complex128)\n",
    "for i in range(J.nC):\n",
    "    znPO[:,:,i]=znO[:,:]\n",
    "    \n",
    "# Compute the wavenumber, un=sqrt(kx^2 + ky^2 - kn^2) = sqrt(lam^2 - kn^2)\n",
    "# Where, kn = sqrt(-zn*yn) = sqrt(omega^2*mu_n*eps_n - j*omega*mu_n*sigma_n)\n",
    "# Hence, un=sqrt(Lam^2+zn*yn)\n",
    "unO=StatArray([nL1,S.nFreq,J.nC],\"un\",\"N/A\",np.complex128)\n",
    "for i in range(nL1):\n",
    "    unO[i,:,:]=np.sqrt(lamSq+(znPO[i,:,:]*ynPO[i,:,:]))\n",
    "        \n",
    "# Set layer admittances, Yn\n",
    "# eqn 4.27\n",
    "YnO =  unO / znPO\n",
    "ta=time.time()-t1\n",
    "print(ta)"
   ]
  },
  {
   "cell_type": "markdown",
   "metadata": {},
   "source": [
    "#### Original python script to build ynP"
   ]
  },
  {
   "cell_type": "code",
   "execution_count": 10,
   "metadata": {
    "collapsed": false
   },
   "outputs": [
    {
     "name": "stdout",
     "output_type": "stream",
     "text": [
      "time to build ynP: 0.0029799938201904297\n",
      "time to build znP: 0.005390167236328125\n"
     ]
    }
   ],
   "source": [
    "# Try using cmath instead of casting to complex!!!\n",
    "N=1\n",
    "ynO = np.asarray([np.dot(np.dot(1j,omega),eps0)] * len(1+chim))\n",
    "ynO = [ynO[i]+con[i] for i in range(len(ynO))]\n",
    "t1=time.time()\n",
    "for i in range(N):\n",
    "  ynPO = np.asarray([[[itm2] * J.nC for itm2 in itm] for itm in ynO])\n",
    "print('time to build ynP: '+str(time.time()-t1))\n",
    "\n",
    "\n",
    "# Try using cmath instead of casting to complex!!!   \n",
    "znO = [np.dot(np.dot(1j,omega),mu0)] * len((1+chim))\n",
    "znO = [znO[i] for i in range(len(znO))]\n",
    "t1=time.time()\n",
    "for i in range(N):      \n",
    "  znPO = np.asarray([[[itm2] * J.nC for itm2 in itm] for itm in znO])\n",
    "print('time to build znP: '+str(time.time()-t1))"
   ]
  },
  {
   "cell_type": "markdown",
   "metadata": {},
   "source": [
    "#### Yn section"
   ]
  },
  {
   "cell_type": "code",
   "execution_count": 11,
   "metadata": {
    "collapsed": false
   },
   "outputs": [
    {
     "name": "stdout",
     "output_type": "stream",
     "text": [
      "Old method time: 0.6299281120300293\n",
      "First try time: 0.1389319896697998\n",
      "Final attempt time: 0.01607489585876465\n",
      "Speed Up: 39.18707266066476\n",
      "Previous Single iteration time: 0.0006299281120300293\n",
      "Single iteration time: 1.607489585876465e-05\n",
      "Answers are the same? True\n"
     ]
    }
   ],
   "source": [
    "# Original\n",
    "N=1000\n",
    "t1=time.time()\n",
    "for i in range(N):\n",
    "  tmp=StatArray([nL1,S.nFreq],\"tmp\",\"N/A\",np.complex128)\n",
    "  for i in range(nL1):\n",
    "      tmp[i,:]=np.dot(np.dot(1j,omega),1.0)\n",
    "         \n",
    "  # Compute the Admitivity, yn=j*omega*eps+sigma\n",
    "  ynO=tmp*eps0\n",
    "  for i in range(nL1):\n",
    "      ynO[i,:]=ynO[i,:]+con[i]\n",
    "t0=time.time()-t1\n",
    "print('Old method time: '+str(t0))\n",
    "# \n",
    "t1=time.time()\n",
    "for i in range(N):\n",
    "  tmp=np.dot(1j,omega)\n",
    "  ynA=np.zeros([nL1,S.nFreq],np.complex128,order='F')\n",
    "  for i in range(nL1):\n",
    "      ynA[i,:]=tmp*eps0+con[i]\n",
    "ta=time.time()-t1\n",
    "print('First try time: '+str(ta))\n",
    "\n",
    "t1=time.time()\n",
    "for i in range(N):\n",
    "  tmp=np.dot(1j,omega)\n",
    "  yn=np.repeat(tmp[:,np.newaxis]*eps0, nL1, 1)+con\n",
    "tb=time.time()-t1\n",
    "print('Final attempt time: '+str(tb))\n",
    "print('Speed Up: '+str(t0/tb))\n",
    "print('Previous Single iteration time: '+str(t0/N))\n",
    "print('Single iteration time: '+str(tb/N))\n",
    "print('Answers are the same? '+str(np.linalg.norm(ynO-yn.T)==0.0))"
   ]
  },
  {
   "cell_type": "markdown",
   "metadata": {},
   "source": [
    "#### YnP section"
   ]
  },
  {
   "cell_type": "code",
   "execution_count": 12,
   "metadata": {
    "collapsed": false
   },
   "outputs": [
    {
     "name": "stdout",
     "output_type": "stream",
     "text": [
      "Time for orginal: 0.4810049533843994\n"
     ]
    }
   ],
   "source": [
    "t1=time.time()\n",
    "for i in range(N):\n",
    "  ynPO=np.zeros([nLayers+1,S.nFreq,J.nC],np.complex128)\n",
    "  for i in range(J.nC):\n",
    "    ynPO[:,:,i]=ynO[:,:]\n",
    "t0=time.time()-t1\n",
    "print('Time for orginal: '+str(t0))"
   ]
  },
  {
   "cell_type": "code",
   "execution_count": 13,
   "metadata": {
    "collapsed": false,
    "scrolled": true
   },
   "outputs": [
    {
     "name": "stdout",
     "output_type": "stream",
     "text": [
      "Time for first attempt: 0.2503218650817871\n",
      "Answers are the same? True\n",
      "Time for final attempt: 0.03087902069091797\n",
      "Speed Up: 15.577079279780104\n",
      "Single iteration time: 3.087902069091797e-05\n",
      "Answers are the same? True\n"
     ]
    }
   ],
   "source": [
    "t1=time.time()\n",
    "for i in range(N):\n",
    "  ynPA=np.zeros([nLayers+1,S.nFreq,J.nC],np.complex128,order='F')\n",
    "  for i in range(J.nC):\n",
    "    ynPA[:,:,i]=yn.T[:,:]\n",
    "ta=time.time()-t1\n",
    "print('Time for first attempt: '+str(ta))\n",
    "print('Answers are the same? '+str(np.linalg.norm(ynPA-ynPO)==0.0))\n",
    "\n",
    "t1=time.time()\n",
    "for i in range(N):\n",
    "  ynP=np.repeat(yn[:,np.newaxis,:],J.nC,axis=1)\n",
    "tb=time.time()-t1\n",
    "print('Time for final attempt: '+str(tb))\n",
    "print('Speed Up: '+str(t0/tb))\n",
    "print('Single iteration time: '+str(tb/N))\n",
    "dum=ynP.swapaxes(0,1)\n",
    "dum=dum.swapaxes(0,2)\n",
    "print('Answers are the same? '+str(np.linalg.norm(dum-ynPO)==0.0))"
   ]
  },
  {
   "cell_type": "markdown",
   "metadata": {},
   "source": [
    "#### Zn Section"
   ]
  },
  {
   "cell_type": "code",
   "execution_count": 14,
   "metadata": {
    "collapsed": true
   },
   "outputs": [],
   "source": [
    "tmp=StatArray([nLayers+1,S.nFreq],\"tmp\",\"N/A\",np.complex128)\n",
    "for i in range(nLayers+1):\n",
    "  tmp[i,:]=np.dot(np.dot(1j,omega),1.0)\n",
    "# Compute the impedivity, zn=j*omega*mu\n",
    "znO=tmp*mu0\n",
    "znPO=StatArray([nLayers+1,S.nFreq,J.nC],\"znP\",\"N/A\",np.complex128)\n",
    "for i in range(J.nC):\n",
    "  znPO[:,:,i]=znO[:,:]"
   ]
  },
  {
   "cell_type": "code",
   "execution_count": 15,
   "metadata": {
    "collapsed": false
   },
   "outputs": [
    {
     "name": "stdout",
     "output_type": "stream",
     "text": [
      "Time: 0.012647151947021484\n",
      "Answers are the same? True\n"
     ]
    }
   ],
   "source": [
    "t1=time.time()\n",
    "for i in range(N):\n",
    "  tmp=np.dot(1j,omega)\n",
    "  zn=np.repeat(tmp[:,np.newaxis]*mu0, nL1, 1)\n",
    "tb=time.time()-t1\n",
    "print('Time: '+str(tb))\n",
    "print('Answers are the same? '+str(np.linalg.norm(znO-zn.T)==0.0))"
   ]
  },
  {
   "cell_type": "code",
   "execution_count": 16,
   "metadata": {
    "collapsed": false
   },
   "outputs": [
    {
     "name": "stdout",
     "output_type": "stream",
     "text": [
      "Time: 0.038178205490112305\n",
      "Answers are the same? True\n"
     ]
    }
   ],
   "source": [
    "t1=time.time()\n",
    "for i in range(N):\n",
    "  znP=np.repeat(zn[:,np.newaxis,:],J.nC,axis=1)\n",
    "  #znPB=znPB.swapaxes(0,2)\n",
    "tb=time.time()-t1\n",
    "print('Time: '+str(tb))\n",
    "dum=znP.swapaxes(0,1)\n",
    "dum=dum.swapaxes(0,2)\n",
    "print('Answers are the same? '+str(np.linalg.norm(znPO-dum)==0.0))"
   ]
  },
  {
   "cell_type": "markdown",
   "metadata": {},
   "source": [
    "#### Un Section"
   ]
  },
  {
   "cell_type": "code",
   "execution_count": 17,
   "metadata": {
    "collapsed": false
   },
   "outputs": [
    {
     "name": "stdout",
     "output_type": "stream",
     "text": [
      "Time: 1.2904410362243652\n"
     ]
    }
   ],
   "source": [
    "# Old section of code\n",
    "t1=time.time()\n",
    "for i in range(N):\n",
    "  unO=StatArray([nLayers+1,S.nFreq,J.nC],\"un\",\"N/A\",np.complex128)\n",
    "  for i in range(nLayers+1):\n",
    "    unO[i,:,:]=np.sqrt(lamSq+(znPO[i,:,:]*ynPO[i,:,:]))\n",
    "tb=time.time()-t1\n",
    "print('Time: '+str(tb))\n"
   ]
  },
  {
   "cell_type": "code",
   "execution_count": 18,
   "metadata": {
    "collapsed": false
   },
   "outputs": [
    {
     "name": "stdout",
     "output_type": "stream",
     "text": [
      "Time: 0.5643892288208008\n",
      "Speed up: 2.2864381003877967\n",
      "Answers are the same? True\n"
     ]
    }
   ],
   "source": [
    "# New section\n",
    "from math import sqrt\n",
    "t1=time.time()\n",
    "for i in range(N):\n",
    "  zy=np.multiply(zn,yn)\n",
    "  un=np.sqrt(np.repeat(zy[:,np.newaxis,:],J.nC,axis=1)+lamSq[:,:,np.newaxis])\n",
    "ta=time.time()-t1\n",
    "print('Time: '+str(ta))\n",
    "dum=un.swapaxes(0,1)\n",
    "dum=dum.swapaxes(0,2)\n",
    "print('Speed up: '+str(tb/ta))\n",
    "print('Answers are the same? '+str(np.linalg.norm(unO-dum)==0.0))"
   ]
  },
  {
   "cell_type": "code",
   "execution_count": 19,
   "metadata": {
    "collapsed": false
   },
   "outputs": [],
   "source": [
    "Yn=un/znP"
   ]
  },
  {
   "cell_type": "code",
   "execution_count": 20,
   "metadata": {
    "collapsed": false
   },
   "outputs": [
    {
     "name": "stdout",
     "output_type": "stream",
     "text": [
      "Time using toList(): 0.6135752201080322\n"
     ]
    }
   ],
   "source": [
    "# Old section of code\n",
    "t1=time.time()\n",
    "for i in range(N):\n",
    "  YO = YnO[1:].tolist()      \n",
    "  # Insert the response from the airlayer\n",
    "  YO.insert(0, np.ones((S.nFreq, J.nC)) * np.float64('NaN'))\n",
    "ta=time.time()-t1\n",
    "print('Time using toList(): '+str(ta))"
   ]
  },
  {
   "cell_type": "code",
   "execution_count": 21,
   "metadata": {
    "collapsed": false
   },
   "outputs": [
    {
     "name": "stdout",
     "output_type": "stream",
     "text": [
      "Time without lists: 0.03302907943725586\n",
      "Speed up: 18.576818687109302\n",
      "Single iteration time: 3.302907943725586e-05\n"
     ]
    }
   ],
   "source": [
    "# New section\n",
    "t1=time.time()\n",
    "for i in range(N):\n",
    "  Y=np.zeros([S.nFreq,J.nC,nL1],dtype=np.complex128)\n",
    "  Y[:,:,nLayers]=Yn[:,:,nLayers]\n",
    "  Y[:,:,0]=np.NAN\n",
    "tb=time.time()-t1\n",
    "print('Time without lists: '+str(tb))\n",
    "print('Speed up: '+str(ta/tb))\n",
    "print('Single iteration time: '+str(tb/N))"
   ]
  },
  {
   "cell_type": "markdown",
   "metadata": {},
   "source": [
    "#### Forward Modelling Options"
   ]
  },
  {
   "cell_type": "code",
   "execution_count": 22,
   "metadata": {
    "collapsed": false
   },
   "outputs": [],
   "source": [
    "def M0_0(Yn,Y,un):\n",
    "  u0=un[:,:,0]\n",
    "  #print(un.shape)\n",
    "  #print(u0.shape)\n",
    "  rTE=(Yn[:,:,0]-Y[:,:,1])/(Yn[:,:,0]+Y[:,:,1])\n",
    "  return (rTE,u0)"
   ]
  },
  {
   "cell_type": "code",
   "execution_count": 23,
   "metadata": {
    "collapsed": false
   },
   "outputs": [],
   "source": [
    "def M1_0(Yn,Y,un,thk):\n",
    "    nL=thk.size-1\n",
    "    for i in reversed(range(1,nL)):\n",
    "      tanuh=np.tanh(un[:,:,i]*thk[i])\n",
    "      #tanuh=cm.tanh(unA[:,:,i]*thk[i])\n",
    "      num=Y[:,:,i+1]+(Yn[:,:,i]*tanuh)\n",
    "      den=Yn[:,:,i]+(Y[:,:,i+1]*tanuh)\n",
    "      Y[:,:,i]=Yn[:,:,i]*(num/den)\n",
    "    return M0_0(Yn,Y,un)"
   ]
  },
  {
   "cell_type": "code",
   "execution_count": 24,
   "metadata": {
    "collapsed": false
   },
   "outputs": [
    {
     "name": "stdout",
     "output_type": "stream",
     "text": [
      "Time for new code: 2.7306759357452393\n"
     ]
    }
   ],
   "source": [
    "N=1000\n",
    "t1=time.time()\n",
    "for i in range(N):\n",
    "  Y[:,:,nLayers]=Yn[:,:,nLayers]\n",
    "  Y[:,:,0]=np.NAN\n",
    "  rTE,u0 = M1_0(Yn,Y,un,thk)\n",
    "tb=time.time()-t1\n",
    "print('Time for new code: '+str(tb))"
   ]
  },
  {
   "cell_type": "markdown",
   "metadata": {},
   "source": [
    "#### Sensitivity Options"
   ]
  },
  {
   "cell_type": "code",
   "execution_count": 25,
   "metadata": {
    "collapsed": false
   },
   "outputs": [
    {
     "name": "stdout",
     "output_type": "stream",
     "text": [
      "Time for old code: 7.563003063201904\n"
     ]
    }
   ],
   "source": [
    "N=10000\n",
    "# Old code\n",
    "t1=time.time()\n",
    "for i in range(N):\n",
    "  dYdlogcon = con[-1] / (np.dot(2.0,un[1:]))\n",
    "  dYdlogcon = dYdlogcon.tolist()\n",
    "  dYdlogcon.insert(0, (np.ones((S.nFreq, J.nC)) * float('NaN')).tolist())\n",
    "ta=time.time()-t1\n",
    "print('Time for old code: '+str(ta))"
   ]
  },
  {
   "cell_type": "code",
   "execution_count": 26,
   "metadata": {
    "collapsed": false
   },
   "outputs": [
    {
     "name": "stdout",
     "output_type": "stream",
     "text": [
      "Time for new code: 0.3552231788635254\n",
      "Speed up: 21.290849002022934\n"
     ]
    }
   ],
   "source": [
    "# New code\n",
    "t1=time.time()\n",
    "for i in range(N):\n",
    "  dydp=np.zeros([S.nFreq,J.nC,nL1],dtype=np.complex128)\n",
    "  dydp[:,:,-1]=con[-1]/(2.0*un[:,:,-1])\n",
    "  dydp[:,:,0]=np.NAN\n",
    "tb=time.time()-t1\n",
    "print('Time for new code: '+str(tb))\n",
    "print('Speed up: '+str(ta/tb))"
   ]
  },
  {
   "cell_type": "code",
   "execution_count": 27,
   "metadata": {
    "collapsed": true
   },
   "outputs": [],
   "source": [
    "def M0_1(Yn,Y,un,dydp):\n",
    "    rTE,u0=M0_0(Yn,Y,un)\n",
    "    sens=-2.0*Yn[:,:,0]*dydp[:,:,1]/(Yn[:,:,0] + Y[:,:,1])**2.0\n",
    "    return (rTE,u0,sens)"
   ]
  },
  {
   "cell_type": "code",
   "execution_count": 28,
   "metadata": {
    "collapsed": false
   },
   "outputs": [
    {
     "name": "stdout",
     "output_type": "stream",
     "text": [
      "Time for new code: 0.5651381015777588\n"
     ]
    }
   ],
   "source": [
    "N=10000\n",
    "t1=time.time()\n",
    "for i in range(N):\n",
    "  Y[:,:,nLayers]=Yn[:,:,nLayers]\n",
    "  Y[:,:,0]=np.NAN\n",
    "  rTE,u0,sens = M0_1(Yn,Y,un,dydp)\n",
    "tb=time.time()-t1\n",
    "print('Time for new code: '+str(tb))"
   ]
  },
  {
   "cell_type": "code",
   "execution_count": 29,
   "metadata": {
    "collapsed": false
   },
   "outputs": [],
   "source": [
    "def M1_1(Yn,Y,un,tmp,thk,con,dydp):\n",
    "    dum=np.repeat(tmp[:,np.newaxis],np.size(Yn,1),1)*mu0\n",
    "    dydy = np.ones(dydp.shape,dtype=np.complex128)\n",
    "    nL=thk.size-1\n",
    "    for i in reversed(range(1,nL)):\n",
    "      i1=i+1\n",
    "      tanuh=np.tanh(un[:,:,i]*thk[i])\n",
    "      num=Y[:,:,i1]+(Yn[:,:,i]*tanuh)\n",
    "      den=Yn[:,:,i]+(Y[:,:,i1]*tanuh)\n",
    "      Y[:,:,i]=Yn[:,:,i]*(num/den)\n",
    "      # Temporary variables\n",
    "      dum1=dum*thk[i]   ; a0=Y[:,:,i1]**2.0\n",
    "      b0=Yn[:,:,i]**2.0 ; c0=tanuh**2.0\n",
    "      a1=Yn[:,:,i]*a0   ; a2=Yn[:,:,i]**3.0\n",
    "      a3=a1-a2 ; t1=(con[i]/(2.0*un[:,:,i]*(den**2.0)))\n",
    "      t6=dum1*a3\n",
    "      t2=(2.0*Yn[:,:,i]*Y[:,:,i1]*c0) ; t3=t6*c0\n",
    "      t4=((a0-b0)*tanuh)+2.0*b0 ; t5=(-t6)\n",
    "      # dY(i)/d(ln(con(i)))\n",
    "      dydp[:,:,i-1]=t1 *(t2 + t3 + t4 + t5)\n",
    "      # dY(i)/dY(i+1)\n",
    "      num1=b0*(1.0-c0)\n",
    "      den1=den**-2.0\n",
    "      dydy[:,:,i]=num1*den1\n",
    "    u0=un[:,:,0]\n",
    "    dum=(Yn[:,:,0]+Y[:,:,1])**-1.0\n",
    "    rTE=(Yn[:,:,0]-Y[:,:,1])*dum\n",
    "    dum1=Yn[:,:,0]\n",
    "    num=-2.0*np.repeat(dum1[:,:,np.newaxis],nLayers,2)\n",
    "    dum1=dum**2.0\n",
    "    den=np.repeat(dum1[:,:,np.newaxis],nLayers,2)\n",
    "    sens=num*dydp*np.cumprod(dydy,2)*den\n",
    "    return (rTE,u0,sens)"
   ]
  },
  {
   "cell_type": "code",
   "execution_count": 30,
   "metadata": {
    "collapsed": false
   },
   "outputs": [
    {
     "name": "stdout",
     "output_type": "stream",
     "text": [
      "Time: 0.5729730129241943\n",
      "This is half time of matlab\n"
     ]
    }
   ],
   "source": [
    "N=100\n",
    "t1=time.time()\n",
    "for i in range(N):\n",
    "  # Initialize\n",
    "  Y[:,:,nLayers]=Yn[:,:,nLayers]\n",
    "  Y[:,:,0]=np.NAN\n",
    "  dydp=np.zeros([S.nFreq,J.nC,nLayers],dtype=np.complex128)\n",
    "  dydp[:,:,nLayers-1]=con[-1]/(2.0*un[:,:,nLayers])    \n",
    "  rTE,u0,sens=M1_1(Yn,Y,un,tmp,thk,con,dydp)\n",
    "tb=time.time()-t1\n",
    "print('Time: '+str(tb))\n",
    "print('This is half time of matlab')"
   ]
  },
  {
   "cell_type": "code",
   "execution_count": 31,
   "metadata": {
    "collapsed": true
   },
   "outputs": [],
   "source": [
    "def calcrTEsens(S, J, M, computeSens):\n",
    "    \"\"\" Calculate the reflection coefficient according to Ward and Hohmann, EM theory for geophysical applications\n",
    "    B. Minsley, June 2010\n",
    "    S:  : EmSystem Class\n",
    "    J:  : Bessel Function Filter Parameters\n",
    "    M:  : 1D Layered Model\n",
    "    computeSens: : True or False\n",
    "    \"\"\"\n",
    "    # Get the number of layers in the model\n",
    "    nLayers=M.nCells[0]\n",
    "    nL1=nLayers+1\n",
    "\n",
    "    lamSq=J.lam**2.0\n",
    "\n",
    "    # Compute the angular frequencies from the system frequencies \n",
    "    omega=np.zeros(S.nFreq)\n",
    "    omega+=2.0*np.pi*S.freq[:]\n",
    "\n",
    "    # Create temporary variables and insert parameters at the beginning\n",
    "    con=np.zeros(nLayers+1);con[0]=0.0;con[1:]=M.par[:]\n",
    "    chim=np.zeros(nLayers+1);chim[0]=0.0;chim[1:]=M.chim[:]\n",
    "    thk=np.zeros(nLayers+1);thk[0]=np.NAN;thk[1:]=M.thk[:]\n",
    "       \n",
    "    # Build an array of responses per layer\n",
    "    tmp=np.dot(1j,omega)\n",
    "    # Compute the Admitivity, yn=j*omega*eps+sigma\n",
    "    yn=np.repeat(tmp[:,np.newaxis]*eps0, nL1, 1)+con\n",
    "#    ynP=np.repeat(yn[:,:,np.newaxis],J.nC,axis=2)\n",
    "    zn=np.repeat(tmp[:,np.newaxis]*mu0, nL1, 1)\n",
    "    znP=np.repeat(zn[:,np.newaxis,:],J.nC,axis=1)\n",
    "    zy=np.multiply(zn,yn)\n",
    "    un=np.sqrt(np.repeat(zy[:,np.newaxis,:],J.nC,axis=1)+lamSq[:,:,np.newaxis])\n",
    "    Yn=un/znP\n",
    "    \n",
    "    Y=np.zeros([S.nFreq,J.nC,nL1],dtype=np.complex128)\n",
    "    Y[:,:,nLayers]=Yn[:,:,nLayers]\n",
    "    Y[:,:,0]=np.NAN\n",
    "        \n",
    "    if computeSens == 0:\n",
    "      if nLayers == 1:\n",
    "        return M0_0(Yn,Y,un) \n",
    "      return M1_0(Yn,Y,un,thk) \n",
    "    else:\n",
    "      dydp=np.zeros([S.nFreq,J.nC,nLayers],dtype=np.complex128)\n",
    "      dydp[:,:,nLayers-1]=con[-1]/(2.0*un[:,:,nLayers])    \n",
    "      if nLayers == 1:\n",
    "        return M0_1(Yn,Y,un,dydp)  \n",
    "      return M1_1(Yn,Y,un,tmp,thk,con,dydp)"
   ]
  },
  {
   "cell_type": "markdown",
   "metadata": {},
   "source": [
    "#### Sanity Check"
   ]
  },
  {
   "cell_type": "code",
   "execution_count": 32,
   "metadata": {
    "collapsed": false
   },
   "outputs": [],
   "source": [
    "# calculate reflection coefficient\n",
    "if useJ0:\n",
    "  # *** calcrTEsens.py only returns two variables for flg == 0 *** \n",
    "  varargin = calcrTEsens(S, S.H.J0, mod, computeSens)\n",
    "  rTEj0 = varargin[0]\n",
    "  u0j0 = varargin[1]\n",
    "            \n",
    "if useJ1:\n",
    "  # *** calcrTEsens.py only returns two variables for flg == 0 *** \n",
    "  varargin = calcrTEsens(S, S.H.J1, mod, computeSens)\n",
    "  rTEj1 = varargin[0]\n",
    "  u0j1 = varargin[1]"
   ]
  },
  {
   "cell_type": "code",
   "execution_count": 33,
   "metadata": {
    "collapsed": false
   },
   "outputs": [],
   "source": [
    "# calculate reflection coefficient\n",
    "if useJ0:\n",
    "  # *** calcrTEsens.py only returns two variables for flg == 1 *** \n",
    "  varargin = calcrTEsens(S, S.H.J0, mod, True)\n",
    "  rTEj0Flg1=(varargin[0])\n",
    "  u0j0Flg1=(varargin[1])\n",
    "  drTEdlogconj0Flg1=(varargin[2])\n",
    "if useJ1:\n",
    "  # *** calcrTEsens.py only returns two variables for flg == 1 *** \n",
    "  varargin = calcrTEsens(S, S.H.J1,mod, True)\n",
    "  rTEj1Flg1=(varargin[0])\n",
    "  u0j1Flg1=(varargin[1])\n",
    "  drTEdlogconj1Flg1=(varargin[2])"
   ]
  },
  {
   "cell_type": "markdown",
   "metadata": {},
   "source": [
    "#### Hzz Section"
   ]
  },
  {
   "cell_type": "code",
   "execution_count": 34,
   "metadata": {
    "collapsed": false
   },
   "outputs": [],
   "source": [
    "def calcHzz(i,S,z,rTEin,u0in,J):\n",
    "  # Parse out the necessary components\n",
    "  nComps=len(i)\n",
    "  height=np.zeros(nComps) ; rHeight=np.zeros(nComps)\n",
    "  tMom=np.zeros(nComps)\n",
    "  for j in range(nComps):\n",
    "    height[j]=-z+S.T[i[j]].off\n",
    "    rHeight[j]=z+S.R[i[j]].off\n",
    "    tMom[j]=S.T[i[j]].moment\n",
    "  H=np.repeat(height[:,np.newaxis],J.nC,1)\n",
    "  Z=np.repeat(rHeight[:,np.newaxis],J.nC,1)\n",
    "  dist=S.dist[i]\n",
    "  rTE=rTEin[i,:]\n",
    "  u0=u0in[i,:]\n",
    "  lam=J.lam[i,:]\n",
    "  # Temporary variables\n",
    "  a0=np.exp(-u0*(Z+H))\n",
    "  a1=lam**3.0/u0\n",
    "  a2=(tMom/(4.0*np.pi))/dist\n",
    "  # Equation 4.46K(lam)\n",
    "  K=(a0+rTE*np.exp(u0*(Z-H)))*a1\n",
    "  Hzz=a2*(np.dot(K,J.W[:]))\n",
    "  # Free-Space response\n",
    "  K0=a0*a1\n",
    "  Hzz0=a2*(np.dot(K0,J.W[:]))\n",
    "  return Hzz,Hzz0"
   ]
  },
  {
   "cell_type": "code",
   "execution_count": 35,
   "metadata": {
    "collapsed": false
   },
   "outputs": [],
   "source": [
    "Hzz,Hzz0=calcHzz(zz,S,z0,rTEj0,u0j0,S.H.J0)"
   ]
  },
  {
   "cell_type": "code",
   "execution_count": 36,
   "metadata": {
    "collapsed": false
   },
   "outputs": [],
   "source": [
    "def calcHxx(i,S,z,rTEin0,rTEin1,u0in0,u0in1,J0,J1):\n",
    "  # Parse out the necessary components\n",
    "  nComps=len(i)\n",
    "  height=np.zeros(nComps) ; rHeight=np.zeros(nComps)\n",
    "  tMom=np.zeros(nComps)\n",
    "  rx=np.zeros(nComps)\n",
    "  for j in range(nComps):\n",
    "    height[j]=-z+S.T[i[j]].off\n",
    "    rHeight[j]=z+S.R[i[j]].off\n",
    "    tMom[j]=S.T[i[j]].moment\n",
    "    rx[j]=S.R[i[j]].tx    \n",
    "  dist=S.dist[i]\n",
    "  H0=np.repeat(height[:,np.newaxis],J0.nC,1)\n",
    "  Z0=np.repeat(rHeight[:,np.newaxis],J0.nC,1)   \n",
    "  lam0=J0.lam[i,:]\n",
    "  rTE0=rTEin0[i,:]\n",
    "  u0=u0in0[i,:]   \n",
    "  H1=np.repeat(height[:,np.newaxis],J1.nC,1)\n",
    "  Z1=np.repeat(rHeight[:,np.newaxis],J1.nC,1)     \n",
    "  lam1=J1.lam[i,:]\n",
    "  rTE1=rTEin1[i,:]\n",
    "  u1=u0in1[i,:]\n",
    "  # Temporary variables\n",
    "  a0=np.exp(-lam0*(Z0+H0))\n",
    "  a1=lam0**2.0\n",
    "  b0=np.exp(-lam1*(Z1+H1))\n",
    "  tmp=1.0/dist\n",
    "  c0=-(tMom/(4.0*np.pi))*tmp\n",
    "  d0=c0*((rx*tmp)**2.0)\n",
    "  d1=c0*((tmp)-((2.0*rx**2.0)/(dist**3.0)))\n",
    "  # K(lam) equaion 4.46\n",
    "  Ka=(a0-rTE0*np.exp(lam0*(Z0-H0)))*a1\n",
    "  Kb=(b0-rTE1*np.exp(lam1*(Z1-H1)))*lam1\n",
    "\n",
    "  HxxA=d0*(np.dot(Ka,J0.W[:]))\n",
    "  HxxB=d1*(np.dot(Kb,J1.W[:]))\n",
    "    \n",
    "  Hxx=HxxA+HxxB\n",
    "\n",
    "  # Free-Space\n",
    "  Ka=a0*a1\n",
    "  Kb=b0*lam1\n",
    "\n",
    "  HxxA=d0*(np.dot(Ka,J0.W[:]))\n",
    "  HxxB=d1*(np.dot(Kb,J1.W[:]))\n",
    "    \n",
    "  Hxx0=HxxA+HxxB\n",
    "  return Hxx,Hxx0"
   ]
  },
  {
   "cell_type": "code",
   "execution_count": 37,
   "metadata": {
    "collapsed": true
   },
   "outputs": [],
   "source": [
    "Hxx,Hxx0=calcHxx(xx, S, z0, rTEj0, rTEj1, u0j0, u0j1,  S.H.J0,  S.H.J1)"
   ]
  },
  {
   "cell_type": "code",
   "execution_count": 38,
   "metadata": {
    "collapsed": false
   },
   "outputs": [],
   "source": [
    "H=np.zeros(S.nFreq,dtype=np.complex128) ; H0=np.zeros(S.nFreq,dtype=np.complex128)\n",
    "if (len(zz) != 0): # Horizontal Co-Planar Coils\n",
    "  H[zz], H0[zz] = calcHzz(zz, S, z0, rTEj0, u0j0,  S.H.J0)\n",
    "if (len(xx) != 0): # Vertical Co-Axial Coils\n",
    "  H[xx], H0[xx] = calcHxx(xx, S, z0, rTEj0, rTEj1, u0j0, u0j1,  S.H.J0,  S.H.J1)\n",
    "prd=1.e6*((H-H0)/H0)*scl"
   ]
  },
  {
   "cell_type": "code",
   "execution_count": 39,
   "metadata": {
    "collapsed": false
   },
   "outputs": [],
   "source": [
    "dH=np.zeros([S.nFreq,nLayers],dtype=np.complex128)\n",
    "dH0=np.zeros([S.nFreq,nLayers],dtype=np.complex128)\n",
    "\n",
    "for i in range(nLayers):\n",
    "  if (len(zz) != 0): # Horizontal Co-Planar Coils\n",
    "    dH[zz,i], dH0[zz,i] = calcHzz(zz, S, z0, drTEdlogconj0Flg1[:,:,i], u0j0Flg1, S.H.J0)\n",
    "  if (len(xx) != 0): # Vertical Co-Axial Coils\n",
    "    dH[xx,i], dH0[xx,i] = calcHxx(xx, S, z0, drTEdlogconj0Flg1[:,:,i], drTEdlogconj1Flg1[:,:,i], u0j0Flg1, u0j1Flg1, S.H.J0, S.H.J1)\n",
    "scl=tMom*rMom\n",
    "J=1.e6*np.divide((dH-dH0),dH0)\n",
    "J*=np.repeat(scl[:,np.newaxis],nLayers,1)"
   ]
  },
  {
   "cell_type": "code",
   "execution_count": 40,
   "metadata": {
    "collapsed": false
   },
   "outputs": [
    {
     "data": {
      "text/plain": [
       "array([  6.96411850e-15 -9.39318463e-15j,\n",
       "         9.23547380e-28 +1.06824440e-16j,\n",
       "         4.26357210e-15 -2.99943887e-16j,\n",
       "        -1.71750459e-25 -4.26871405e-17j,\n",
       "        -1.54981760e-29 -1.60769010e-22j,  -0.00000000e+00 -0.00000000e+00j])"
      ]
     },
     "execution_count": 40,
     "metadata": {},
     "output_type": "execute_result"
    }
   ],
   "source": [
    "i=30-1\n",
    "(dH[:,i]-dH0[:,i])/dH0[:,i]"
   ]
  },
  {
   "cell_type": "code",
   "execution_count": null,
   "metadata": {
    "collapsed": true
   },
   "outputs": [],
   "source": []
  },
  {
   "cell_type": "code",
   "execution_count": null,
   "metadata": {
    "collapsed": true
   },
   "outputs": [],
   "source": []
  },
  {
   "cell_type": "code",
   "execution_count": null,
   "metadata": {
    "collapsed": true
   },
   "outputs": [],
   "source": []
  },
  {
   "cell_type": "code",
   "execution_count": null,
   "metadata": {
    "collapsed": true
   },
   "outputs": [],
   "source": []
  },
  {
   "cell_type": "code",
   "execution_count": null,
   "metadata": {
    "collapsed": true
   },
   "outputs": [],
   "source": []
  }
 ],
 "metadata": {
  "anaconda-cloud": {},
  "kernelspec": {
   "display_name": "Python [py35]",
   "language": "python",
   "name": "Python [py35]"
  },
  "language_info": {
   "codemirror_mode": {
    "name": "ipython",
    "version": 3
   },
   "file_extension": ".py",
   "mimetype": "text/x-python",
   "name": "python",
   "nbconvert_exporter": "python",
   "pygments_lexer": "ipython3",
   "version": "3.5.2"
  }
 },
 "nbformat": 4,
 "nbformat_minor": 0
}
