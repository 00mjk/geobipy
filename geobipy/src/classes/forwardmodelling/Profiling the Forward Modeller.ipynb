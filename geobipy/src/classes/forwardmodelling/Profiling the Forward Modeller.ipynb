{
 "cells": [
  {
   "cell_type": "markdown",
   "metadata": {},
   "source": [
    "# Profiling the EM forward modelling code\n",
    "##### The Em forward modeller is already quite fast, however a quick and dirty profiling might show obvious areas for computation time reduction."
   ]
  },
  {
   "cell_type": "code",
   "execution_count": 1,
   "metadata": {
    "collapsed": false
   },
   "outputs": [
    {
     "ename": "ImportError",
     "evalue": "No module named setupPackage",
     "output_type": "error",
     "traceback": [
      "\u001b[1;31m---------------------------------------------------------------------------\u001b[0m",
      "\u001b[1;31mImportError\u001b[0m                               Traceback (most recent call last)",
      "\u001b[1;32m<ipython-input-1-bcf8bdb8eb5d>\u001b[0m in \u001b[0;36m<module>\u001b[1;34m()\u001b[0m\n\u001b[0;32m      1\u001b[0m \u001b[0mget_ipython\u001b[0m\u001b[1;33m(\u001b[0m\u001b[1;33m)\u001b[0m\u001b[1;33m.\u001b[0m\u001b[0mmagic\u001b[0m\u001b[1;33m(\u001b[0m\u001b[1;34mu'matplotlib inline'\u001b[0m\u001b[1;33m)\u001b[0m\u001b[1;33m\u001b[0m\u001b[0m\n\u001b[1;32m----> 2\u001b[1;33m \u001b[1;32mimport\u001b[0m \u001b[0msetupPackage\u001b[0m\u001b[1;33m\u001b[0m\u001b[0m\n\u001b[0m\u001b[0;32m      3\u001b[0m \u001b[1;32mimport\u001b[0m \u001b[0mnumpy\u001b[0m \u001b[1;32mas\u001b[0m \u001b[0mnp\u001b[0m\u001b[1;33m\u001b[0m\u001b[0m\n\u001b[0;32m      4\u001b[0m \u001b[1;32mfrom\u001b[0m \u001b[0mEMdata\u001b[0m \u001b[1;32mimport\u001b[0m \u001b[0mEMdata\u001b[0m\u001b[1;33m\u001b[0m\u001b[0m\n\u001b[0;32m      5\u001b[0m \u001b[1;32mfrom\u001b[0m \u001b[0mModel1D\u001b[0m \u001b[1;32mimport\u001b[0m \u001b[0mModel1D\u001b[0m\u001b[1;33m\u001b[0m\u001b[0m\n",
      "\u001b[1;31mImportError\u001b[0m: No module named setupPackage"
     ]
    }
   ],
   "source": [
    "%matplotlib inline\n",
    "import setupPackage\n",
    "import numpy as np\n",
    "from EMdata import EMdata\n",
    "from Model1D import Model1D\n",
    "from StatArray import StatArray\n",
    "import cProfile\n",
    "import re"
   ]
  },
  {
   "cell_type": "code",
   "execution_count": 8,
   "metadata": {
    "collapsed": true
   },
   "outputs": [],
   "source": [
    "# The data file name\n",
    "dataFile='../Data/EMdata.csv'\n",
    "# The EM system file name\n",
    "systemFile=\"../Data/hemSystem.txt\""
   ]
  },
  {
   "cell_type": "code",
   "execution_count": 9,
   "metadata": {
    "collapsed": false
   },
   "outputs": [],
   "source": [
    "D=EMdata()\n",
    "D.read(dataFile,systemFile)"
   ]
  },
  {
   "cell_type": "code",
   "execution_count": 10,
   "metadata": {
    "collapsed": true
   },
   "outputs": [],
   "source": [
    "P=D.getDataPoint(0)"
   ]
  },
  {
   "cell_type": "code",
   "execution_count": 11,
   "metadata": {
    "collapsed": false
   },
   "outputs": [],
   "source": [
    "mod=Model1D()\n",
    "vals=[0.89826026284,0.474581637356,0.621025662597,0.902223264721,3.19302638142,0.589951564379,1.82330716523,0.350463773393,1.7393439851,2.67649691775]\n",
    "mod.maketest(9,'Conductivity','S$m^{-1}$')\n",
    "mod.par[:]=vals[:]\n",
    "mod.thk[:]=10.0*(np.abs(vals[:]))\n",
    "mod.getDepths()"
   ]
  },
  {
   "cell_type": "code",
   "execution_count": 12,
   "metadata": {
    "collapsed": false
   },
   "outputs": [
    {
     "name": "stdout",
     "output_type": "stream",
     "text": [
      "         19567 function calls in 0.032 seconds\n",
      "\n",
      "   Ordered by: standard name\n",
      "\n",
      "   ncalls  tottime  percall  cumtime  percall filename:lineno(function)\n",
      "        1    0.000    0.000    0.032    0.032 <string>:1(<module>)\n",
      "        1    0.000    0.000    0.032    0.032 EMdataPoint.py:219(forward)\n",
      "        1    0.000    0.000    0.032    0.032 EMdataPoint.py:234(_forward1D)\n",
      "        2    0.006    0.003    0.031    0.015 EMfor1D_F.py:179(calcrTEsens)\n",
      "        1    0.000    0.000    0.000    0.000 EMfor1D_F.py:19(__init__)\n",
      "        2    0.000    0.000    0.000    0.000 EMfor1D_F.py:300(M0_0)\n",
      "        2    0.015    0.008    0.020    0.010 EMfor1D_F.py:312(M1_0)\n",
      "        1    0.000    0.000    0.001    0.001 EMfor1D_F.py:373(calcHzz)\n",
      "        2    0.000    0.000    0.000    0.000 EMfor1D_F.py:41(update)\n",
      "        1    0.000    0.000    0.000    0.000 EMfor1D_F.py:430(calcHxx)\n",
      "        1    0.000    0.000    0.032    0.032 EMfor1D_F.py:77(fdem1dfwd)\n",
      "       15    0.001    0.000    0.001    0.000 StatArray.py:22(__new__)\n",
      "     1738    0.002    0.000    0.003    0.000 StatArray.py:47(__array_finalize__)\n",
      "        1    0.000    0.000    0.000    0.000 System.py:73(getComponentID)\n",
      "       10    0.000    0.000    0.000    0.000 System.py:76(<genexpr>)\n",
      "        2    0.000    0.000    0.000    0.000 fromnumeric.py:2659(size)\n",
      "        6    0.000    0.000    0.000    0.000 function_base.py:4312(insert)\n",
      "        2    0.000    0.000    0.000    0.000 iostream.py:102(_check_mp_mode)\n",
      "        2    0.000    0.000    0.000    0.000 iostream.py:207(write)\n",
      "        2    0.000    0.000    0.000    0.000 iostream.py:93(_is_master_process)\n",
      "        2    0.000    0.000    0.000    0.000 linecache.py:13(getline)\n",
      "        2    0.000    0.000    0.000    0.000 linecache.py:33(getlines)\n",
      "        1    0.000    0.000    0.000    0.000 linecache.py:72(updatecache)\n",
      "        6    0.000    0.000    0.000    0.000 numeric.py:1404(rollaxis)\n",
      "        6    0.000    0.000    0.000    0.000 numeric.py:148(ones)\n",
      "       41    0.000    0.000    0.001    0.000 numeric.py:414(asarray)\n",
      "        2    0.000    0.000    0.000    0.000 utf_8.py:15(decode)\n",
      "        2    0.000    0.000    0.000    0.000 warnings.py:25(_show_warning)\n",
      "        2    0.000    0.000    0.000    0.000 warnings.py:40(formatwarning)\n",
      "        2    0.000    0.000    0.000    0.000 {_codecs.utf_8_decode}\n",
      "       15    0.000    0.000    0.001    0.000 {built-in method __new__ of type object at 0x100186920}\n",
      "    14040    0.004    0.000    0.004    0.000 {cmath.tanh}\n",
      "     3446    0.001    0.000    0.001    0.000 {getattr}\n",
      "       28    0.000    0.000    0.000    0.000 {isinstance}\n",
      "        4    0.000    0.000    0.000    0.000 {len}\n",
      "        6    0.000    0.000    0.000    0.000 {method '__array_wrap__' of 'numpy.ndarray' objects}\n",
      "        6    0.000    0.000    0.000    0.000 {method 'append' of 'list' objects}\n",
      "        2    0.000    0.000    0.000    0.000 {method 'decode' of 'str' objects}\n",
      "        1    0.000    0.000    0.000    0.000 {method 'disable' of '_lsprof.Profiler' objects}\n",
      "        1    0.000    0.000    0.000    0.000 {method 'endswith' of 'str' objects}\n",
      "        2    0.000    0.000    0.000    0.000 {method 'flatten' of 'numpy.ndarray' objects}\n",
      "        2    0.000    0.000    0.000    0.000 {method 'insert' of 'list' objects}\n",
      "        6    0.000    0.000    0.000    0.000 {method 'item' of 'numpy.ndarray' objects}\n",
      "        1    0.000    0.000    0.000    0.000 {method 'readlines' of 'file' objects}\n",
      "        1    0.000    0.000    0.000    0.000 {method 'startswith' of 'str' objects}\n",
      "        2    0.000    0.000    0.000    0.000 {method 'strip' of 'str' objects}\n",
      "        6    0.000    0.000    0.000    0.000 {method 'tolist' of 'numpy.ndarray' objects}\n",
      "        2    0.000    0.000    0.000    0.000 {method 'write' of '_io.StringIO' objects}\n",
      "       53    0.001    0.000    0.001    0.000 {numpy.core.multiarray.array}\n",
      "        6    0.000    0.000    0.000    0.000 {numpy.core.multiarray.copyto}\n",
      "       58    0.000    0.000    0.001    0.000 {numpy.core.multiarray.dot}\n",
      "       12    0.000    0.000    0.000    0.000 {numpy.core.multiarray.empty}\n",
      "        1    0.000    0.000    0.000    0.000 {open}\n",
      "        2    0.000    0.000    0.000    0.000 {posix.getpid}\n",
      "        1    0.000    0.000    0.000    0.000 {posix.stat}\n",
      "        2    0.000    0.000    0.000    0.000 {range}\n",
      "        2    0.000    0.000    0.000    0.000 {time.time}\n",
      "\n",
      "\n"
     ]
    },
    {
     "name": "stderr",
     "output_type": "stream",
     "text": [
      "/Users/nfoks/Documents/Projects/Python/Base/StatArray.py:32: VisibleDeprecationWarning: converting an array with ndim > 0 to an index will result in an error in the future\n",
      "  self = np.ndarray.__new__(subtype, shape, dtype, buffer, offset, strides,order)\n",
      "/Users/nfoks/Documents/Projects/Python/Base/StatArray.py:39: VisibleDeprecationWarning: converting an array with ndim > 0 to an index will result in an error in the future\n",
      "  self.shape=shape\n"
     ]
    }
   ],
   "source": [
    "cProfile.run('P.forward(mod)')"
   ]
  },
  {
   "cell_type": "code",
   "execution_count": 13,
   "metadata": {
    "collapsed": false
   },
   "outputs": [
    {
     "ename": "SyntaxError",
     "evalue": "invalid syntax (<ipython-input-13-741b8b1b80b2>, line 1)",
     "output_type": "error",
     "traceback": [
      "\u001b[0;36m  File \u001b[0;32m\"<ipython-input-13-741b8b1b80b2>\"\u001b[0;36m, line \u001b[0;32m1\u001b[0m\n\u001b[0;31m    python -m cProfile EMfor1D_F.py\u001b[0m\n\u001b[0m                     ^\u001b[0m\n\u001b[0;31mSyntaxError\u001b[0m\u001b[0;31m:\u001b[0m invalid syntax\n"
     ]
    }
   ],
   "source": [
    "python -m cProfile EMfor1D_F.py"
   ]
  },
  {
   "cell_type": "code",
   "execution_count": null,
   "metadata": {
    "collapsed": true
   },
   "outputs": [],
   "source": []
  }
 ],
 "metadata": {
  "kernelspec": {
   "display_name": "Python 2",
   "language": "python",
   "name": "python2"
  },
  "language_info": {
   "codemirror_mode": {
    "name": "ipython",
    "version": 2
   },
   "file_extension": ".py",
   "mimetype": "text/x-python",
   "name": "python",
   "nbconvert_exporter": "python",
   "pygments_lexer": "ipython2",
   "version": "2.7.10"
  }
 },
 "nbformat": 4,
 "nbformat_minor": 0
}
