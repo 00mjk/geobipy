{
  "cells": [
    {
      "cell_type": "code",
      "execution_count": null,
      "metadata": {
        "collapsed": false
      },
      "outputs": [],
      "source": [
        "%matplotlib inline"
      ]
    },
    {
      "cell_type": "markdown",
      "metadata": {},
      "source": [
        "\n1D Model without an infinite halfspace\n--------------------------------------\n"
      ]
    },
    {
      "cell_type": "code",
      "execution_count": null,
      "metadata": {
        "collapsed": false
      },
      "outputs": [],
      "source": [
        "from geobipy import StatArray\nfrom geobipy import Model1D\nfrom geobipy import Distribution\nimport matplotlib.pyplot as plt\nimport numpy as np\nimport h5py\nfrom geobipy import hdfRead"
      ]
    },
    {
      "cell_type": "markdown",
      "metadata": {},
      "source": [
        "Make a test model with 10 layers, and increasing parameter values\n\n"
      ]
    },
    {
      "cell_type": "code",
      "execution_count": null,
      "metadata": {
        "collapsed": false
      },
      "outputs": [],
      "source": [
        "par = StatArray(np.linspace(0.001, 0.02, 10), \"Conductivity\", \"$\\\\frac{S}{m}$\")\nthk = StatArray(np.arange(1, 11))\nmod = Model1D(parameters=par, thickness=thk, hasHalfspace=False)"
      ]
    },
    {
      "cell_type": "markdown",
      "metadata": {},
      "source": [
        "Randomness and Model Perturbations\n++++++++++++++++++++++++++++++++++\nWe can set the priors on the 1D model by assigning minimum and maximum layer\ndepths and a maximum number of layers.  These are used to create priors on\nthe number of cells in the model, a new depth interface, new parameter values\nand the vertical gradient of those parameters.\nThe halfSpaceValue is used as a reference value for the parameter prior.\n\n"
      ]
    },
    {
      "cell_type": "code",
      "execution_count": null,
      "metadata": {
        "collapsed": false
      },
      "outputs": [],
      "source": [
        "prng = np.random.RandomState()\n# Set the priors\nmod.setPriors(halfSpaceValue = 0.01,\n              minDepth = 1.0, \n              maxDepth = 150.0, \n              maxLayers = 30, \n              parameterPrior = True, \n              gradientPrior = True, \n              prng = prng)"
      ]
    },
    {
      "cell_type": "markdown",
      "metadata": {},
      "source": [
        "To propose new models, we specify the probabilities of creating, removing, perturbing, and not changing\na layer interface\n\n"
      ]
    },
    {
      "cell_type": "code",
      "execution_count": null,
      "metadata": {
        "collapsed": false
      },
      "outputs": [],
      "source": [
        "pProposal = Distribution('LogNormal', 0.01, np.log(2.0)**2.0, linearSpace=True, prng=prng)\nmod.setProposals(probabilities = [0.25, 0.25, 0.25, 0.25], parameterProposal=pProposal, prng=prng)"
      ]
    },
    {
      "cell_type": "markdown",
      "metadata": {},
      "source": [
        "We can then perturb the layers of the model\nperturbed = mod.perturbStructure()\n\n"
      ]
    },
    {
      "cell_type": "code",
      "execution_count": null,
      "metadata": {
        "collapsed": false
      },
      "outputs": [],
      "source": [
        "remapped, perturbed = mod.perturb()"
      ]
    },
    {
      "cell_type": "code",
      "execution_count": null,
      "metadata": {
        "collapsed": false
      },
      "outputs": [],
      "source": [
        "fig = plt.figure(figsize=(8,6))\nax = plt.subplot(121)\nmod.pcolor(grid=True)\nax = plt.subplot(122)\nperturbed.pcolor(grid=True)"
      ]
    },
    {
      "cell_type": "markdown",
      "metadata": {},
      "source": [
        "We can evaluate the prior of the model using depths only\n\n"
      ]
    },
    {
      "cell_type": "code",
      "execution_count": null,
      "metadata": {
        "collapsed": false
      },
      "outputs": [],
      "source": [
        "print('Log probability of the Model given its priors: ', mod.priorProbability(False, False, log=True))\n# Or with priors on its parameters, and parameter gradient with depth.\nprint('Log probability of the Model given its priors: ', mod.priorProbability(True, True, log=True))"
      ]
    },
    {
      "cell_type": "markdown",
      "metadata": {},
      "source": [
        "Perturbing a model multiple times\n+++++++++++++++++++++++++++++++++\nIn the stochasitic inference process, we perturb the model structure, \nand parameter values, multiple times. \nEach time the model is perturbed, we can record its state\nin a posterior distribution.\n\nFor a 1D model, the parameter posterior is a 2D hitmap with depth in one dimension\nand the parameter value in the other.\nWe also attach a 1D histogram for the number of layers,\nand a 1D histogram for the locations of interfaces.\n\nSince we have already set the priors on the Model, we can set the posteriors\nbased on bins from from the priors.\n\n"
      ]
    },
    {
      "cell_type": "code",
      "execution_count": null,
      "metadata": {
        "collapsed": false
      },
      "outputs": [],
      "source": [
        "mod.setPosteriors()\n\nmod0 = mod.deepcopy()"
      ]
    },
    {
      "cell_type": "markdown",
      "metadata": {},
      "source": [
        "Now we randomly perturb the model, and update its posteriors.\n\n"
      ]
    },
    {
      "cell_type": "code",
      "execution_count": null,
      "metadata": {
        "collapsed": false
      },
      "outputs": [],
      "source": [
        "mod.updatePosteriors()\nfor i in range(1000):\n    remapped, perturbed = mod.perturb()\n\n    # And update the model posteriors\n    perturbed.updatePosteriors()\n\n    mod = perturbed"
      ]
    },
    {
      "cell_type": "markdown",
      "metadata": {},
      "source": [
        "We can now plot the posteriors of the model.\n\nRemember in this case, we are simply perturbing the model structure and parameter values\nThe proposal for the parameter values is fixed and centred around a single value.\n\n"
      ]
    },
    {
      "cell_type": "code",
      "execution_count": null,
      "metadata": {
        "collapsed": false
      },
      "outputs": [],
      "source": [
        "fig = plt.figure(figsize=(8, 6))\nplt.subplot(131)\nmod.nCells.posterior.plot()\nax = plt.subplot(132)\nmod.par.posterior.pcolor(cmap='gray_r', xscale='log', noColorbar=True, flipY=True)\nplt.subplot(133, sharey=ax)\nmod.depth.posterior.plot(rotate=True, flipY=True);"
      ]
    }
  ],
  "metadata": {
    "kernelspec": {
      "display_name": "Python 3",
      "language": "python",
      "name": "python3"
    },
    "language_info": {
      "codemirror_mode": {
        "name": "ipython",
        "version": 3
      },
      "file_extension": ".py",
      "mimetype": "text/x-python",
      "name": "python",
      "nbconvert_exporter": "python",
      "pygments_lexer": "ipython3",
      "version": "3.7.4"
    }
  },
  "nbformat": 4,
  "nbformat_minor": 0
}