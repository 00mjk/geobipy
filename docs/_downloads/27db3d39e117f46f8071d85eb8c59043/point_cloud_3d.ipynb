{
  "cells": [
    {
      "cell_type": "code",
      "execution_count": null,
      "metadata": {
        "collapsed": false
      },
      "outputs": [],
      "source": [
        "%matplotlib inline"
      ]
    },
    {
      "cell_type": "markdown",
      "metadata": {},
      "source": [
        "\n3D Point Cloud class\n--------------------\n\nThe 3D Point Cloud class extracts and utilizes the [Point](Point%20Class.ipynb) Class\n"
      ]
    },
    {
      "cell_type": "code",
      "execution_count": null,
      "metadata": {
        "collapsed": false
      },
      "outputs": [],
      "source": [
        "from geobipy import PointCloud3D\nfrom os.path import join\nimport numpy as np\nimport matplotlib.pyplot as plt\n# Initialize a 3D point cloud with N elements\nN=10\n# Instantiation pointcloud with an integer size N\nPC3D=PointCloud3D(N)"
      ]
    },
    {
      "cell_type": "markdown",
      "metadata": {},
      "source": [
        "Create a quick test example using random points\n$z=x(1-x)cos(4\\pi x)sin(4\\pi y^{2})^{2}$\n\n"
      ]
    },
    {
      "cell_type": "code",
      "execution_count": null,
      "metadata": {
        "collapsed": false
      },
      "outputs": [],
      "source": [
        "PC3D.maketest(8000)"
      ]
    },
    {
      "cell_type": "markdown",
      "metadata": {},
      "source": [
        "Write a summary of the contents of the point cloud\n\n"
      ]
    },
    {
      "cell_type": "code",
      "execution_count": null,
      "metadata": {
        "collapsed": false
      },
      "outputs": [],
      "source": [
        "PC3D.summary()"
      ]
    },
    {
      "cell_type": "markdown",
      "metadata": {},
      "source": [
        "Get a single location from the point as a 3x1 vector\n\n"
      ]
    },
    {
      "cell_type": "code",
      "execution_count": null,
      "metadata": {
        "collapsed": false
      },
      "outputs": [],
      "source": [
        "Point=PC3D.getPoint(50)\n# Print the point to the screen\nprint(Point)"
      ]
    },
    {
      "cell_type": "markdown",
      "metadata": {},
      "source": [
        "Plot the locations with Height as colour\n\n"
      ]
    },
    {
      "cell_type": "code",
      "execution_count": null,
      "metadata": {
        "collapsed": false
      },
      "outputs": [],
      "source": [
        "plt.figure()\nPC3D.scatter2D(edgecolor='k')"
      ]
    },
    {
      "cell_type": "markdown",
      "metadata": {},
      "source": [
        "Plotting routines take matplotlib arguments for customization\n\nFor example, plotting the size of the points according to the absolute value of height\n\n"
      ]
    },
    {
      "cell_type": "code",
      "execution_count": null,
      "metadata": {
        "collapsed": false
      },
      "outputs": [],
      "source": [
        "plt.figure()\nax = PC3D.scatter2D(s=100*np.abs(PC3D.z),edgecolor='k')"
      ]
    },
    {
      "cell_type": "markdown",
      "metadata": {},
      "source": [
        "Grid the points using a triangulated CloughTocher interpolation\n\n"
      ]
    },
    {
      "cell_type": "code",
      "execution_count": null,
      "metadata": {
        "collapsed": false
      },
      "outputs": [],
      "source": [
        "plt.figure()\nPC3D.mapPlot(method='ct')"
      ]
    },
    {
      "cell_type": "markdown",
      "metadata": {},
      "source": [
        "We can perform spatial searches on the 3D point cloud\n\n"
      ]
    },
    {
      "cell_type": "code",
      "execution_count": null,
      "metadata": {
        "collapsed": false
      },
      "outputs": [],
      "source": [
        "PC3D.setKdTree(nDims=2)\np = PC3D.nearest((0.0,0.0), k=200, p=2, radius=0.3)\nprint(p)"
      ]
    },
    {
      "cell_type": "markdown",
      "metadata": {},
      "source": [
        ".nearest returns the distances and indices into the point cloud of the nearest points.\nWe can then obtain those points as another point cloud\n\n"
      ]
    },
    {
      "cell_type": "code",
      "execution_count": null,
      "metadata": {
        "collapsed": false
      },
      "outputs": [],
      "source": [
        "pNear = PC3D[p[1]]\nplt.figure()\nax1 = plt.subplot(1,2,1)\npNear.scatter2D()\nplt.plot(0.0, 0.0, 'x')\nplt.subplot(1,2,2, sharex=ax1, sharey=ax1)\nax = PC3D.scatter2D(edgecolor='k')\nsearchRadius = plt.Circle((0.0, 0.0), 0.3, color='b', fill=False)\nax.add_artist(searchRadius)\nplt.plot(0.0, 0.0, 'x')"
      ]
    },
    {
      "cell_type": "markdown",
      "metadata": {},
      "source": [
        "Read in the xyz co-ordinates in columns 2,3,4 from a file. Skip 1 header line.\n\n"
      ]
    },
    {
      "cell_type": "code",
      "execution_count": null,
      "metadata": {
        "collapsed": false
      },
      "outputs": [],
      "source": [
        "dataFolder = \"..//supplementary//Data//\"\n\nPC3D.read(fileName=dataFolder + 'Resolve1.txt', nHeaderLines=1, columnIndices=[2,3,4])"
      ]
    },
    {
      "cell_type": "code",
      "execution_count": null,
      "metadata": {
        "collapsed": false
      },
      "outputs": [],
      "source": [
        "plt.figure()\nf = PC3D.scatter2D(s=10)"
      ]
    },
    {
      "cell_type": "markdown",
      "metadata": {},
      "source": [
        "Export the 3D Pointcloud to a VTK file.\n\nIn this case, I pass the height as point data so that the points are coloured\nwhen opened in Paraview (or other software)\n\n"
      ]
    },
    {
      "cell_type": "code",
      "execution_count": null,
      "metadata": {
        "collapsed": false
      },
      "outputs": [],
      "source": [
        "PC3D.toVTK('testPoints', format='binary')"
      ]
    }
  ],
  "metadata": {
    "kernelspec": {
      "display_name": "Python 3",
      "language": "python",
      "name": "python3"
    },
    "language_info": {
      "codemirror_mode": {
        "name": "ipython",
        "version": 3
      },
      "file_extension": ".py",
      "mimetype": "text/x-python",
      "name": "python",
      "nbconvert_exporter": "python",
      "pygments_lexer": "ipython3",
      "version": "3.7.3"
    }
  },
  "nbformat": 4,
  "nbformat_minor": 0
}