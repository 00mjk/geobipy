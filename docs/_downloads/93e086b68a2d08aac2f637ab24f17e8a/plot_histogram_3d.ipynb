{
  "cells": [
    {
      "cell_type": "code",
      "execution_count": null,
      "metadata": {
        "collapsed": false
      },
      "outputs": [],
      "source": [
        "%matplotlib inline"
      ]
    },
    {
      "cell_type": "markdown",
      "metadata": {},
      "source": [
        "\n# Histogram 3D\n\nThis 3D histogram class allows efficient updating of histograms, plotting and\nsaving as HDF5.\n"
      ]
    },
    {
      "cell_type": "code",
      "execution_count": null,
      "metadata": {
        "collapsed": false
      },
      "outputs": [],
      "source": [
        "import geobipy\nfrom geobipy import StatArray\nfrom geobipy import Histogram3D\nimport matplotlib.pyplot as plt\nimport numpy as np"
      ]
    },
    {
      "cell_type": "markdown",
      "metadata": {},
      "source": [
        "Create some histogram bins in x and y\n\n"
      ]
    },
    {
      "cell_type": "code",
      "execution_count": null,
      "metadata": {
        "collapsed": false
      },
      "outputs": [],
      "source": [
        "x = StatArray(np.linspace(-4.0, 4.0, 11), 'Variable 1')\ny = StatArray(np.linspace(-4.0, 4.0, 21), 'Variable 2')\nz = StatArray(np.linspace(-4.0, 4.0, 31), 'Variable 3')"
      ]
    },
    {
      "cell_type": "markdown",
      "metadata": {},
      "source": [
        "Instantiate\n\n"
      ]
    },
    {
      "cell_type": "code",
      "execution_count": null,
      "metadata": {
        "collapsed": false
      },
      "outputs": [],
      "source": [
        "H = Histogram3D(xEdges=x, yEdges=y, zEdges=z)"
      ]
    },
    {
      "cell_type": "markdown",
      "metadata": {},
      "source": [
        "Generate some random numbers\n\n"
      ]
    },
    {
      "cell_type": "code",
      "execution_count": null,
      "metadata": {
        "collapsed": false
      },
      "outputs": [],
      "source": [
        "a = np.random.randn(100000)\nb = np.random.randn(100000)\nc = np.random.randn(100000)\nx = np.asarray([a, b, c])"
      ]
    },
    {
      "cell_type": "markdown",
      "metadata": {},
      "source": [
        "Update the histogram counts\n\n"
      ]
    },
    {
      "cell_type": "code",
      "execution_count": null,
      "metadata": {
        "collapsed": false
      },
      "outputs": [],
      "source": [
        "H.update(x)\n\n\n# ################################################################################\n# plt.figure()\n# _ = H.pcolor(cmap='gray_r')"
      ]
    },
    {
      "cell_type": "markdown",
      "metadata": {},
      "source": [
        "Generate marginal histograms along an axis\n\n"
      ]
    },
    {
      "cell_type": "code",
      "execution_count": null,
      "metadata": {
        "collapsed": false
      },
      "outputs": [],
      "source": [
        "plt.figure()\nplt.suptitle(\"Marginals along each axis\")\nfor axis in range(3):\n    plt.subplot(1, 3, axis+1)\n    _ = H.marginalize(axis=axis).plot()\n\n\n# ################################################################################\n# # Take the mean estimate from the histogram\n# plt.figure()\n# plt.suptitle(\"Mean along each axis\")\n# for axis in range(3):\n#     plt.subplot(1, 3, axis+1)\n#     _ = H.mean(axis=axis).pcolor()\n\n# ################################################################################\n# # Take the median estimate from the histogram\n# plt.figure()\n# plt.suptitle(\"Median along each axis\")\n# for axis in range(3):\n#     plt.subplot(1, 3, axis+1)\n#     _ = H.median(axis=axis).pcolor()\n\n# ################################################################################\n# # We can overlay the histogram with its credible intervals\n# plt.figure()\n# H.pcolor(cmap='gray_r')\n# H.plotCredibleIntervals(axis=0, percent=95.0)\n# _ = H.plotCredibleIntervals(axis=1, percent=95.0)\n\n\n# ################################################################################\n# # Take the mean or median estimates from the histogram\n# mean = H.mean()\n# median = H.median()\n\n\n# ################################################################################\n# # Or plot the mean and median\n# plt.figure()\n# H.pcolor(cmap='gray_r')\n# H.plotMean()\n# H.plotMedian()\n# plt.legend()\n\n# ################################################################################\n# plt.figure(figsize=(9.5, 5))\n# ax = plt.subplot(121)\n# H.pcolor(cmap='gray_r', noColorbar=True)\n# H.plotCredibleIntervals(axis=0)\n# H.plotMedian()\n# H.plotMean(color='y')\n\n# plt.subplot(122, sharex=ax, sharey=ax)\n# H.pcolor(cmap='gray_r', noColorbar=True)\n# H.plotCredibleIntervals(axis=1)\n# H.plotMedian(axis=1)\n# H.plotMean(axis=1, color='y')\n\n\n# ################################################################################\n# plt.figure(figsize=(9.5, 5))\n# ax = plt.subplot(121)\n# H1 = H.intervalStatistic([-4.0, -2.0, 2.0, 4.0], statistic='mean', axis=0)\n# H1.pcolor(cmap='gray_r', equalize=True, noColorbar=True)\n# H1.plotCredibleIntervals(axis=0)\n# plt.subplot(122, sharex=ax, sharey=ax)\n# H1 = H.intervalStatistic([-4.0, -2.0, 2.0, 4.0], statistic='mean', axis=1)\n# H1.pcolor(cmap='gray_r', equalize=True, noColorbar=True)\n# H1.plotCredibleIntervals(axis=1)\n\n\n# ################################################################################\n# # Get the range between credible intervals\n# H.credibleRange(percent=95.0)\n\n\n# ################################################################################\n# # We can map the credible range to an opacity or transparency\n# H.opacity()\n# H.transparency()\n\nplt.show()\n\n# ################################################################################\n# # We can plot the mesh in 3D!\n# pv_mesh  = H.plot_pyvista(linewidth=0.5)\n# pv_mesh.plot(show_edges=True, show_grid=True)"
      ]
    }
  ],
  "metadata": {
    "kernelspec": {
      "display_name": "Python 3",
      "language": "python",
      "name": "python3"
    },
    "language_info": {
      "codemirror_mode": {
        "name": "ipython",
        "version": 3
      },
      "file_extension": ".py",
      "mimetype": "text/x-python",
      "name": "python",
      "nbconvert_exporter": "python",
      "pygments_lexer": "ipython3",
      "version": "3.9.6"
    }
  },
  "nbformat": 4,
  "nbformat_minor": 0
}