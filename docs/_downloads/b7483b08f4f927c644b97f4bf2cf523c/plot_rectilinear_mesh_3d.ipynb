{
  "cells": [
    {
      "cell_type": "code",
      "execution_count": null,
      "metadata": {
        "collapsed": false
      },
      "outputs": [],
      "source": [
        "%matplotlib inline"
      ]
    },
    {
      "cell_type": "markdown",
      "metadata": {},
      "source": [
        "\n# 3D Rectilinear Mesh\nThis 3D rectilinear mesh defines a grid with straight cell boundaries.\n"
      ]
    },
    {
      "cell_type": "code",
      "execution_count": null,
      "metadata": {
        "collapsed": false
      },
      "outputs": [],
      "source": [
        "from geobipy import StatArray\nfrom geobipy import RectilinearMesh3D\nimport matplotlib.pyplot as plt\nimport numpy as np"
      ]
    },
    {
      "cell_type": "markdown",
      "metadata": {},
      "source": [
        "Specify some cell centres in x and y\n\n"
      ]
    },
    {
      "cell_type": "code",
      "execution_count": null,
      "metadata": {
        "collapsed": false
      },
      "outputs": [],
      "source": [
        "x = StatArray(np.arange(10.0), 'Easting', 'm')\ny = StatArray(np.arange(11.0), 'Northing', 'm')\nz = StatArray(np.arange(12.0), 'Depth', 'm')\n\nrm = RectilinearMesh3D(xEdges=x, yEdges=y, zEdges=z)\n\nrm2 = rm[:, :, 5]\nrm3 = rm[:, 5, :]\nrm4 = rm[5, :, :]\n\nplt.figure()\nplt.subplot(131)\nrm2.plotGrid()\nplt.subplot(132)\nrm3.plotGrid()\nplt.subplot(133)\nrm4.plotGrid()\n\n\n# ################################################################################\nimport h5py\nwith h5py.File('rm3d.h5', 'w') as f:\n    rm.toHdf(f, 'test')\n\nwith h5py.File('rm3d.h5', 'r') as f:\n    rm2 = RectilinearMesh3D.fromHdf(f['test'])\n\nrm.pyvista_mesh().save('rm3d_a.vtk')\nrm2.pyvista_mesh().save('rm3d_b.vtk')\n\nxx, yy = np.meshgrid(rm.x.centres, rm.y.centres)\nheight = StatArray(np.sin(np.sqrt(xx ** 2.0 + yy ** 2.0)), \"Height\")\nrm = RectilinearMesh3D(xEdges=x, yEdges=y, zEdges=z, height=height)\n\nplt.figure()\nrm.height.pcolor()"
      ]
    },
    {
      "cell_type": "markdown",
      "metadata": {},
      "source": [
        "We can plot the mesh in 3D!\n\n"
      ]
    },
    {
      "cell_type": "code",
      "execution_count": null,
      "metadata": {
        "collapsed": false
      },
      "outputs": [],
      "source": [
        "pv = rm.pyvista_plotter()"
      ]
    },
    {
      "cell_type": "markdown",
      "metadata": {},
      "source": [
        "We can plot the mesh in 3D!\n\n"
      ]
    },
    {
      "cell_type": "code",
      "execution_count": null,
      "metadata": {
        "collapsed": false
      },
      "outputs": [],
      "source": [
        "mesh = rm.pyvista_mesh()\nmesh.save('rm3d.vtk')\n\nwith h5py.File('rm3d.h5', 'w') as f:\n    rm.toHdf(f, 'test')\n\nwith h5py.File('rm3d.h5', 'r') as f:\n    rm2 = RectilinearMesh3D.fromHdf(f['test'])\n\nrm.pyvista_mesh().save('rm3d_c.vtk')\nrm2.pyvista_mesh().save('rm3d_d.vtk')\n\nplt.show()"
      ]
    }
  ],
  "metadata": {
    "kernelspec": {
      "display_name": "Python 3",
      "language": "python",
      "name": "python3"
    },
    "language_info": {
      "codemirror_mode": {
        "name": "ipython",
        "version": 3
      },
      "file_extension": ".py",
      "mimetype": "text/x-python",
      "name": "python",
      "nbconvert_exporter": "python",
      "pygments_lexer": "ipython3",
      "version": "3.8.12"
    }
  },
  "nbformat": 4,
  "nbformat_minor": 0
}