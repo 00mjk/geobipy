{
  "cells": [
    {
      "cell_type": "code",
      "execution_count": null,
      "metadata": {
        "collapsed": false
      },
      "outputs": [],
      "source": [
        "%matplotlib inline"
      ]
    },
    {
      "cell_type": "markdown",
      "metadata": {},
      "source": [
        "\n# Topo Rectilinear Mesh 2D\nThe Topo version of the rectilinear mesh has the same functionality as the\n`Rectilinear Mesh 2D` but the top surface of the mesh can undulate.\n"
      ]
    },
    {
      "cell_type": "code",
      "execution_count": null,
      "metadata": {
        "collapsed": false
      },
      "outputs": [],
      "source": [
        "from geobipy import StatArray\nfrom geobipy import RectilinearMesh2D\nimport matplotlib.pyplot as plt\nimport numpy as np"
      ]
    },
    {
      "cell_type": "markdown",
      "metadata": {},
      "source": [
        "Specify some cell centres in x and y\n\n"
      ]
    },
    {
      "cell_type": "code",
      "execution_count": null,
      "metadata": {
        "collapsed": false
      },
      "outputs": [],
      "source": [
        "x = StatArray(np.arange(11.0), 'Easting', 'm')\ny = StatArray(np.arange(11.0), 'Depth', 'm')\n# Create a height profile for the mesh\nheight = StatArray(np.asarray([5,4,3,2,1,1,1,2,3,4,5])*3.0, 'Height', 'm')\n# Instantiate the mesh\nrm = RectilinearMesh2D(xEdges=x, yEdges=y, heightEdges=height)"
      ]
    },
    {
      "cell_type": "markdown",
      "metadata": {},
      "source": [
        "Plot only the grid lines of the mesh\n\n"
      ]
    },
    {
      "cell_type": "code",
      "execution_count": null,
      "metadata": {
        "collapsed": false
      },
      "outputs": [],
      "source": [
        "plt.figure()\n_ = rm.plotGrid(linewidth=0.5)"
      ]
    },
    {
      "cell_type": "markdown",
      "metadata": {},
      "source": [
        "Create some cell values\n\n"
      ]
    },
    {
      "cell_type": "code",
      "execution_count": null,
      "metadata": {
        "collapsed": false
      },
      "outputs": [],
      "source": [
        "values = StatArray(np.random.random(rm.shape), 'Name', 'Units')"
      ]
    },
    {
      "cell_type": "code",
      "execution_count": null,
      "metadata": {
        "collapsed": false
      },
      "outputs": [],
      "source": [
        "plt.figure()\n_ = rm.pcolor(values, grid=True, linewidth=0.1, xAxis='x')"
      ]
    },
    {
      "cell_type": "markdown",
      "metadata": {},
      "source": [
        "Mask the x axis cells by a distance\n\n"
      ]
    },
    {
      "cell_type": "code",
      "execution_count": null,
      "metadata": {
        "collapsed": false
      },
      "outputs": [],
      "source": [
        "rm_masked, x_indices, z_indices, arr2 = rm.mask_cells(xAxis='x', x_distance=0.4, values=values)\nplt.figure()\n_ = rm_masked.pcolor(StatArray(arr2), grid=True)"
      ]
    },
    {
      "cell_type": "markdown",
      "metadata": {},
      "source": [
        "Mask the z axis cells by a distance\n\n"
      ]
    },
    {
      "cell_type": "code",
      "execution_count": null,
      "metadata": {
        "collapsed": false
      },
      "outputs": [],
      "source": [
        "rm_masked, x_indices, z_indices, arr2 = rm.mask_cells(xAxis='x', z_distance=0.4, values=values)\nplt.figure()\n_ = rm_masked.pcolor(StatArray(arr2), grid=True)"
      ]
    },
    {
      "cell_type": "markdown",
      "metadata": {},
      "source": [
        "Mask axes by a distance\n\n"
      ]
    },
    {
      "cell_type": "code",
      "execution_count": null,
      "metadata": {
        "collapsed": false
      },
      "outputs": [],
      "source": [
        "rm_masked, x_indices, z_indices, arr2 = rm.mask_cells(xAxis='x', x_distance=0.4, z_distance=0.4, values=values)\nplt.figure()\n_ = rm_masked.pcolor(StatArray(arr2), grid=True)"
      ]
    },
    {
      "cell_type": "markdown",
      "metadata": {},
      "source": [
        "Compute the mean over an interval for the mesh.\n\n"
      ]
    },
    {
      "cell_type": "code",
      "execution_count": null,
      "metadata": {
        "collapsed": false
      },
      "outputs": [],
      "source": [
        "rm.intervalStatistic(values, intervals=[6.8, 12.4], axis=0)"
      ]
    },
    {
      "cell_type": "markdown",
      "metadata": {},
      "source": [
        "Compute the mean over multiple intervals for the mesh.\n\n"
      ]
    },
    {
      "cell_type": "code",
      "execution_count": null,
      "metadata": {
        "collapsed": false
      },
      "outputs": [],
      "source": [
        "rm.intervalStatistic(values, intervals=[6.8, 12.4, 20.0, 40.0], axis=0)\n\n\n# ################################################################################\n# # We can apply the interval statistics to either axis\n# rm.intervalStatistic(values, intervals=[2.8, 4.2], axis=1)\n\n\n# ################################################################################\n# rm.intervalStatistic(values, intervals=[2.8, 4.2, 5.1, 8.4], axis=1)\n\n\n# ################################################################################\n# rm.ravelIndices([[3, 4], [5, 5]])\n\n\n# ################################################################################\n# rm.unravelIndex([35, 45])\n\n\n# ################################################################################\n# # 2D draped rectlinear mesh embedded in 3D\n# # ++++++++++++++++++++++++++++++++++++++\n# z = StatArray(np.cumsum(np.arange(10.0)), 'Depth', 'm')\n# rm = RectilinearMesh2D(xCentres=x, yCentres=y, zCentres=z, heightCentres=height)\n# values = StatArray(np.arange(rm.nCells, dtype=np.float64).reshape(rm.shape), 'Name', 'Units')\n\n\n# ################################################################################\n# plt.figure()\n# rm.plotGrid(linewidth=1)\n\n# ################################################################################\n# # Plot the x-y co-ordinates\n# plt.figure()\n# rm.plotXY()\n\n# ################################################################################\n# # The pcolor function can now be plotted against distance\n# plt.figure()\n# rm.pcolor(values, grid=True, xAxis='r', linewidth=0.5)"
      ]
    },
    {
      "cell_type": "code",
      "execution_count": null,
      "metadata": {
        "collapsed": false
      },
      "outputs": [],
      "source": [
        "import h5py\nwith h5py.File('rm2d.h5', 'w') as f:\n    rm.toHdf(f, 'test')\n\nwith h5py.File('rm2d.h5', 'r') as f:\n    rm2 = RectilinearMesh2D.fromHdf(f['test'])\n\nplt.figure()\nplt.subplot(121)\nrm.plotGrid(linewidth=0.5)\nplt.subplot(122)\nrm2.plotGrid(linewidth=0.5)"
      ]
    },
    {
      "cell_type": "markdown",
      "metadata": {},
      "source": [
        "rm.toVTK('test', cellData=values)\n\n"
      ]
    },
    {
      "cell_type": "code",
      "execution_count": null,
      "metadata": {
        "collapsed": false
      },
      "outputs": [],
      "source": [
        "plt.show()"
      ]
    }
  ],
  "metadata": {
    "kernelspec": {
      "display_name": "Python 3",
      "language": "python",
      "name": "python3"
    },
    "language_info": {
      "codemirror_mode": {
        "name": "ipython",
        "version": 3
      },
      "file_extension": ".py",
      "mimetype": "text/x-python",
      "name": "python",
      "nbconvert_exporter": "python",
      "pygments_lexer": "ipython3",
      "version": "3.9.6"
    }
  },
  "nbformat": 4,
  "nbformat_minor": 0
}