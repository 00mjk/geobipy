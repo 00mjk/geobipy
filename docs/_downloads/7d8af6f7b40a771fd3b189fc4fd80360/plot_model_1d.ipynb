{
  "cells": [
    {
      "cell_type": "code",
      "execution_count": null,
      "metadata": {
        "collapsed": false
      },
      "outputs": [],
      "source": [
        "%matplotlib inline"
      ]
    },
    {
      "cell_type": "markdown",
      "metadata": {},
      "source": [
        "\n# 1D Model with an infinite halfspace\n"
      ]
    },
    {
      "cell_type": "code",
      "execution_count": null,
      "metadata": {
        "collapsed": false
      },
      "outputs": [],
      "source": [
        "from copy import deepcopy\nfrom geobipy import StatArray\nfrom geobipy import Model1D\nfrom geobipy import Distribution\nfrom geobipy import FdemData\nimport matplotlib.pyplot as plt\nimport numpy as np\nimport h5py\nfrom geobipy import hdfRead"
      ]
    },
    {
      "cell_type": "markdown",
      "metadata": {},
      "source": [
        "## Instantiate the 1D Model with a Half Space\n\n"
      ]
    },
    {
      "cell_type": "code",
      "execution_count": null,
      "metadata": {
        "collapsed": false
      },
      "outputs": [],
      "source": [
        "# Make a test model with 10 layers, and increasing parameter values\nnLayers = 2\npar = StatArray(np.linspace(0.001, 0.02, nLayers),\n                \"Conductivity\", \"$\\\\frac{S}{m}$\")\nthk = StatArray(np.full(nLayers, fill_value=10.0))\nthk[-1] = np.inf\nmod = Model1D(parameters=par, widths=thk)\n\n# plt.figure()\n# mod.plotGrid(transpose=True, flip=True)"
      ]
    },
    {
      "cell_type": "markdown",
      "metadata": {},
      "source": [
        "## Randomness and Model Perturbations\nWe can set the priors on the 1D model by assigning minimum and maximum layer\ndepths and a maximum number of layers.  These are used to create priors on\nthe number of cells in the model, a new depth interface, new parameter values\nand the vertical gradient of those parameters.\nThe halfSpaceValue is used as a reference value for the parameter prior.\n\n"
      ]
    },
    {
      "cell_type": "code",
      "execution_count": null,
      "metadata": {
        "collapsed": false
      },
      "outputs": [],
      "source": [
        "prng = np.random.RandomState(0)\n# Set the priors\nmod.set_priors(halfSpaceValue=0.01,\n              min_edge=1.0,\n              max_edge=150.0,\n              max_cells=30,\n              parameterPrior=True,\n              gradientPrior=True,\n              prng=prng)\n\n# plt.figure()\n# mod.plot(flipY=True)"
      ]
    },
    {
      "cell_type": "markdown",
      "metadata": {},
      "source": [
        "We can evaluate the prior of the model using depths only\n\n"
      ]
    },
    {
      "cell_type": "code",
      "execution_count": null,
      "metadata": {
        "collapsed": false
      },
      "outputs": [],
      "source": [
        "print('Log probability of the Model given its priors: ',\n      mod.priorProbability(False, False, log=True))\n# Or with priors on its parameters, and parameter gradient with depth.\nprint('Log probability of the Model given its priors: ',\n      mod.priorProbability(True, True, log=True))"
      ]
    },
    {
      "cell_type": "markdown",
      "metadata": {},
      "source": [
        "To propose new models, we specify the probabilities of creating, removing, perturbing, and not changing\na layer interface\n\n"
      ]
    },
    {
      "cell_type": "code",
      "execution_count": null,
      "metadata": {
        "collapsed": false
      },
      "outputs": [],
      "source": [
        "pProposal = Distribution('LogNormal', 0.01, np.log(2.0)**2.0,\n                         linearSpace=True, prng=prng)\nmod.setProposals(probabilities=[0.25, 0.25, 0.5, 0.25],\n                 parameterProposal=pProposal, prng=prng)"
      ]
    },
    {
      "cell_type": "markdown",
      "metadata": {},
      "source": [
        "We can then perturb the layers of the model\n\n"
      ]
    },
    {
      "cell_type": "code",
      "execution_count": null,
      "metadata": {
        "collapsed": false
      },
      "outputs": [],
      "source": [
        "remapped, perturbed = mod.perturb()\n\n# ################################################################################\n# fig = plt.figure(figsize=(8, 6))\n# ax = plt.subplot(121)\n# mod.pcolor(transpose=True, flip=True)  # , grid=True)\n# ax = plt.subplot(122)\n# perturbed.pcolor(transpose=True, flip=True)  # , grid=True)"
      ]
    },
    {
      "cell_type": "markdown",
      "metadata": {},
      "source": [
        "We can evaluate the prior of the model using depths only\n\n"
      ]
    },
    {
      "cell_type": "code",
      "execution_count": null,
      "metadata": {
        "collapsed": false
      },
      "outputs": [],
      "source": [
        "print('Log probability of the Model given its priors: ',\n      perturbed.priorProbability(False, False, log=True))\n# Or with priors on its parameters, and parameter gradient with depth.\nprint('Log probability of the Model given its priors: ',\n      perturbed.priorProbability(True, True, log=True))"
      ]
    },
    {
      "cell_type": "markdown",
      "metadata": {},
      "source": [
        "## Perturbing a model multiple times\nIn the stochasitic inference process, we perturb the model structure,\nand parameter values, multiple times.\nEach time the model is perturbed, we can record its state\nin a posterior distribution.\n\nFor a 1D model, the parameter posterior is a 2D hitmap with depth in one dimension\nand the parameter value in the other.\nWe also attach a 1D histogram for the number of layers,\nand a 1D histogram for the locations of interfaces.\n\nSince we have already set the priors on the Model, we can set the posteriors\nbased on bins from from the priors.\n\n"
      ]
    },
    {
      "cell_type": "code",
      "execution_count": null,
      "metadata": {
        "collapsed": false
      },
      "outputs": [],
      "source": [
        "mod.setPosteriors()\n\nmod0 = deepcopy(mod)"
      ]
    },
    {
      "cell_type": "markdown",
      "metadata": {},
      "source": [
        "Now we randomly perturb the model, and update its posteriors.\n\n"
      ]
    },
    {
      "cell_type": "code",
      "execution_count": null,
      "metadata": {
        "collapsed": false
      },
      "outputs": [],
      "source": [
        "mod.updatePosteriors()\nfor i in range(1001):\n    remapped, perturbed = mod.perturb()\n\n    # And update the model posteriors\n    perturbed.updatePosteriors()\n\n    mod = perturbed\n\n# mod.par.posterior._counts[:, :] = np.random.randn(*mod.par.posterior.shape)"
      ]
    },
    {
      "cell_type": "markdown",
      "metadata": {},
      "source": [
        "We can now plot the posteriors of the model.\n\nRemember in this case, we are simply perturbing the model structure and parameter values\nThe proposal for the parameter values is fixed and centred around a single value.\n\n"
      ]
    },
    {
      "cell_type": "code",
      "execution_count": null,
      "metadata": {
        "collapsed": false
      },
      "outputs": [],
      "source": [
        "fig = plt.figure(figsize=(8, 6))\n\nplt.subplot(131)\nmod.nCells.posterior.plot()\nax = plt.subplot(132)\nmod.par.posterior.pcolor(cmap='gray_r', xscale='log', noColorbar=True, flipY=True)\nplt.subplot(133, sharey=ax)\nmod.edges.posterior.plot(rotate=True, flipY=True)\n\nfig = plt.figure(figsize=(8, 6))\ngs = fig.add_gridspec(nrows=1, ncols=1)\nax = mod.init_posterior_plots(gs[0, 0])\nmod.plot_posteriors(axes=ax,\n                    edges_kwargs = {\n                        \"rotate\":True,\n                        \"flipY\":True\n                    },\n                    parameter_kwargs = {\n                        \"cmap\": 'gray_r',\n                        \"xscale\": 'log',\n                        \"noColorbar\": True,\n                        \"flipY\": True,\n                        'credible_interval_kwargs':{\n                              'reciprocate':True\n                        }\n                    },\n                    best = mod)"
      ]
    },
    {
      "cell_type": "markdown",
      "metadata": {},
      "source": [
        "We can interpolate the Model to another mesh.\n\n"
      ]
    },
    {
      "cell_type": "code",
      "execution_count": null,
      "metadata": {
        "collapsed": false
      },
      "outputs": [],
      "source": [
        "mesh = mod.par.posterior\nx = mod.piecewise_constant_interpolate(mod.par, mesh, axis=1)\n\nplt.show()"
      ]
    }
  ],
  "metadata": {
    "kernelspec": {
      "display_name": "Python 3",
      "language": "python",
      "name": "python3"
    },
    "language_info": {
      "codemirror_mode": {
        "name": "ipython",
        "version": 3
      },
      "file_extension": ".py",
      "mimetype": "text/x-python",
      "name": "python",
      "nbconvert_exporter": "python",
      "pygments_lexer": "ipython3",
      "version": "3.8.12"
    }
  },
  "nbformat": 4,
  "nbformat_minor": 0
}