{
  "cells": [
    {
      "cell_type": "code",
      "execution_count": null,
      "metadata": {
        "collapsed": false
      },
      "outputs": [],
      "source": [
        "%matplotlib inline"
      ]
    },
    {
      "cell_type": "markdown",
      "metadata": {},
      "source": [
        "\n# 3D Rectilinear Model\nThis 3D rectilinear model defines a grid with straight cell boundaries.\n"
      ]
    },
    {
      "cell_type": "code",
      "execution_count": null,
      "metadata": {
        "collapsed": false
      },
      "outputs": [],
      "source": [
        "from geobipy import StatArray\nfrom geobipy import RectilinearMesh3D\nfrom geobipy import Model\nimport matplotlib.pyplot as plt\nimport numpy as np\nimport h5py"
      ]
    },
    {
      "cell_type": "markdown",
      "metadata": {},
      "source": [
        "Specify some cell centres in x and y\n\n"
      ]
    },
    {
      "cell_type": "code",
      "execution_count": null,
      "metadata": {
        "collapsed": false
      },
      "outputs": [],
      "source": [
        "x = StatArray(np.arange(10.0), 'Easting', 'm')\ny = StatArray(np.arange(11.0), 'Northing', 'm')\nz = StatArray(np.arange(12.0), 'Depth', 'm')\n\nxx, yy = np.meshgrid(x.internalEdges(), y.internalEdges())\nheight = StatArray(np.sin(np.sqrt(xx ** 2.0 + yy ** 2.0)), \"Height\")\n\nrm = RectilinearMesh3D(xEdges=x, yEdges=y, zEdges=z, height=height)\n\nvalues = StatArray(np.repeat(height[None, :, :], rm.z.nCells, 0), \"Values\")\n\nmod = Model(mesh=rm, values = values)"
      ]
    },
    {
      "cell_type": "markdown",
      "metadata": {},
      "source": [
        "We can plot the mesh in 3D!\n\n"
      ]
    },
    {
      "cell_type": "code",
      "execution_count": null,
      "metadata": {
        "collapsed": false
      },
      "outputs": [],
      "source": [
        "pv = mod.pyvista_mesh()\n\nmod.to_vtk('Model3D.vtk')\n\nwith h5py.File('Model3D.h5', 'w') as f:\n    mod.toHdf(f, 'model')\n\nwith h5py.File('Model3D.h5', 'r') as f:\n    mod2 = Model.fromHdf(f['model'])\n\n\nmod[:, :, 5]\nmod.to_vtk('slice.vtk')"
      ]
    }
  ],
  "metadata": {
    "kernelspec": {
      "display_name": "Python 3",
      "language": "python",
      "name": "python3"
    },
    "language_info": {
      "codemirror_mode": {
        "name": "ipython",
        "version": 3
      },
      "file_extension": ".py",
      "mimetype": "text/x-python",
      "name": "python",
      "nbconvert_exporter": "python",
      "pygments_lexer": "ipython3",
      "version": "3.8.12"
    }
  },
  "nbformat": 4,
  "nbformat_minor": 0
}