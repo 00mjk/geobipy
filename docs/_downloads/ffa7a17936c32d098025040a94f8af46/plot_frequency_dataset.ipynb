{
  "cells": [
    {
      "cell_type": "code",
      "execution_count": null,
      "metadata": {
        "collapsed": false
      },
      "outputs": [],
      "source": [
        "%matplotlib inline"
      ]
    },
    {
      "cell_type": "markdown",
      "metadata": {},
      "source": [
        "\nFrequency domain dataset\n------------------------\n"
      ]
    },
    {
      "cell_type": "code",
      "execution_count": null,
      "metadata": {
        "collapsed": false
      },
      "outputs": [],
      "source": [
        "import matplotlib.pyplot as plt\nfrom geobipy import FdemData\nimport numpy as np"
      ]
    },
    {
      "cell_type": "markdown",
      "metadata": {},
      "source": [
        "Reading in the Data\n+++++++++++++++++++\n\n"
      ]
    },
    {
      "cell_type": "code",
      "execution_count": null,
      "metadata": {
        "collapsed": false
      },
      "outputs": [],
      "source": [
        "dataFolder = \"..//supplementary//Data//\"\n# The data file name\ndataFile = dataFolder + 'Resolve2.txt'\n# The EM system file name\nsystemFile = dataFolder + 'FdemSystem2.stm'"
      ]
    },
    {
      "cell_type": "markdown",
      "metadata": {},
      "source": [
        "Read in a data set from file.\n\n"
      ]
    },
    {
      "cell_type": "code",
      "execution_count": null,
      "metadata": {
        "collapsed": false
      },
      "outputs": [],
      "source": [
        "FD1 = FdemData()\nFD1.read(dataFile, systemFile)"
      ]
    },
    {
      "cell_type": "markdown",
      "metadata": {},
      "source": [
        "Take a look at the channel names\n\n"
      ]
    },
    {
      "cell_type": "code",
      "execution_count": null,
      "metadata": {
        "collapsed": false
      },
      "outputs": [],
      "source": [
        "for name in FD1.channelNames:\n    print(name)"
      ]
    },
    {
      "cell_type": "markdown",
      "metadata": {},
      "source": [
        "Plot the locations of the data points\n\n"
      ]
    },
    {
      "cell_type": "code",
      "execution_count": null,
      "metadata": {
        "collapsed": false
      },
      "outputs": [],
      "source": [
        "plt.figure(figsize=(8,6))\n_ = FD1.scatter2D();"
      ]
    },
    {
      "cell_type": "markdown",
      "metadata": {},
      "source": [
        "Plot all the data along the specified line\n\n"
      ]
    },
    {
      "cell_type": "code",
      "execution_count": null,
      "metadata": {
        "collapsed": false
      },
      "outputs": [],
      "source": [
        "plt.figure(figsize=(8,6))\n_ = FD1.plotLine(30010.0, log=10);"
      ]
    },
    {
      "cell_type": "markdown",
      "metadata": {},
      "source": [
        "Or, plot specific channels in the data\n\n"
      ]
    },
    {
      "cell_type": "code",
      "execution_count": null,
      "metadata": {
        "collapsed": false
      },
      "outputs": [],
      "source": [
        "plt.figure(figsize=(8,6))\n_ = FD1.plot(channels=[0,11,8], log=10, linewidth=0.5);"
      ]
    },
    {
      "cell_type": "markdown",
      "metadata": {},
      "source": [
        "Read in a second data set\n\n"
      ]
    },
    {
      "cell_type": "code",
      "execution_count": null,
      "metadata": {
        "collapsed": false
      },
      "outputs": [],
      "source": [
        "FD2 = FdemData()\nFD2.read(dataFilename=dataFolder + 'Resolve1.txt', systemFilename=dataFolder + 'FdemSystem1.stm')"
      ]
    },
    {
      "cell_type": "markdown",
      "metadata": {},
      "source": [
        "We can create maps of the elevations in two separate figures\n\n"
      ]
    },
    {
      "cell_type": "code",
      "execution_count": null,
      "metadata": {
        "collapsed": false
      },
      "outputs": [],
      "source": [
        "plt.figure(figsize=(8,6))\n_ = FD1.mapPlot(dx=50.0, dy=50.0, mask = 200.0)\nplt.axis('equal');"
      ]
    },
    {
      "cell_type": "code",
      "execution_count": null,
      "metadata": {
        "collapsed": false
      },
      "outputs": [],
      "source": [
        "plt.figure(figsize=(8,6))\n_ = FD2.mapPlot(dx=50.0, dy=50.0, mask = 200.0)\nplt.axis('equal');"
      ]
    },
    {
      "cell_type": "markdown",
      "metadata": {},
      "source": [
        "Or, we can plot both data sets in one figure to see their positions relative\nto each other.\n\nIn this case, I use a 2D scatter plot of the data point co-ordinates, and pass\none of the channels as the colour.\n\n"
      ]
    },
    {
      "cell_type": "code",
      "execution_count": null,
      "metadata": {
        "collapsed": false
      },
      "outputs": [],
      "source": [
        "plt.figure(figsize=(8,6))\n_ = FD1.scatter2D(s=1.0, c=FD1.dataChannel(0))\n_ = FD2.scatter2D(s=1.0, c=FD2.dataChannel(0), cmap='jet');"
      ]
    },
    {
      "cell_type": "markdown",
      "metadata": {},
      "source": [
        "Or, interpolate the values to create a gridded \"map\". mapChannel will\ninterpolate the specified channel number.\n\n"
      ]
    },
    {
      "cell_type": "code",
      "execution_count": null,
      "metadata": {
        "collapsed": false
      },
      "outputs": [],
      "source": [
        "plt.figure(figsize=(8,6))\n_ = FD1.mapData(channel=3, system=0, dx=200, dy=200, mask=250)\nplt.axis('equal');"
      ]
    },
    {
      "cell_type": "markdown",
      "metadata": {},
      "source": [
        "Export the data to VTK\n\n"
      ]
    },
    {
      "cell_type": "code",
      "execution_count": null,
      "metadata": {
        "collapsed": false
      },
      "outputs": [],
      "source": [
        "# FD1.toVTK('FD_one')\n# FD2.toVTK('FD_two')"
      ]
    },
    {
      "cell_type": "markdown",
      "metadata": {},
      "source": [
        "Obtain a line from the data set\n+++++++++++++++++++++++++++++++\n\n"
      ]
    },
    {
      "cell_type": "markdown",
      "metadata": {},
      "source": [
        "Take a look at the line numbers in the dataset\n\n"
      ]
    },
    {
      "cell_type": "code",
      "execution_count": null,
      "metadata": {
        "collapsed": false
      },
      "outputs": [],
      "source": [
        "print(np.unique(FD1.lineNumber))"
      ]
    },
    {
      "cell_type": "code",
      "execution_count": null,
      "metadata": {
        "collapsed": false
      },
      "outputs": [],
      "source": [
        "L = FD1.line(30010.0)"
      ]
    },
    {
      "cell_type": "markdown",
      "metadata": {},
      "source": [
        "A summary will now show the properties of the line.\n\n"
      ]
    },
    {
      "cell_type": "code",
      "execution_count": null,
      "metadata": {
        "collapsed": false
      },
      "outputs": [],
      "source": [
        "L.summary()"
      ]
    },
    {
      "cell_type": "markdown",
      "metadata": {},
      "source": [
        "And we can scatter2D the points in the line.\n\n"
      ]
    },
    {
      "cell_type": "code",
      "execution_count": null,
      "metadata": {
        "collapsed": false
      },
      "outputs": [],
      "source": [
        "plt.figure(figsize=(8,6))\n_ = L.scatter2D();"
      ]
    },
    {
      "cell_type": "markdown",
      "metadata": {},
      "source": [
        "We can specify the axis along which to plot.\nxAxis can be index, x, y, z, r2d, r3d\n\n"
      ]
    },
    {
      "cell_type": "code",
      "execution_count": null,
      "metadata": {
        "collapsed": false
      },
      "outputs": [],
      "source": [
        "plt.figure(figsize=(8,6))\n_ = FD1.plot(channels=[0,11,8], log=10, linewidth=0.5);"
      ]
    },
    {
      "cell_type": "markdown",
      "metadata": {},
      "source": [
        "Obtain a single datapoint from the data set\n+++++++++++++++++++++++++++++++++++++++++++\n\nCheckout `Frequency domain datapoint` for an example\nabout how to use a datapoint once it is instantiated.\n\n"
      ]
    },
    {
      "cell_type": "code",
      "execution_count": null,
      "metadata": {
        "collapsed": false
      },
      "outputs": [],
      "source": [
        "dp = FD1.datapoint(0)"
      ]
    },
    {
      "cell_type": "markdown",
      "metadata": {},
      "source": [
        "File Format for frequency domain data\n+++++++++++++++++++++++++++++++++++++\nHere we describe the file format for frequency domain data.\n\nThe data columns are read in according to the column names in the first line.\n\nIn this description, the column name or its alternatives are given followed by what the name represents.\nOptional columns are also described.\n\nRequired columns\n________________\nline\n    Line number for the data point\nfid\n    Unique identification number of the data point\nx or northing or n\n    Northing co-ordinate of the data point, (m)\ny or easting or e\n    Easting co-ordinate of the data point, (m)\nz or alt\n    Altitude of the transmitter coil above ground level (m)\nelevation\n    Elevation of the ground at the data point (m)\nI_<frequency[0]> Q_<frequency[0]> ... I_<frequency[last]> Q_<frequency[last]>  - with the number and square brackets\n    The measurements for each frequency specified in the accompanying system file.\n    I is the real inphase measurement in (ppm)\n    Q is the imaginary quadrature measurement in (ppm)\nOptional columns\n________________\nInphaseErr[0] QuadratureErr[0] ... InphaseErr[nFrequencies] QuadratureErr[nFrequencies]\n    Estimates of standard deviation for each inphase and quadrature measurement.\n    These must appear after the data colums.\n\nExample Header\n______________\nLine fid easting northing elevation height I_380 Q_380 ... ... I_129550 Q_129550\n\n"
      ]
    },
    {
      "cell_type": "markdown",
      "metadata": {},
      "source": [
        "File Format for a frequency domain system\n+++++++++++++++++++++++++++++++++++++++++\n.. role:: raw-html(raw)\n   :format: html\n\nThe system file is structured using columns with the first line containing header information\n\nEach subsequent row contains the information for each measurement frequency\n\nfreq\n    Frequency of the channel\ntor\n    Orientation of the transmitter loop 'x', or 'z'\ntmom\n    Transmitter moment\ntx, ty, tx\n    Offset of the transmitter with respect to the observation locations\nror\n    Orientation of the receiver loop 'x', or 'z'\nrmom\n    Receiver moment\nrx, ry, rz\n    Offset of the receiver with respect to the transmitter location\n\nExample system files are contained in\n`the supplementary folder`_ in this repository\n\n\nSee the Resolve.stm files.\n"
      ]
    }
  ],
  "metadata": {
    "kernelspec": {
      "display_name": "Python 3",
      "language": "python",
      "name": "python3"
    },
    "language_info": {
      "codemirror_mode": {
        "name": "ipython",
        "version": 3
      },
      "file_extension": ".py",
      "mimetype": "text/x-python",
      "name": "python",
      "nbconvert_exporter": "python",
      "pygments_lexer": "ipython3",
      "version": "3.7.4"
    }
  },
  "nbformat": 4,
  "nbformat_minor": 0
}