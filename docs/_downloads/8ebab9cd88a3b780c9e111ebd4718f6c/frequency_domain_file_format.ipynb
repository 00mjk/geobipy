{
  "cells": [
    {
      "cell_type": "code",
      "execution_count": null,
      "metadata": {
        "collapsed": false
      },
      "outputs": [],
      "source": [
        "%matplotlib inline"
      ]
    },
    {
      "cell_type": "markdown",
      "metadata": {},
      "source": [
        "\nFile Format for frequency domain data\n+++++++++++++++++++++++++++++++++++++\n"
      ]
    },
    {
      "cell_type": "code",
      "execution_count": null,
      "metadata": {
        "collapsed": false
      },
      "outputs": [],
      "source": [
        "# Here we describe the file format for frequency domain data.\n#\n# The data columns are read in according to the column names in the first line.\n#\n# In this description, the column name or its alternatives are given followed by what the name represents.\n# Optional columns are also described.\n#\n# Required columns\n# ________________\n# line\n#     Line number for the data point\n# fid\n#     Unique identification number of the data point\n# x or northing or n\n#     Northing co-ordinate of the data point, (m)\n# y or easting or e\n#     Easting co-ordinate of the data point, (m)\n# z or alt\n#     Altitude of the transmitter coil above ground level (m)\n# elevation\n#     Elevation of the ground at the data point (m)\n# I_<frequency[0]> Q_<frequency[0]> ... I_<frequency[last]> Q_<frequency[last]>  - with the number and square brackets\n#     The measurements for each frequency specified in the accompanying system file.\n#     I is the real inphase measurement in (ppm)\n#     Q is the imaginary quadrature measurement in (ppm)\n# Optional columns\n# ________________\n# InphaseErr[0] QuadratureErr[0] ... InphaseErr[nFrequencies] QuadratureErr[nFrequencies]\n#     Estimates of standard deviation for each inphase and quadrature measurement.\n#     These must appear after the data colums.\n#\n# Example Header\n# ______________\n# Line fid easting northing elevation height I_380 Q_380 ... ... I_129550 Q_129550"
      ]
    },
    {
      "cell_type": "markdown",
      "metadata": {},
      "source": [
        "File Format for a frequency domain system\n+++++++++++++++++++++++++++++++++++++++++\n.. role:: raw-html(raw)\n   :format: html\n\nThe system file is structured using columns with the first line containing header information\n\nEach subsequent row contains the information for each measurement frequency\n\nfreq\n    Frequency of the channel\ntor\n    Orientation of the transmitter loop 'x', or 'z'\ntmom\n    Transmitter moment\ntx, ty, tx\n    Offset of the transmitter with respect to the observation locations\nror\n    Orientation of the receiver loop 'x', or 'z'\nrmom\n    Receiver moment\nrx, ry, rz\n    Offset of the receiver with respect to the transmitter location\n\nExample system files are contained in\n`the supplementary folder`_ in this repository\n\n\nSee the Resolve.stm files.\n"
      ]
    }
  ],
  "metadata": {
    "kernelspec": {
      "display_name": "Python 3",
      "language": "python",
      "name": "python3"
    },
    "language_info": {
      "codemirror_mode": {
        "name": "ipython",
        "version": 3
      },
      "file_extension": ".py",
      "mimetype": "text/x-python",
      "name": "python",
      "nbconvert_exporter": "python",
      "pygments_lexer": "ipython3",
      "version": "3.7.4"
    }
  },
  "nbformat": 4,
  "nbformat_minor": 0
}