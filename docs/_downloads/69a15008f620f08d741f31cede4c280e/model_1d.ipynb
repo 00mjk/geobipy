{
  "cells": [
    {
      "cell_type": "code",
      "execution_count": null,
      "metadata": {
        "collapsed": false
      },
      "outputs": [],
      "source": [
        "%matplotlib inline"
      ]
    },
    {
      "cell_type": "markdown",
      "metadata": {},
      "source": [
        "\n1D Model with an infinite halfspace\n-----------------------------------\n"
      ]
    },
    {
      "cell_type": "code",
      "execution_count": null,
      "metadata": {
        "collapsed": false
      },
      "outputs": [],
      "source": [
        "from geobipy import StatArray\nfrom geobipy import Model1D\nimport matplotlib.pyplot as plt\nimport numpy as np\nimport h5py\nfrom geobipy import hdfRead"
      ]
    },
    {
      "cell_type": "markdown",
      "metadata": {},
      "source": [
        "Make a test model with 10 layers, and increasing parameter values\n\n"
      ]
    },
    {
      "cell_type": "code",
      "execution_count": null,
      "metadata": {
        "collapsed": false
      },
      "outputs": [],
      "source": [
        "par = StatArray(np.linspace(0.01, 0.1, 10), \"Conductivity\", \"$\\\\frac{S}{m}$\")\nthk = StatArray(np.ones(9) * 10.0)\nmod = Model1D(parameters=par, thickness=thk)"
      ]
    },
    {
      "cell_type": "code",
      "execution_count": null,
      "metadata": {
        "collapsed": false
      },
      "outputs": [],
      "source": [
        "mod.summary()"
      ]
    },
    {
      "cell_type": "markdown",
      "metadata": {},
      "source": [
        "Randomness and Model Perturbations\nWe can make the 1D model perturbable by assigning minimum and maximum layer\ndepths, a maximum number of layers, and a probability wheel describing the\nrelative probabilities of either creating a layer, deleting a layer, moving\nan interface, or doing nothing.\n\n"
      ]
    },
    {
      "cell_type": "code",
      "execution_count": null,
      "metadata": {
        "collapsed": false
      },
      "outputs": [],
      "source": [
        "prng = np.random.RandomState()\n# Assign probabilities to the model layers\n# They are the cumulative probability of life-death-perturb-doNothing\nmod.setPriors(pWheel=[0.5, 0.05, 0.15, 0.1], halfSpaceValue=1.0, minDepth=1.0, maxDepth=150.0, maxLayers=30, prng=prng)\n# We can then perturb the layers of the model\nperturbed = mod.perturbStructure()"
      ]
    },
    {
      "cell_type": "code",
      "execution_count": null,
      "metadata": {
        "collapsed": false
      },
      "outputs": [],
      "source": [
        "plt.figure(figsize=(8,6))\nplt.subplot(121)\nmod.pcolor(grid=True)\nplt.subplot(122)\nperturbed.pcolor(grid=True)\nplt.savefig('Perturbed.png', dpi=200, figsize=(8,6))"
      ]
    },
    {
      "cell_type": "code",
      "execution_count": null,
      "metadata": {
        "collapsed": false
      },
      "outputs": [],
      "source": [
        "plt.figure()\nmod.plot()"
      ]
    },
    {
      "cell_type": "markdown",
      "metadata": {},
      "source": [
        "We can evaluate the prior of the model\n\n"
      ]
    },
    {
      "cell_type": "code",
      "execution_count": null,
      "metadata": {
        "collapsed": false
      },
      "outputs": [],
      "source": [
        "try:\n  tmp.priorProbability(True,True) # This is meant to fail here!\nexcept:\n  print('This will not work because no prior has been assigned')"
      ]
    },
    {
      "cell_type": "markdown",
      "metadata": {},
      "source": [
        "This last command failed because we did not assign a prior distribution to the model parameters\n\n"
      ]
    },
    {
      "cell_type": "code",
      "execution_count": null,
      "metadata": {
        "collapsed": false
      },
      "outputs": [],
      "source": [
        "# Set priors on the depth interfaces, given a number of layers\nmod.depth.setPrior('Order',mod.minDepth,mod.maxDepth,mod.minThickness,30)\n# To include priors on the parameter and change in the parameter, we need to assign their priors\n# Assign a multivariate normal distribution that is logged to the conductivities\nmod.par.setPrior('MvNormalLog',np.log(0.004),np.log(11.0), prng=prng)\n# Assign a prior to the derivative of the model\nmod.dpar.setPrior('MvNormalLog',0.0,np.float64(1.5), prng=prng)\n# We can evaluate the prior of the model using depths only\nprint('Probability of the Model given its priors: ', mod.priorProbability(False,False))\n# Or with priors on its parameters, and parameter gradient with depth.\nprint('Probability of the Model given its priors: ', mod.priorProbability(True,True))"
      ]
    },
    {
      "cell_type": "markdown",
      "metadata": {},
      "source": [
        "Evaluating the prior uses the probability of the parameter distributions\n\n"
      ]
    },
    {
      "cell_type": "code",
      "execution_count": null,
      "metadata": {
        "collapsed": false
      },
      "outputs": [],
      "source": [
        "# Evaluate the probability for these depths\nprint(mod.depth.probability(mod.nCells))"
      ]
    },
    {
      "cell_type": "markdown",
      "metadata": {},
      "source": [
        "Write to a HDF5 file\n\n"
      ]
    },
    {
      "cell_type": "code",
      "execution_count": null,
      "metadata": {
        "collapsed": false
      },
      "outputs": [],
      "source": [
        "with h5py.File('Model1D.h5','w') as hf:\n    mod.toHdf(hf,'Model1D')"
      ]
    },
    {
      "cell_type": "markdown",
      "metadata": {},
      "source": [
        "Read from the file\n\n"
      ]
    },
    {
      "cell_type": "code",
      "execution_count": null,
      "metadata": {
        "collapsed": false
      },
      "outputs": [],
      "source": [
        "ModNew=hdfRead.readKeyFromFiles('Model1D.h5','/','Model1D')"
      ]
    },
    {
      "cell_type": "code",
      "execution_count": null,
      "metadata": {
        "collapsed": false
      },
      "outputs": [],
      "source": [
        "plt.figure()\nax = plt.subplot(131)\nModNew.pcolor(grid=True)\nplt.subplot(133, sharey = ax)\nModNew.plot(flipY=False)"
      ]
    },
    {
      "cell_type": "markdown",
      "metadata": {},
      "source": [
        "Creating memory in HDF5 to accomodate multiple models\n\n"
      ]
    },
    {
      "cell_type": "code",
      "execution_count": null,
      "metadata": {
        "collapsed": false
      },
      "outputs": [],
      "source": [
        "# Create an initial Model class with enough layers to hold as many layers as we expect. (an upper bound)\ntmp = Model1D(nCells=20)\n\n# Open the file\nf = h5py.File('Model1D.h5','w')\n\n# Create the memory using the temporary model with space for 2 models.\ntmp.createHdf(f, myName='test', nRepeats=2)\n\n# Write mod and perturbed to different entries in the HDF5 file\nmod.writeHdf(f, 'test', index=0)\nperturbed.writeHdf(f, 'test', index=1)\n\n# Close the file\nf.close()"
      ]
    },
    {
      "cell_type": "markdown",
      "metadata": {},
      "source": [
        "Reading from a HDF5 file with multiple models\n\n"
      ]
    },
    {
      "cell_type": "code",
      "execution_count": null,
      "metadata": {
        "collapsed": false
      },
      "outputs": [],
      "source": [
        "# Special read functions\nfrom geobipy import hdfRead\n# Open the file\nf = h5py.File('Model1D.h5', 'r')\n# Read the Model1D from the file\ntmp = hdfRead.readKeyFromFile(f, fName='Model1D.h5', groupName='/', key='test', index=1)\nf.close()"
      ]
    },
    {
      "cell_type": "markdown",
      "metadata": {},
      "source": [
        "Creating a hitmap and adding a 1D model to it\n\n"
      ]
    },
    {
      "cell_type": "code",
      "execution_count": null,
      "metadata": {
        "collapsed": false
      },
      "outputs": [],
      "source": [
        "from geobipy import Hitmap2D\nx = StatArray(np.logspace(-3, -0, 100), name='Parameter')\ny = StatArray(np.linspace(0.0, 200.0, 100), name='Depth', units='m')\nHit = Hitmap2D(xBins=x, yBins=y)"
      ]
    },
    {
      "cell_type": "markdown",
      "metadata": {},
      "source": [
        "If we perturb a model multiple times, we can add each model to the hitmap\n\n"
      ]
    },
    {
      "cell_type": "code",
      "execution_count": null,
      "metadata": {
        "collapsed": false
      },
      "outputs": [],
      "source": [
        "perturbed.addToHitMap(Hitmap=Hit)\nfor i in range(100):\n    perturbed = perturbed.perturbStructure()\n    perturbed.addToHitMap(Hitmap=Hit)"
      ]
    },
    {
      "cell_type": "code",
      "execution_count": null,
      "metadata": {
        "collapsed": false
      },
      "outputs": [],
      "source": [
        "plt.figure()\nHit.pcolor(flipY=True, xscale='log', cmap='gray_r')"
      ]
    },
    {
      "cell_type": "markdown",
      "metadata": {},
      "source": [
        "We can access and plot the elements of model. The parameters are an [StatArray](../../Base/StatArray_Class.ipynb)\n\n"
      ]
    },
    {
      "cell_type": "code",
      "execution_count": null,
      "metadata": {
        "collapsed": false
      },
      "outputs": [],
      "source": [
        "plt.figure()\nmod.par.plot()"
      ]
    },
    {
      "cell_type": "markdown",
      "metadata": {},
      "source": [
        "Or we can plot the 1D model as coloured blocks\n\n"
      ]
    },
    {
      "cell_type": "code",
      "execution_count": null,
      "metadata": {
        "collapsed": false
      },
      "outputs": [],
      "source": [
        "plt.figure()\nperturbed.pcolor(grid=True)"
      ]
    }
  ],
  "metadata": {
    "kernelspec": {
      "display_name": "Python 3",
      "language": "python",
      "name": "python3"
    },
    "language_info": {
      "codemirror_mode": {
        "name": "ipython",
        "version": 3
      },
      "file_extension": ".py",
      "mimetype": "text/x-python",
      "name": "python",
      "nbconvert_exporter": "python",
      "pygments_lexer": "ipython3",
      "version": "3.7.3"
    }
  },
  "nbformat": 4,
  "nbformat_minor": 0
}