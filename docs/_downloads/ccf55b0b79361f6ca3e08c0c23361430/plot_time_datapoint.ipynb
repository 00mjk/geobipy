{
  "cells": [
    {
      "cell_type": "code",
      "execution_count": null,
      "metadata": {
        "collapsed": false
      },
      "outputs": [],
      "source": [
        "%matplotlib inline"
      ]
    },
    {
      "cell_type": "markdown",
      "metadata": {},
      "source": [
        "\nTime Domain Datapoint Class\n---------------------------\n"
      ]
    },
    {
      "cell_type": "markdown",
      "metadata": {},
      "source": [
        "There are three ways in which to create a time domain datapoint\n\n1) `Instantiating a time domain datapoint`\n\n2) `Reading a datapoint from a file`\n\n3) `Obtaining a datapoint from a dataset`\n\nOnce instantiated, see `Using a time domain datapoint`\n\n"
      ]
    },
    {
      "cell_type": "code",
      "execution_count": null,
      "metadata": {
        "collapsed": false
      },
      "outputs": [],
      "source": [
        "from os.path import join\nimport numpy as np\nimport h5py\nimport matplotlib.pyplot as plt\nfrom geobipy import hdfRead\nfrom geobipy import Waveform\nfrom geobipy import SquareLoop, CircularLoop\nfrom geobipy import butterworth\nfrom geobipy import TdemSystem\nfrom geobipy import TdemData\nfrom geobipy import TdemDataPoint\nfrom geobipy import Model1D\nfrom geobipy import StatArray\nfrom geobipy import Distribution\n\ndataFolder = \"..//supplementary//Data//\"\n# dataFolder = \"source//examples//supplementary//Data//\""
      ]
    },
    {
      "cell_type": "markdown",
      "metadata": {},
      "source": [
        "Instantiating a time domain datapoint\n+++++++++++++++++++++++++++++++++++++\n\nIn this first example, we define a ground based WalkTEM data point.\n\nGround time domain data are forward modelled using the `empymod package <https://empymod.readthedocs.io/en/stable/index.html>`_\n\n"
      ]
    },
    {
      "cell_type": "markdown",
      "metadata": {},
      "source": [
        "Define some time gates\n\n"
      ]
    },
    {
      "cell_type": "code",
      "execution_count": null,
      "metadata": {
        "collapsed": false
      },
      "outputs": [],
      "source": [
        "# Low moment\nlm_off_time = np.array([\n    1.149E-05, 1.350E-05, 1.549E-05, 1.750E-05, 2.000E-05, 2.299E-05,\n    2.649E-05, 3.099E-05, 3.700E-05, 4.450E-05, 5.350E-05, 6.499E-05,\n    7.949E-05, 9.799E-05, 1.215E-04, 1.505E-04, 1.875E-04, 2.340E-04,\n    2.920E-04, 3.655E-04, 4.580E-04, 5.745E-04, 7.210E-04\n])\n\n# High moment\nhm_off_time = np.array([\n    9.810e-05, 1.216e-04, 1.506e-04, 1.876e-04, 2.341e-04, 2.921e-04,\n    3.656e-04, 4.581e-04, 5.746e-04, 7.211e-04, 9.056e-04, 1.138e-03,\n    1.431e-03, 1.799e-03, 2.262e-03, 2.846e-03, 3.580e-03, 4.505e-03,\n    5.670e-03, 7.135e-03\n])"
      ]
    },
    {
      "cell_type": "markdown",
      "metadata": {},
      "source": [
        "Define some observed data values for each time gate.\n\n"
      ]
    },
    {
      "cell_type": "code",
      "execution_count": null,
      "metadata": {
        "collapsed": false
      },
      "outputs": [],
      "source": [
        "lm_data = np.array([\n    7.980836E-06, 4.459270E-06, 2.909954E-06, 2.116353E-06, 1.571503E-06,\n    1.205928E-06, 9.537814E-07, 7.538660E-07, 5.879494E-07, 4.572059E-07,\n    3.561824E-07, 2.727531E-07, 2.058368E-07, 1.524225E-07, 1.107586E-07,\n    7.963634E-08, 5.598970E-08, 3.867087E-08, 2.628711E-08, 1.746382E-08,\n    1.136561E-08, 7.234771E-09, 4.503902E-09\n])\n\n# High moment\nhm_data = np.array([\n    1.563517e-07, 1.139461e-07, 8.231679e-08, 5.829438e-08, 4.068236e-08,\n    2.804896e-08, 1.899818e-08, 1.268473e-08, 8.347439e-09, 5.420791e-09,\n    3.473876e-09, 2.196246e-09, 1.372012e-09, 8.465165e-10, 5.155328e-10,\n    3.099162e-10, 1.836829e-10, 1.072522e-10, 6.161256e-11, 3.478720e-11\n])"
      ]
    },
    {
      "cell_type": "markdown",
      "metadata": {},
      "source": [
        "Create a Waveform\n\nThe Waveform class defines a half waveform\n\n"
      ]
    },
    {
      "cell_type": "code",
      "execution_count": null,
      "metadata": {
        "collapsed": false
      },
      "outputs": [],
      "source": [
        "lm_waveform = Waveform(time=np.r_[-1.041E-03, -9.850E-04, 0.000E+00, 4.000E-06],\n                       amplitude=np.r_[0.0, 1.0, 1.0, 0.0],\n                       current=1.0)\nhm_waveform = Waveform(time=np.r_[-8.333E-03, -8.033E-03, 0.000E+00, 5.600E-06],\n                       amplitude=np.r_[0.0, 1.0, 1.0, 0.0],\n                       current=1.0)\n\nplt.figure()\nlm_waveform.plot(label='Low Moment')\nhm_waveform.plot(label='High Moment', linestyle='-.')\nplt.legend()"
      ]
    },
    {
      "cell_type": "markdown",
      "metadata": {},
      "source": [
        "Define the transmitter and reciever loops\n\n"
      ]
    },
    {
      "cell_type": "code",
      "execution_count": null,
      "metadata": {
        "collapsed": false
      },
      "outputs": [],
      "source": [
        "transmitter = SquareLoop(sideLength=40.0)\nreceiver = CircularLoop()"
      ]
    },
    {
      "cell_type": "markdown",
      "metadata": {},
      "source": [
        "Define two butterworth filters to be applied to the off-time data.\n\n"
      ]
    },
    {
      "cell_type": "code",
      "execution_count": null,
      "metadata": {
        "collapsed": false
      },
      "outputs": [],
      "source": [
        "filters = [butterworth(1, 4.5e5, btype='low'), butterworth(1, 3.e5, btype='low')]"
      ]
    },
    {
      "cell_type": "markdown",
      "metadata": {},
      "source": [
        "Create the time domain systems for both moments\n\n"
      ]
    },
    {
      "cell_type": "code",
      "execution_count": null,
      "metadata": {
        "collapsed": false
      },
      "outputs": [],
      "source": [
        "lm_system = TdemSystem(offTimes=lm_off_time,\n                       transmitterLoop=transmitter,\n                       receiverLoop=receiver,\n                       loopOffset=np.r_[0.0, 0.0, 0.0], # Centre loop sounding\n                       waveform=lm_waveform,\n                       offTimeFilters=filters)\n\nhm_system = TdemSystem(offTimes=hm_off_time,\n                       transmitterLoop=transmitter,\n                       receiverLoop=receiver,\n                       loopOffset=np.r_[0.0, 0.0, 0.0], # Centre loop sounding\n                       waveform=hm_waveform,\n                       offTimeFilters=filters)\n\nsystems = [lm_system, hm_system]"
      ]
    },
    {
      "cell_type": "markdown",
      "metadata": {},
      "source": [
        "Instantiate the time domain datapoint\n\n"
      ]
    },
    {
      "cell_type": "code",
      "execution_count": null,
      "metadata": {
        "collapsed": false
      },
      "outputs": [],
      "source": [
        "tdp = TdemDataPoint(x=0.0, y=0.0, z=0.0, elevation=0.0,\n                    data=[lm_data, hm_data], std=None, predictedData=None,\n                    system=systems, lineNumber=0.0, fiducial=0.0)"
      ]
    },
    {
      "cell_type": "code",
      "execution_count": null,
      "metadata": {
        "collapsed": false
      },
      "outputs": [],
      "source": [
        "plt.figure()\ntdp.plot(with_error_bars=False)"
      ]
    },
    {
      "cell_type": "markdown",
      "metadata": {},
      "source": [
        "Reading a datapoint from a file\n+++++++++++++++++++++++++++++++\nWe can read in time domain datapoints from individual datapoint files using the\nAarhusInv data format.\n\n"
      ]
    },
    {
      "cell_type": "code",
      "execution_count": null,
      "metadata": {
        "collapsed": false
      },
      "outputs": [],
      "source": [
        "tdp = TdemDataPoint()\ntdp.read([dataFolder+\"//WalkTEM_LM.txt\", dataFolder+\"//WalkTEM_HM.txt\"])"
      ]
    },
    {
      "cell_type": "code",
      "execution_count": null,
      "metadata": {
        "collapsed": false
      },
      "outputs": [],
      "source": [
        "plt.figure()\ntdp.plot()"
      ]
    },
    {
      "cell_type": "markdown",
      "metadata": {},
      "source": [
        "Obtaining a datapoint from a dataset\n++++++++++++++++++++++++++++++++++++\nMore often than not, our observed data is stored in a file on disk.\nWe can read in a dataset and pull datapoints from it.\n\nFor more information about the time domain data set, see `Time domain dataset`\n\n"
      ]
    },
    {
      "cell_type": "code",
      "execution_count": null,
      "metadata": {
        "collapsed": false
      },
      "outputs": [],
      "source": [
        "# The data file name\ndataFile=[dataFolder + 'Skytem_High.txt', dataFolder + 'Skytem_Low.txt']\n# The EM system file name\nsystemFile=[dataFolder + 'SkytemHM-SLV.stm', dataFolder + 'SkytemLM-SLV.stm']"
      ]
    },
    {
      "cell_type": "markdown",
      "metadata": {},
      "source": [
        "Initialize and read an EM data set\n\n"
      ]
    },
    {
      "cell_type": "code",
      "execution_count": null,
      "metadata": {
        "collapsed": false
      },
      "outputs": [],
      "source": [
        "D = TdemData()\nD.read(dataFile, systemFile)"
      ]
    },
    {
      "cell_type": "markdown",
      "metadata": {},
      "source": [
        "Get a datapoint from the dataset\n\n"
      ]
    },
    {
      "cell_type": "code",
      "execution_count": null,
      "metadata": {
        "collapsed": false
      },
      "outputs": [],
      "source": [
        "tdp = D.datapoint(0)\nplt.figure()\ntdp.plot()"
      ]
    },
    {
      "cell_type": "markdown",
      "metadata": {},
      "source": [
        "Using a time domain datapoint\n+++++++++++++++++++++++++++++\n\n"
      ]
    },
    {
      "cell_type": "markdown",
      "metadata": {},
      "source": [
        "We can define a 1D layered earth model, and use it to predict some data\n\n"
      ]
    },
    {
      "cell_type": "code",
      "execution_count": null,
      "metadata": {
        "collapsed": false
      },
      "outputs": [],
      "source": [
        "par = StatArray(np.r_[500.0, 20.0], \"Conductivity\", \"$\\frac{S}{m}$\")\nmod = Model1D(depth=np.r_[75.0], parameters=par)"
      ]
    },
    {
      "cell_type": "markdown",
      "metadata": {},
      "source": [
        "Forward model the data\n\n"
      ]
    },
    {
      "cell_type": "code",
      "execution_count": null,
      "metadata": {
        "collapsed": false
      },
      "outputs": [],
      "source": [
        "tdp.forward(mod)"
      ]
    },
    {
      "cell_type": "code",
      "execution_count": null,
      "metadata": {
        "collapsed": false
      },
      "outputs": [],
      "source": [
        "plt.figure()\nplt.subplot(121)\n_ = mod.pcolor()\nplt.subplot(122)\n_ = tdp.plot()\n_ = tdp.plotPredicted()\nplt.tight_layout()"
      ]
    },
    {
      "cell_type": "code",
      "execution_count": null,
      "metadata": {
        "collapsed": false
      },
      "outputs": [],
      "source": [
        "plt.figure()\ntdp.plotDataResidual(xscale='log', log=10)"
      ]
    },
    {
      "cell_type": "markdown",
      "metadata": {},
      "source": [
        "Compute the sensitivity matrix for a given model\n\n"
      ]
    },
    {
      "cell_type": "code",
      "execution_count": null,
      "metadata": {
        "collapsed": false
      },
      "outputs": [],
      "source": [
        "J = tdp.sensitivity(mod)\nplt.figure()\n_ = np.abs(J).pcolor(equalize=True, log=10, flipY=True)"
      ]
    },
    {
      "cell_type": "markdown",
      "metadata": {},
      "source": [
        "Attaching statistical descriptors to the datapoint\n++++++++++++++++++++++++++++++++++++++++++++++++++\n\nDefine a multivariate log normal distribution as the prior on the predicted data.\n\n"
      ]
    },
    {
      "cell_type": "code",
      "execution_count": null,
      "metadata": {
        "collapsed": false
      },
      "outputs": [],
      "source": [
        "tdp.predictedData.setPrior('MvLogNormal', tdp.data[tdp.active], tdp.std[tdp.active]**2.0)"
      ]
    },
    {
      "cell_type": "markdown",
      "metadata": {},
      "source": [
        "This allows us to evaluate the likelihood of the predicted data\n\n"
      ]
    },
    {
      "cell_type": "code",
      "execution_count": null,
      "metadata": {
        "collapsed": false
      },
      "outputs": [],
      "source": [
        "print(tdp.likelihood(log=True))\n# Or the misfit\nprint(tdp.dataMisfit())"
      ]
    },
    {
      "cell_type": "markdown",
      "metadata": {},
      "source": [
        "We can perform a quick search for the best fitting half space\n\n"
      ]
    },
    {
      "cell_type": "code",
      "execution_count": null,
      "metadata": {
        "collapsed": false
      },
      "outputs": [],
      "source": [
        "halfspace = tdp.FindBestHalfSpace()\nprint('Best half space conductivity is {} $S/m$'.format(halfspace.par))\nplt.figure()\n_ = tdp.plot()\n_ = tdp.plotPredicted()"
      ]
    },
    {
      "cell_type": "markdown",
      "metadata": {},
      "source": [
        "Compute the misfit between observed and predicted data\n\n"
      ]
    },
    {
      "cell_type": "code",
      "execution_count": null,
      "metadata": {
        "collapsed": false
      },
      "outputs": [],
      "source": [
        "print(tdp.dataMisfit())"
      ]
    },
    {
      "cell_type": "markdown",
      "metadata": {},
      "source": [
        "Plot the misfits for a range of half space conductivities\n\n"
      ]
    },
    {
      "cell_type": "code",
      "execution_count": null,
      "metadata": {
        "collapsed": false
      },
      "outputs": [],
      "source": [
        "plt.figure()\n_ = tdp.plotHalfSpaceResponses(-6.0, 4.0, 200)\nplt.title(\"Halfspace responses\")"
      ]
    },
    {
      "cell_type": "markdown",
      "metadata": {},
      "source": [
        "We can attach priors to the height of the datapoint,\nthe relative error multiplier, and the additive error noise floor\n\n"
      ]
    },
    {
      "cell_type": "code",
      "execution_count": null,
      "metadata": {
        "collapsed": false
      },
      "outputs": [],
      "source": [
        "# Set values of relative and additive error for both systems.\ntdp.relErr = [0.05, 0.05]\ntdp.addErr = [1e-11, 1e-12]\n\n# Define the distributions used as priors.\nheightPrior = Distribution('Uniform', min=np.float64(tdp.z) - 2.0, max=np.float64(tdp.z) + 2.0)\nrelativePrior = Distribution('Uniform', min=np.r_[0.01, 0.01], max=np.r_[0.5, 0.5])\nadditivePrior = Distribution('Uniform', min=np.r_[1e-12, 1e-13], max=np.r_[1e-10, 1e-11], log=True)\ntdp.setPriors(heightPrior, relativePrior, additivePrior)"
      ]
    },
    {
      "cell_type": "markdown",
      "metadata": {},
      "source": [
        "In order to perturb our solvable parameters, we need to attach proposal distributions\n\n"
      ]
    },
    {
      "cell_type": "code",
      "execution_count": null,
      "metadata": {
        "collapsed": false
      },
      "outputs": [],
      "source": [
        "heightProposal = Distribution('Normal', mean=tdp.z, variance = 0.01)\nrelativeProposal = Distribution('MvNormal', mean=tdp.relErr, variance=2.5e-7)\nadditiveProposal = Distribution('MvLogNormal', mean=tdp.addErr, variance=2.5e-3, linearSpace=True)\ntdp.setProposals(heightProposal, relativeProposal, additiveProposal)"
      ]
    },
    {
      "cell_type": "markdown",
      "metadata": {},
      "source": [
        "With priorss set we can auto generate the posteriors\n\n"
      ]
    },
    {
      "cell_type": "code",
      "execution_count": null,
      "metadata": {
        "collapsed": false
      },
      "outputs": [],
      "source": [
        "tdp.setPosteriors()"
      ]
    },
    {
      "cell_type": "markdown",
      "metadata": {},
      "source": [
        "Perturb the datapoint and record the perturbations\n\n"
      ]
    },
    {
      "cell_type": "code",
      "execution_count": null,
      "metadata": {
        "collapsed": false
      },
      "outputs": [],
      "source": [
        "for i in range(1000):\n    tdp.perturb(True, True, True, False)\n    tdp.updatePosteriors()"
      ]
    },
    {
      "cell_type": "markdown",
      "metadata": {},
      "source": [
        "Plot the posterior distributions\n\n"
      ]
    },
    {
      "cell_type": "code",
      "execution_count": null,
      "metadata": {
        "collapsed": false
      },
      "outputs": [],
      "source": [
        "plt.figure()\n_ = tdp.z.plotPosteriors()"
      ]
    },
    {
      "cell_type": "code",
      "execution_count": null,
      "metadata": {
        "collapsed": false
      },
      "outputs": [],
      "source": [
        "plt.figure()\n_ = tdp.relErr.plotPosteriors()"
      ]
    },
    {
      "cell_type": "code",
      "execution_count": null,
      "metadata": {
        "collapsed": false
      },
      "outputs": [],
      "source": [
        "plt.figure()\n_ = tdp.addErr.plotPosteriors()"
      ]
    },
    {
      "cell_type": "markdown",
      "metadata": {},
      "source": [
        "File Format for a time domain datapoint\n+++++++++++++++++++++++++++++++++++++++\nHere we describe the file format for a time domain datapoint.\n\nFor individual datapoints we are using the AarhusInv data format.\n\nHere we take the description for the AarhusInv TEM data file, modified to reflect what we can\ncurrently handle in GeoBIPy.\n\nLine 1 :: string\n  User-defined label describing the TEM datapoint.\n  This line must contain the following, separated by semicolons.\n  XUTM=\n  YUTM=\n  Elevation=\n  StationNumber=\n  LineNumber=\n  Current=\n\nLine 2 :: first integer, sourceType\n  7 = Rectangular loop source parallel to the x - y plane\nLine 2 :: second integer, polarization\n  3 = Vertical magnetic field\n\nLine 3 :: 6 floats, transmitter and receiver offsets relative to X/Y UTM location.\n  If sourceType = 7, Position of the center loop sounding.\n\nLine 4 :: Transmitter loop dimensions\n  If sourceType = 7, 2 floats.  Loop side length in the x and y directions\n\nLine 5 :: Fixed\n  3 3 3\n\nLine 6 :: first integer, transmitter waveform type. Fixed\n  3 = User defined waveform.\n\nLine 6 :: second integer, number of transmitter waveforms. Fixed\n  1\n\nLine 7 :: transmitter waveform definition\n  A user-defined waveform with piecewise linear segments.\n  A full transmitter waveform definition consists of a number of linear segments\n  This line contains an integer as the first entry, which specifies the number of\n  segments, followed by each segment with 4 floats each. The 4 floats per segment\n  are the start and end times, and start and end amplitudes of the waveform. e.g.\n  3  -8.333e-03 -8.033e-03 0.0 1.0 -8.033e-03 0.0 1.0 1.0 0.0 5.4e-06 1.0 0.0\n\nLine 8 :: On time information. Not used but needs specifying.\n  1 1 1\n\nLine 9 :: On time low-pass filters.  Not used but need specifying.\n  0\n\nLine 10 :: On time high-pass filters. Not used but need specifying.\n  0\n\nLine 11 :: Front-gate time. Not used but need specifying.\n  0.0\n\nLine 12 :: first integer, Number of off time filters\n  Number of filters\n\nLine 12 :: second integer, Order of the butterworth filter\n  1 or 2\n\nLine 12 :: cutoff frequencies Hz, one per the number of filters\n  e.g. 4.5e5\n\nLine 13 :: Off time high pass filters.\n  See Line 12\n\nLines after 13 contain 3 columns that pertain to\nMeasurement Time, Data Value, Estimated Standard Deviation\n\nExample data files are contained in\n`the supplementary folder`_ in this repository\n\n"
      ]
    }
  ],
  "metadata": {
    "kernelspec": {
      "display_name": "Python 3",
      "language": "python",
      "name": "python3"
    },
    "language_info": {
      "codemirror_mode": {
        "name": "ipython",
        "version": 3
      },
      "file_extension": ".py",
      "mimetype": "text/x-python",
      "name": "python",
      "nbconvert_exporter": "python",
      "pygments_lexer": "ipython3",
      "version": "3.7.4"
    }
  },
  "nbformat": 4,
  "nbformat_minor": 0
}