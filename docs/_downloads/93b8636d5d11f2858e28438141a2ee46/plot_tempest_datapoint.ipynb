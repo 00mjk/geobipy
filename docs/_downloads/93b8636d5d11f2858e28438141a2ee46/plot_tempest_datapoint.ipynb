{
  "cells": [
    {
      "cell_type": "code",
      "execution_count": null,
      "metadata": {
        "collapsed": false
      },
      "outputs": [],
      "source": [
        "%matplotlib inline"
      ]
    },
    {
      "cell_type": "markdown",
      "metadata": {},
      "source": [
        "\n# Tempest Datapoint Class\n"
      ]
    },
    {
      "cell_type": "markdown",
      "metadata": {},
      "source": [
        "There are three ways in which to create a time domain datapoint\n\n1) `Instantiating a time domain datapoint`\n\n2) `Reading a datapoint from a file`\n\n3) `Obtaining a datapoint from a dataset`\n\nOnce instantiated, see `Using a time domain datapoint`\n\nCredits:\nWe would like to thank Ross Brodie at Geoscience Australia for his airborne time domain forward modeller\nhttps://github.com/GeoscienceAustralia/ga-aem\n\nFor ground-based time domain data, we are using Dieter Werthmuller's python package Empymod\nhttps://empymod.github.io/\n\nThanks to Dieter for his help getting Empymod ready for incorporation into GeoBIPy\n\n"
      ]
    },
    {
      "cell_type": "code",
      "execution_count": null,
      "metadata": {
        "collapsed": false
      },
      "outputs": [],
      "source": [
        "from os.path import join\nimport numpy as np\nimport h5py\nimport matplotlib.pyplot as plt\nfrom geobipy import hdfRead\nfrom geobipy import Waveform\nfrom geobipy import SquareLoop, CircularLoop\nfrom geobipy import butterworth\nfrom geobipy import TdemSystem\nfrom geobipy import TempestData\n# from geobipy import TemDataPoint\nfrom geobipy import Model1D\nfrom geobipy import StatArray\nfrom geobipy import Distribution\n\ndataFolder = \"..//supplementary//Data//\"\n# dataFolder = \"source//examples//supplementary//Data\""
      ]
    },
    {
      "cell_type": "markdown",
      "metadata": {},
      "source": [
        "## Obtaining a datapoint from a dataset\nMore often than not, our observed data is stored in a file on disk.\nWe can read in a dataset and pull datapoints from it.\n\nFor more information about the time domain data set, see `Time domain dataset`\n\n"
      ]
    },
    {
      "cell_type": "code",
      "execution_count": null,
      "metadata": {
        "collapsed": false
      },
      "outputs": [],
      "source": [
        "# The data file name\ndataFile = dataFolder + 'Tempest.nc'\n# The EM system file name\nsystemFile = dataFolder + 'Tempest.stm'"
      ]
    },
    {
      "cell_type": "markdown",
      "metadata": {},
      "source": [
        "Initialize and read an EM data set\n\n"
      ]
    },
    {
      "cell_type": "code",
      "execution_count": null,
      "metadata": {
        "collapsed": false
      },
      "outputs": [],
      "source": [
        "D = TempestData.read_netcdf(dataFile, systemFile)"
      ]
    },
    {
      "cell_type": "markdown",
      "metadata": {},
      "source": [
        "Get a datapoint from the dataset\n\n"
      ]
    },
    {
      "cell_type": "code",
      "execution_count": null,
      "metadata": {
        "collapsed": false
      },
      "outputs": [],
      "source": [
        "tdp = D.datapoint(0)\n\n# plt.figure()\n# tdp.plot()"
      ]
    },
    {
      "cell_type": "markdown",
      "metadata": {},
      "source": [
        "## Using a time domain datapoint\n\n"
      ]
    },
    {
      "cell_type": "markdown",
      "metadata": {},
      "source": [
        "We can define a 1D layered earth model, and use it to predict some data\n\n"
      ]
    },
    {
      "cell_type": "code",
      "execution_count": null,
      "metadata": {
        "collapsed": false
      },
      "outputs": [],
      "source": [
        "par = StatArray(np.r_[500.0, 20.0], \"Conductivity\", \"$\\frac{S}{m}$\")\nmod = Model1D(edges=np.r_[0, 75.0, np.inf], parameters=par)"
      ]
    },
    {
      "cell_type": "markdown",
      "metadata": {},
      "source": [
        "Forward model the data\n\n"
      ]
    },
    {
      "cell_type": "code",
      "execution_count": null,
      "metadata": {
        "collapsed": false
      },
      "outputs": [],
      "source": [
        "tdp.forward(mod)"
      ]
    },
    {
      "cell_type": "code",
      "execution_count": null,
      "metadata": {
        "collapsed": false
      },
      "outputs": [],
      "source": [
        "plt.figure()\nplt.subplot(121)\n_ = mod.pcolor()\nplt.subplot(122)\n_ = tdp.plot()\n_ = tdp.plotPredicted()\nplt.tight_layout()\nplt.suptitle('Model and response')"
      ]
    },
    {
      "cell_type": "code",
      "execution_count": null,
      "metadata": {
        "collapsed": false
      },
      "outputs": [],
      "source": [
        "plt.figure()\ntdp.plotDataResidual(xscale='log')\nplt.title('data residual')"
      ]
    },
    {
      "cell_type": "markdown",
      "metadata": {},
      "source": [
        "Compute the sensitivity matrix for a given model\n\n"
      ]
    },
    {
      "cell_type": "code",
      "execution_count": null,
      "metadata": {
        "collapsed": false
      },
      "outputs": [],
      "source": [
        "J = tdp.sensitivity(mod)\nplt.figure()\n_ = np.abs(J).pcolor(equalize=True, log=10, flipY=True)"
      ]
    },
    {
      "cell_type": "markdown",
      "metadata": {},
      "source": [
        "## Attaching statistical descriptors to the datapoint\n\nDefine a multivariate log normal distribution as the prior on the predicted data.\n\n"
      ]
    },
    {
      "cell_type": "code",
      "execution_count": null,
      "metadata": {
        "collapsed": false
      },
      "outputs": [],
      "source": [
        "tdp.predictedData.set_prior('MvLogNormal', tdp.data[tdp.active], tdp.std[tdp.active]**2.0)"
      ]
    },
    {
      "cell_type": "markdown",
      "metadata": {},
      "source": [
        "This allows us to evaluate the likelihood of the predicted data\n\n"
      ]
    },
    {
      "cell_type": "code",
      "execution_count": null,
      "metadata": {
        "collapsed": false
      },
      "outputs": [],
      "source": [
        "print(tdp.likelihood(log=True))\n# Or the misfit\nprint(tdp.dataMisfit())"
      ]
    },
    {
      "cell_type": "markdown",
      "metadata": {},
      "source": [
        "We can perform a quick search for the best fitting half space\n\n"
      ]
    },
    {
      "cell_type": "code",
      "execution_count": null,
      "metadata": {
        "collapsed": false
      },
      "outputs": [],
      "source": [
        "halfspace = tdp.find_best_halfspace()\nprint('Best half space conductivity is {} $S/m$'.format(halfspace.par))\nplt.figure()\n_ = tdp.plot()\n_ = tdp.plotPredicted()\n\n\n\n\n\n\n\n\n\nplt.show()"
      ]
    }
  ],
  "metadata": {
    "kernelspec": {
      "display_name": "Python 3",
      "language": "python",
      "name": "python3"
    },
    "language_info": {
      "codemirror_mode": {
        "name": "ipython",
        "version": 3
      },
      "file_extension": ".py",
      "mimetype": "text/x-python",
      "name": "python",
      "nbconvert_exporter": "python",
      "pygments_lexer": "ipython3",
      "version": "3.9.6"
    }
  },
  "nbformat": 4,
  "nbformat_minor": 0
}