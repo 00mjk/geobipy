{
  "cells": [
    {
      "cell_type": "code",
      "execution_count": null,
      "metadata": {
        "collapsed": false
      },
      "outputs": [],
      "source": [
        "%matplotlib inline"
      ]
    },
    {
      "cell_type": "markdown",
      "metadata": {},
      "source": [
        "\n# Time domain dataset\n"
      ]
    },
    {
      "cell_type": "code",
      "execution_count": null,
      "metadata": {
        "collapsed": false
      },
      "outputs": [],
      "source": [
        "from geobipy import customPlots as cP\nfrom os.path import join\nimport matplotlib.pyplot as plt\nimport numpy as np\nfrom geobipy.src.classes.core.StatArray import StatArray\nfrom geobipy.src.classes.data.dataset.TdemData import TdemData"
      ]
    },
    {
      "cell_type": "markdown",
      "metadata": {},
      "source": [
        "## Reading in the Data\n\n"
      ]
    },
    {
      "cell_type": "code",
      "execution_count": null,
      "metadata": {
        "collapsed": false
      },
      "outputs": [],
      "source": [
        "dataFolder = \"..//supplementary//Data//\"\n# The data file name\ndataFiles=[dataFolder + 'Skytem_High.txt', dataFolder + 'Skytem_Low.txt']\n# The EM system file name\nsystemFiles=[dataFolder + 'SkytemHM-SLV.stm', dataFolder + 'SkytemLM-SLV.stm']"
      ]
    },
    {
      "cell_type": "markdown",
      "metadata": {},
      "source": [
        "Read in the data from file\n\n"
      ]
    },
    {
      "cell_type": "code",
      "execution_count": null,
      "metadata": {
        "collapsed": false
      },
      "outputs": [],
      "source": [
        "TD = TdemData()\nTD.read(dataFiles, systemFiles)"
      ]
    },
    {
      "cell_type": "markdown",
      "metadata": {},
      "source": [
        "Plot the locations of the data points\n\n"
      ]
    },
    {
      "cell_type": "code",
      "execution_count": null,
      "metadata": {
        "collapsed": false
      },
      "outputs": [],
      "source": [
        "plt.figure(figsize=(8,6))\n_ = TD.scatter2D()"
      ]
    },
    {
      "cell_type": "markdown",
      "metadata": {},
      "source": [
        "Plot all the data along the specified line\n\n"
      ]
    },
    {
      "cell_type": "code",
      "execution_count": null,
      "metadata": {
        "collapsed": false
      },
      "outputs": [],
      "source": [
        "plt.figure(figsize=(8,6))\n_ = TD.plotLine(100101.0, log=10)"
      ]
    },
    {
      "cell_type": "markdown",
      "metadata": {},
      "source": [
        "Or, plot specific channels in the data\n\n"
      ]
    },
    {
      "cell_type": "code",
      "execution_count": null,
      "metadata": {
        "collapsed": false
      },
      "outputs": [],
      "source": [
        "plt.figure(figsize=(8,6))\n_ = TD.plot(system=0, channels=[17, 18, 19], log=10)"
      ]
    },
    {
      "cell_type": "code",
      "execution_count": null,
      "metadata": {
        "collapsed": false
      },
      "outputs": [],
      "source": [
        "plt.figure()\nplt.subplot(211)\n_ = TD.pcolor(system=0, log=10, xscale='log')\nplt.subplot(212)\n_ = TD.pcolor(system=1, log=10, xscale='log')"
      ]
    },
    {
      "cell_type": "code",
      "execution_count": null,
      "metadata": {
        "collapsed": false
      },
      "outputs": [],
      "source": [
        "plt.figure()\nax = TD.scatter2D(s=1.0, c=TD.dataChannel(system=0, channel=23), equalize=True)\nplt.axis('equal')"
      ]
    },
    {
      "cell_type": "markdown",
      "metadata": {},
      "source": [
        "TD.toVTK('TD1', format='binary')\n\n"
      ]
    },
    {
      "cell_type": "markdown",
      "metadata": {},
      "source": [
        "## Obtain a line from the data set\n\n"
      ]
    },
    {
      "cell_type": "code",
      "execution_count": null,
      "metadata": {
        "collapsed": false
      },
      "outputs": [],
      "source": [
        "line = TD.line(100601.0)"
      ]
    },
    {
      "cell_type": "code",
      "execution_count": null,
      "metadata": {
        "collapsed": false
      },
      "outputs": [],
      "source": [
        "plt.figure()\n_ = line.scatter2D(c = line.dataChannel(17, system=1))"
      ]
    },
    {
      "cell_type": "code",
      "execution_count": null,
      "metadata": {
        "collapsed": false
      },
      "outputs": [],
      "source": [
        "plt.figure()\n_ = line.plot(xAxis='x', log=10)"
      ]
    },
    {
      "cell_type": "markdown",
      "metadata": {},
      "source": [
        "## File Format for time domain data\nHere we describe the file format for time domain data.\n\nThe data columns are read in according to the column names in the first line\n\nIn this description, the column name or its alternatives are given followed by what the name represents\nOptional columns are also described.\n\n### Required columns\nline\n    Line number for the data point\nfid\n    Unique identification number of the data point\nx or northing or n\n    Northing co-ordinate of the data point, (m)\ny or easting or e\n    Easting co-ordinate of the data point, (m)\nz or alt\n    Altitude of the transmitter coil above ground level (m)\nelevation\n    Elevation of the ground at the data point (m)\ntxrx_dx\n    Distance in x between transmitter and reciever (m)\ntxrx_dy\n    Distance in y between transmitter and reciever (m)\ntxrx_dz\n    Distance in z between transmitter and reciever (m)\nTxPitch\n    Pitch of the transmitter loop\nTxRoll\n    Roll of the transmitter loop\nTxYaw\n    Yaw of the transmitter loop\nRxPitch\n    Pitch of the receiver loop\nRxRoll\n    Roll of the receiver loop\nRxYaw\n    Yaw of the receiver loop\nOff[0] Off[1] ... Off[last]  - with the number and square brackets\n    The measurements for each time gate specified in the accompanying system file under Receiver Window Times\nOptional columns\n________________\nOffErr[0] OffErr[1] ... OffErr[last]\n    Estimates of standard deviation for each off time measurement\nExample Header\n______________\nLine fid easting northing elevation height txrx_dx txrx_dy txrx_dz TxPitch TxRoll TxYaw RxPitch RxRoll RxYaw Off[0] Off[1]\n\n"
      ]
    },
    {
      "cell_type": "markdown",
      "metadata": {},
      "source": [
        "## File Format for a time domain system\nPlease see Page 13 of Ross Brodie's `instructions`_\n\n\nWe use GA-AEM for our airborne time domain forward modeller.\n\nExample system files are contained in\n`the supplementary folder`_ in this repository\n\n\n"
      ]
    }
  ],
  "metadata": {
    "kernelspec": {
      "display_name": "Python 3",
      "language": "python",
      "name": "python3"
    },
    "language_info": {
      "codemirror_mode": {
        "name": "ipython",
        "version": 3
      },
      "file_extension": ".py",
      "mimetype": "text/x-python",
      "name": "python",
      "nbconvert_exporter": "python",
      "pygments_lexer": "ipython3",
      "version": "3.8.6"
    }
  },
  "nbformat": 4,
  "nbformat_minor": 0
}