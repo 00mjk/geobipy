{
  "cells": [
    {
      "cell_type": "code",
      "execution_count": null,
      "metadata": {
        "collapsed": false
      },
      "outputs": [],
      "source": [
        "%matplotlib inline"
      ]
    },
    {
      "cell_type": "markdown",
      "metadata": {},
      "source": [
        "\n1D Model with an infinite halfspace\n-----------------------------------\n"
      ]
    },
    {
      "cell_type": "code",
      "execution_count": null,
      "metadata": {
        "collapsed": false
      },
      "outputs": [],
      "source": [
        "from geobipy import StatArray\nfrom geobipy import Model1D\nimport matplotlib.pyplot as plt\nimport numpy as np\nimport h5py\nfrom geobipy import hdfRead"
      ]
    },
    {
      "cell_type": "markdown",
      "metadata": {},
      "source": [
        "Instantiate the 1D Model with a Half Space\n++++++++++++++++++++++++++++++++++++++++++\n\n"
      ]
    },
    {
      "cell_type": "code",
      "execution_count": null,
      "metadata": {
        "collapsed": false
      },
      "outputs": [],
      "source": [
        "# Make a test model with 10 layers, and increasing parameter values\npar = StatArray(np.linspace(0.01, 0.1, 10), \"Conductivity\", \"$\\\\frac{S}{m}$\")\nthk = StatArray(np.ones(9) * 10.0)\nmod = Model1D(parameters=par, thickness=thk)"
      ]
    },
    {
      "cell_type": "markdown",
      "metadata": {},
      "source": [
        "Randomness and Model Perturbations\nWe can set the priors on the 1D model by assigning minimum and maximum layer\ndepths and a maximum number of layers.  These are used to create priors on\nthe number of cells in the model, a new depth interface, new parameter values\nand the vertical gradient of those parameters.\n\n"
      ]
    },
    {
      "cell_type": "code",
      "execution_count": null,
      "metadata": {
        "collapsed": false
      },
      "outputs": [],
      "source": [
        "prng = np.random.RandomState()\n# Set the priors\nmod.setPriors(halfSpaceValue=1.0, minDepth=1.0, maxDepth=150.0, maxLayers=30, prng=prng)"
      ]
    },
    {
      "cell_type": "markdown",
      "metadata": {},
      "source": [
        "To propose new models, we specify the probabilities of creating, removing, perturbing, and not changing\na layer interface\nmod.setProposals(probabilities = [0.25, 0.25, 0.1, 0.1], prng=prng)\n\n"
      ]
    },
    {
      "cell_type": "code",
      "execution_count": null,
      "metadata": {
        "collapsed": false
      },
      "outputs": [],
      "source": [
        "# ################################################################################\n# # We can then perturb the layers of the model\n# perturbed = mod.perturbStructure()\n\n# ################################################################################\n# plt.figure(figsize=(8,6))\n# plt.subplot(121)\n# mod.pcolor(grid=True)\n# plt.subplot(122)\n# _ = perturbed.pcolor(grid=True)\n\n# ################################################################################\n# plt.figure()\n# _ = mod.plot()\n\n# ################################################################################\n# # We can evaluate the prior of the model using depths only\n# print('Probability of the Model given its priors: ', mod.priorProbability(False, False))\n# # Or with priors on its parameters, and parameter gradient with depth.\n# print('Probability of the Model given its priors: ', mod.priorProbability(True, True))"
      ]
    },
    {
      "cell_type": "markdown",
      "metadata": {},
      "source": [
        "Perturbing a model multiple times\n+++++++++++++++++++++++++++++++++\nWe have already \n\n"
      ]
    },
    {
      "cell_type": "code",
      "execution_count": null,
      "metadata": {
        "collapsed": false
      },
      "outputs": [],
      "source": [
        "# ################################################################################\n# # If we perturb a model multiple times, we can add each model to the hitmap\n# perturbed.addToHitMap(Hitmap=Hit)\n# for i in range(1000):\n#     perturbed = perturbed.perturbStructure()\n#     perturbed.addToHitMap(Hitmap=Hit)\n\n# ################################################################################\n# plt.figure()\n# _ = Hit.pcolor(flipY=True, xscale='log', cmap='gray_r')\n\n\n\n\n\n\n\n# ################################################################################\n# # Write to a HDF5 file\n\n# with h5py.File('Model1D.h5','w') as hf:\n#     mod.toHdf(hf,'Model1D')\n\n# ################################################################################\n# # Read from the file\n# ModNew = hdfRead.readKeyFromFiles('Model1D.h5','/','Model1D')\n\n\n# ################################################################################\n# plt.figure()\n# ax = plt.subplot(131)\n# ModNew.pcolor(grid=True)\n# plt.subplot(133, sharey = ax)\n# _ = ModNew.plot(flipY=False)\n\n\n# ################################################################################\n# # Creating memory in HDF5 to accomodate multiple models\n\n# # Create an initial Model class with enough layers to hold as many layers as we expect. (an upper bound)\n# tmp = Model1D(nCells=20)\n\n# # Open the file\n# f = h5py.File('Model1D.h5','w')\n\n# # Create the memory using the temporary model with space for 2 models.\n# tmp.createHdf(f, myName='test', nRepeats=2)\n\n# # Write mod and perturbed to different entries in the HDF5 file\n# mod.writeHdf(f, 'test', index=0)\n# perturbed.writeHdf(f, 'test', index=1)\n\n# # Close the file\n# f.close()\n\n# ################################################################################\n# # Reading from a HDF5 file with multiple models\n\n# # Special read functions\n# from geobipy import hdfRead\n# # Open the file\n# f = h5py.File('Model1D.h5', 'r')\n# # Read the Model1D from the file\n# tmp = hdfRead.readKeyFromFile(f, fName='Model1D.h5', groupName='/', key='test', index=1)\n# f.close()\n\n\n\n# ################################################################################\n# # We can access and plot the elements of model. The parameters are an [StatArray](../../Base/StatArray_Class.ipynb)\n# plt.figure()\n# _ = mod.par.plot()\n\n# ################################################################################\n# # Or we can plot the 1D model as coloured blocks\n# plt.figure()\n# _ = perturbed.pcolor(grid=True)"
      ]
    }
  ],
  "metadata": {
    "kernelspec": {
      "display_name": "Python 3",
      "language": "python",
      "name": "python3"
    },
    "language_info": {
      "codemirror_mode": {
        "name": "ipython",
        "version": 3
      },
      "file_extension": ".py",
      "mimetype": "text/x-python",
      "name": "python",
      "nbconvert_exporter": "python",
      "pygments_lexer": "ipython3",
      "version": "3.7.4"
    }
  },
  "nbformat": 4,
  "nbformat_minor": 0
}