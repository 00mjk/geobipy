{
  "cells": [
    {
      "cell_type": "code",
      "execution_count": null,
      "metadata": {
        "collapsed": false
      },
      "outputs": [],
      "source": [
        "%matplotlib inline"
      ]
    },
    {
      "cell_type": "markdown",
      "metadata": {},
      "source": [
        "\n1D Model without an infinite halfspace\n--------------------------------------\n"
      ]
    },
    {
      "cell_type": "code",
      "execution_count": null,
      "metadata": {
        "collapsed": false
      },
      "outputs": [],
      "source": [
        "# #%%\n# from geobipy import StatArray\n# from geobipy import Model1D\n# import matplotlib.pyplot as plt\n# import numpy as np\n# import h5py\n# from geobipy import hdfRead\n\n# ################################################################################\n# # Make a test model with 10 layers, and increasing parameter values\n\n# par = StatArray(np.linspace(0.01, 0.1, 10), \"Conductivity\", \"$\\\\frac{S}{m}$\")\n# thk = StatArray(np.arange(1, 11))\n# mod = Model1D(parameters=par, thickness=thk, hasHalfspace=False)\n\n\n# ################################################################################\n\n\n# mod.summary()\n\n\n# ################################################################################\n# # Randomness and Model Perturbations\n# # We can make the 1D model perturbable by assigning minimum and maximum layer\n# # depths, a maximum number of layers, and a probability wheel describing the\n# # relative probabilities of either creating a layer, deleting a layer, moving\n# # an interface, or doing nothing.\n\n# prng = np.random.RandomState()\n# # Set the priors on a perturbable model\n# mod.setPriors(halfSpaceValue=1.0, minDepth=1.0, maxDepth=150.0, maxLayers=30, prng=prng)\n# # Set the proposals for the perturbable model by assigning the probabilities\n# # of birth, death, perturb, or no change\n# mod.setProposals(probabilities = [0.25, 0.25, 0.25, 0.25], prng=prng)\n# # We can then perturb the layers of the model\n# perturbed = mod.perturbStructure()\n\n\n# ################################################################################\n\n\n# plt.figure(figsize=(8,6))\n# plt.subplot(121)\n# mod.pcolor(grid=True)\n# plt.subplot(122)\n# perturbed.pcolor(grid=True)\n# plt.savefig('Perturbed.png', dpi=200, figsize=(8,6))\n\n\n# ################################################################################\n\n\n# plt.figure()\n# mod.plot(flipY=True, xscale='log')\n\n# ################################################################################\n# # We can evaluate the prior of the model\n\n# try:\n#   tmp.priorProbability(True,True) # This is meant to fail here!\n# except:\n#   print('This will not work because no prior has been assigned')\n\n\n# ################################################################################\n# # This last command failed because we did not assign a prior distribution to\n# # the model parameters\n\n# # We can evaluate the prior of the model using depths only\n# print('Probability of the Model given its priors: ', mod.priorProbability(False,False))\n# # Or with priors on its parameters, and parameter gradient with depth.\n# print('Probability of the Model given its priors: ', mod.priorProbability(True,True))\n\n\n# ################################################################################\n# # Evaluating the prior uses the probability of the parameter distributions\n\n# # Evaluate the probability for these depths\n# print(mod.depth.probability(log=True, mod.nCells))\n\n\n# ################################################################################\n# # Writing with HDF5\n\n# with h5py.File('Model1D.h5','w') as hf:\n#     mod.toHdf(hf,'Model1D')\n\n# ################################################################################\n# # Read from the file\n# ModNew = hdfRead.readKeyFromFiles('Model1D.h5','/','Model1D')\n\n\n# ################################################################################\n\n\n# plt.figure()\n# ax = plt.subplot(131)\n# ModNew.pcolor(grid=True)\n# ax = plt.subplot(133, sharey = ax)\n# ModNew.plot(flipY=False)\n\n\n# ################################################################################\n# # Creating memory in HDF5 to accomodate multiple models\n\n# # Create an initial Model class with enough layers to hold as many layers as we expect. (an upper bound)\n# tmp = Model1D(nCells=20)\n\n# # Open the file\n# f = h5py.File('Model1D.h5','w')\n\n# # Create the memory using the temporary model with space for 2 models.\n# tmp.createHdf(f, myName='test', nRepeats=2)\n\n# # Write mod and perturbed to different entries in the HDF5 file\n# mod.writeHdf(f, 'test', index=0)\n# perturbed.writeHdf(f, 'test', index=1)\n\n# # Close the file\n# f.close()\n\n# ################################################################################\n# # Reading from a HDF5 file with multiple models\n\n# # Special read functions\n# from geobipy import hdfRead\n# # Open the file\n# f = h5py.File('Model1D.h5', 'r')\n# # Read the Model1D from the file\n# tmp = hdfRead.readKeyFromFile(f, fName='Model1D.h5', groupName='/', key='test', index=1)\n# f.close()\n\n# ################################################################################\n# # Creating a hitmap and adding a 1D model to it\n\n# from geobipy import Hitmap2D\n# x = StatArray(np.logspace(-3, -0, 100), name='Parameter')\n# y = StatArray(np.linspace(0.0, 60.0, 100), name='Depth', units='m')\n# Hit = Hitmap2D(xBins=x, yBins=y)\n\n\n# ################################################################################\n# # If we perturb a model multiple times, we can add each model to the hitmap\n\n# perturbed.addToHitMap(Hitmap=Hit)\n# for i in range(100):\n#     perturbed = perturbed.perturbStructure()\n#     perturbed.addToHitMap(Hitmap=Hit)\n\n\n# ################################################################################\n\n\n# plt.figure()\n# Hit.pcolor(flipY=True, xscale='log', cmap='gray_r')\n\n\n# ################################################################################\n# # We can access and plot the elements of model.\n# # The parameters are an [StatArray](../../Base/StatArray_Class.ipynb)\n\n# plt.figure()\n# mod.par.plot()\n\n\n# ################################################################################\n# # Or we can plot the 1D model as coloured blocks\n\n# plt.figure()\n# perturbed.pcolor(grid=True)"
      ]
    }
  ],
  "metadata": {
    "kernelspec": {
      "display_name": "Python 3",
      "language": "python",
      "name": "python3"
    },
    "language_info": {
      "codemirror_mode": {
        "name": "ipython",
        "version": 3
      },
      "file_extension": ".py",
      "mimetype": "text/x-python",
      "name": "python",
      "nbconvert_exporter": "python",
      "pygments_lexer": "ipython3",
      "version": "3.7.4"
    }
  },
  "nbformat": 4,
  "nbformat_minor": 0
}