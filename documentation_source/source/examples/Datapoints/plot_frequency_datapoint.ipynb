{
  "cells": [
    {
      "cell_type": "code",
      "execution_count": null,
      "metadata": {
        "collapsed": false
      },
      "outputs": [],
      "source": [
        "%matplotlib inline"
      ]
    },
    {
      "cell_type": "markdown",
      "metadata": {},
      "source": [
        "\nFrequency domain datapoint\n--------------------------\n"
      ]
    },
    {
      "cell_type": "markdown",
      "metadata": {},
      "source": [
        "There are two ways in which to create a datapoint,\n\n1) `Instantiating a frequency domain data point`\n\n2) `Obtaining a datapoint from a dataset`\n\n"
      ]
    },
    {
      "cell_type": "code",
      "execution_count": null,
      "metadata": {
        "collapsed": false
      },
      "outputs": [],
      "source": [
        "from os.path import join\nimport numpy as np\nimport h5py\nimport matplotlib.pyplot as plt\nfrom geobipy import hdfRead\nfrom geobipy import CircularLoop\nfrom geobipy import FdemSystem\nfrom geobipy import FdemData\nfrom geobipy import FdemDataPoint\nfrom geobipy import Model1D\nfrom geobipy import StatArray"
      ]
    },
    {
      "cell_type": "markdown",
      "metadata": {},
      "source": [
        "Instantiating a frequency domain data point\n+++++++++++++++++++++++++++++++++++++++++++\n\nTo instantiate a frequency domain datapoint we need to define some \ncharacteristics of the acquisition system.\n\nWe need to define the frequencies in Hz of the transmitter,\nand the geometery of the loops used for each frequency.\n\n"
      ]
    },
    {
      "cell_type": "code",
      "execution_count": null,
      "metadata": {
        "collapsed": false
      },
      "outputs": [],
      "source": [
        "frequencies = np.asarray([380.0, 1776.0, 3345.0, 8171.0, 41020.0, 129550.0])\n\ntransmitterLoops = [CircularLoop(orient='z'),     CircularLoop(orient='z'), \n                    CircularLoop('x', moment=-1), CircularLoop(orient='z'), \n                    CircularLoop(orient='z'),     CircularLoop(orient='z')]\n\nreceiverLoops    = [CircularLoop(orient='z', x=7.93),    CircularLoop(orient='z', x=7.91), \n                    CircularLoop('x', moment=1, x=9.03), CircularLoop(orient='z', x=7.91), \n                    CircularLoop(orient='z', x=7.91),    CircularLoop(orient='z', x=7.89)]"
      ]
    },
    {
      "cell_type": "markdown",
      "metadata": {},
      "source": [
        "Now we can instantiate the system.\n\n"
      ]
    },
    {
      "cell_type": "code",
      "execution_count": null,
      "metadata": {
        "collapsed": false
      },
      "outputs": [],
      "source": [
        "fds = FdemSystem(frequencies, transmitterLoops, receiverLoops)"
      ]
    },
    {
      "cell_type": "markdown",
      "metadata": {},
      "source": [
        "And use the system to instantiate a datapoint\nNote the extra arguments that can be used to create the data point.\ndata is for any observed data one might have, while std are the estimated standard \ndeviations of those observed data.\n\n"
      ]
    },
    {
      "cell_type": "code",
      "execution_count": null,
      "metadata": {
        "collapsed": false
      },
      "outputs": [],
      "source": [
        "fdp = FdemDataPoint(x=0.0, y=0.0, z=30, elevation=0.0, \n                    data=None, std=None, predictedData=None, \n                    system=fds, lineNumber=0.0, fiducial=0.0)"
      ]
    },
    {
      "cell_type": "markdown",
      "metadata": {},
      "source": [
        "We can define a 1D layered earth model, and use it to predict some data\n\n"
      ]
    },
    {
      "cell_type": "code",
      "execution_count": null,
      "metadata": {
        "collapsed": false
      },
      "outputs": [],
      "source": [
        "nCells = 19\npar = StatArray(np.linspace(0.01, 0.1, nCells), \"Conductivity\", \"$\\frac{S}{m}$\")\nthk = StatArray(np.ones(nCells-1) * 10.0)\nmod = Model1D(nCells = nCells, parameters=par, thickness=thk)"
      ]
    },
    {
      "cell_type": "markdown",
      "metadata": {},
      "source": [
        "Forward model the data\n\n"
      ]
    },
    {
      "cell_type": "code",
      "execution_count": null,
      "metadata": {
        "collapsed": false
      },
      "outputs": [],
      "source": [
        "fdp.forward(mod)"
      ]
    },
    {
      "cell_type": "code",
      "execution_count": null,
      "metadata": {
        "collapsed": false
      },
      "outputs": [],
      "source": [
        "plt.figure()\nplt.subplot(121)\n_ = mod.pcolor()\nplt.subplot(122)\n_ = fdp.plotPredicted()\nplt.tight_layout()"
      ]
    },
    {
      "cell_type": "markdown",
      "metadata": {},
      "source": [
        "Obtaining a datapoint from a dataset\n++++++++++++++++++++++++++++++++++++\n\nMore often than not, our observed data is stored in a file on disk.\nWe can read in a dataset and pull datapoints from it.\n\nFor more information about the frequency domain data set see `Frequency domain dataset`\n\n"
      ]
    },
    {
      "cell_type": "markdown",
      "metadata": {},
      "source": [
        "Set some paths and file names\n\n"
      ]
    },
    {
      "cell_type": "code",
      "execution_count": null,
      "metadata": {
        "collapsed": false
      },
      "outputs": [],
      "source": [
        "dataFolder = \"..//supplementary//Data//\"\n# The data file name\ndataFile = dataFolder + 'Resolve2.txt'\n# The EM system file name\nsystemFile = dataFolder + 'FdemSystem2.stm'"
      ]
    },
    {
      "cell_type": "markdown",
      "metadata": {},
      "source": [
        "Initialize and read an EM data set\n\n"
      ]
    },
    {
      "cell_type": "code",
      "execution_count": null,
      "metadata": {
        "collapsed": false
      },
      "outputs": [],
      "source": [
        "D = FdemData()\nD.read(dataFile,systemFile)"
      ]
    },
    {
      "cell_type": "markdown",
      "metadata": {},
      "source": [
        "Get a data point from the dataset\n\n"
      ]
    },
    {
      "cell_type": "code",
      "execution_count": null,
      "metadata": {
        "collapsed": false
      },
      "outputs": [],
      "source": [
        "P = D.datapoint(0)\nplt.figure()\n_ = P.plot()"
      ]
    },
    {
      "cell_type": "markdown",
      "metadata": {},
      "source": [
        "Predict data using the same model as before\n\n"
      ]
    },
    {
      "cell_type": "code",
      "execution_count": null,
      "metadata": {
        "collapsed": false
      },
      "outputs": [],
      "source": [
        "P.forward(mod)\nplt.figure()\n_ = P.plot()\n_ = P.plotPredicted()\nplt.tight_layout();"
      ]
    },
    {
      "cell_type": "markdown",
      "metadata": {},
      "source": [
        "Attaching statistical descriptors to the datapoint\n++++++++++++++++++++++++++++++++++++++++++++++++++\n\nDefine a multivariate log normal distribution as the prior on the predicted data.\n\n"
      ]
    },
    {
      "cell_type": "code",
      "execution_count": null,
      "metadata": {
        "collapsed": false
      },
      "outputs": [],
      "source": [
        "P.predictedData.setPrior('MvLogNormal', P.data[P.active], P.std[P.active]**2.0)"
      ]
    },
    {
      "cell_type": "markdown",
      "metadata": {},
      "source": [
        "This allows us to evaluate the likelihood of the predicted data\n\n"
      ]
    },
    {
      "cell_type": "code",
      "execution_count": null,
      "metadata": {
        "collapsed": false
      },
      "outputs": [],
      "source": [
        "print(P.likelihood(log=True))\n# Or the misfit\nprint(P.dataMisfit())"
      ]
    },
    {
      "cell_type": "markdown",
      "metadata": {},
      "source": [
        "We can perform a quick search for the best fitting half space\n\n"
      ]
    },
    {
      "cell_type": "code",
      "execution_count": null,
      "metadata": {
        "collapsed": false
      },
      "outputs": [],
      "source": [
        "halfspace = P.FindBestHalfSpace()\nprint('Best half space conductivity is {} $S/m$')\nplt.figure()\nP.plot()\nP.plotPredicted()"
      ]
    },
    {
      "cell_type": "markdown",
      "metadata": {},
      "source": [
        "Compute the misfit between observed and predicted data\n\n"
      ]
    },
    {
      "cell_type": "code",
      "execution_count": null,
      "metadata": {
        "collapsed": false
      },
      "outputs": [],
      "source": [
        "print(P.dataMisfit())"
      ]
    },
    {
      "cell_type": "markdown",
      "metadata": {},
      "source": [
        "Plot the misfits for a range of half space conductivities\n\n"
      ]
    },
    {
      "cell_type": "code",
      "execution_count": null,
      "metadata": {
        "collapsed": false
      },
      "outputs": [],
      "source": [
        "plt.figure()\n_ = P.plotHalfSpaceResponses(-6.0, 4.0, 200)\nplt.title(\"Halfspace responses\")"
      ]
    },
    {
      "cell_type": "markdown",
      "metadata": {},
      "source": [
        "Compute the sensitivity matrix for a given model\n\n"
      ]
    },
    {
      "cell_type": "code",
      "execution_count": null,
      "metadata": {
        "collapsed": false
      },
      "outputs": [],
      "source": [
        "J = P.sensitivity(mod)\nplt.figure()\nnp.abs(J).pcolor(equalize=True, log=10);\n\n# ################################################################################\n# # We can save the FdemDataPoint to a HDF file\n\n# with h5py.File('FdemDataPoint.h5','w') as hf:\n#     P.createHdf(hf, 'fdp')\n#     P.writeHdf(hf, 'fdp')\n\n# ################################################################################\n# # And then read it in\n\n# P1=hdfRead.readKeyFromFiles('FdemDataPoint.h5','/','fdp')"
      ]
    }
  ],
  "metadata": {
    "kernelspec": {
      "display_name": "Python 3",
      "language": "python",
      "name": "python3"
    },
    "language_info": {
      "codemirror_mode": {
        "name": "ipython",
        "version": 3
      },
      "file_extension": ".py",
      "mimetype": "text/x-python",
      "name": "python",
      "nbconvert_exporter": "python",
      "pygments_lexer": "ipython3",
      "version": "3.7.4"
    }
  },
  "nbformat": 4,
  "nbformat_minor": 0
}