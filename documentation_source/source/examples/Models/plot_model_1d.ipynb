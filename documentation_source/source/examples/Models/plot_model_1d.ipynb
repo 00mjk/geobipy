{
 "cells": [
  {
   "cell_type": "code",
   "execution_count": 1,
   "metadata": {},
   "outputs": [],
   "source": [
    "%matplotlib inline\n",
    "%load_ext autoreload\n",
    "%autoreload 2"
   ]
  },
  {
   "cell_type": "markdown",
   "metadata": {},
   "source": [
    "\n",
    "# 1D Model with an infinite halfspace\n"
   ]
  },
  {
   "cell_type": "code",
   "execution_count": 2,
   "metadata": {},
   "outputs": [],
   "source": [
    "from geobipy import StatArray\n",
    "from geobipy import Model1D\n",
    "from geobipy import Distribution\n",
    "from geobipy import FdemData\n",
    "import matplotlib.pyplot as plt\n",
    "import numpy as np\n",
    "import h5py\n",
    "from geobipy import hdfRead"
   ]
  },
  {
   "cell_type": "markdown",
   "metadata": {},
   "source": [
    "## Instantiate the 1D Model with a Half Space\n",
    "\n"
   ]
  },
  {
   "cell_type": "code",
   "execution_count": 66,
   "metadata": {},
   "outputs": [
    {
     "data": {
      "text/plain": [
       "(150.0, 0.0)"
      ]
     },
     "execution_count": 66,
     "metadata": {},
     "output_type": "execute_result"
    },
    {
     "data": {
      "image/png": "[encoded data removed]",
      "text/plain": [
       "<Figure size 576x432 with 3 Axes>"
      ]
     },
     "metadata": {
      "needs_background": "light"
     },
     "output_type": "display_data"
    }
   ],
   "source": [
    "from copy import deepcopy\n",
    "from geobipy import StatArray\n",
    "from geobipy import Model1D\n",
    "from geobipy import Distribution\n",
    "from geobipy import FdemData\n",
    "import matplotlib.pyplot as plt\n",
    "import numpy as np\n",
    "import h5py\n",
    "from geobipy import hdfRead\n",
    "\n",
    "# %%\n",
    "# Instantiate the 1D Model with a Half Space\n",
    "# ++++++++++++++++++++++++++++++++++++++++++\n",
    "\n",
    "# Make a test model with 10 layers, and increasing parameter values\n",
    "nLayers = 10\n",
    "par = StatArray(np.linspace(0.001, 0.02, nLayers),\n",
    "                \"Conductivity\", \"$\\\\frac{S}{m}$\")\n",
    "thk = StatArray(np.full(nLayers, fill_value=10.0))\n",
    "thk[-1] = np.inf\n",
    "mod = Model1D(parameters=par, thickness=thk)\n",
    "\n",
    "prng = np.random.RandomState(0)\n",
    "# Set the priors\n",
    "mod.setPriors(halfSpaceValue=0.01,\n",
    "              min_edge=1.0,\n",
    "              max_edge=150.0,\n",
    "              max_cells=30,\n",
    "              parameterPrior=True,\n",
    "              gradientPrior=True,\n",
    "              prng=prng)\n",
    "\n",
    "pProposal = Distribution('LogNormal', 0.01, np.log(2.0)**2.0,\n",
    "                         linearSpace=True, prng=prng)\n",
    "mod.setProposals(probabilities=[0.25, 0.25, 0.25, 0.25],\n",
    "                 parameterProposal=pProposal, prng=prng)\n",
    "\n",
    "mod.setPosteriors()\n",
    "\n",
    "for i in range(1000):\n",
    "    remapped, perturbed = mod.perturb()\n",
    "\n",
    "    # And update the model posteriors\n",
    "    perturbed.updatePosteriors()\n",
    "\n",
    "    mod = perturbed\n",
    "\n",
    "mod.updatePosteriors()\n",
    "\n",
    "fig = plt.figure(figsize=(8, 6))\n",
    "plt.subplot(131)\n",
    "mod.nCells.posterior.plot()\n",
    "ax = plt.subplot(132)\n",
    "mod.par.posterior.pcolor(cmap='gray_r', xscale='log',\n",
    "                         noColorbar=True, flipY=False)\n",
    "plt.subplot(133, sharey=ax)\n",
    "mod.depth.posterior.plot(rotate=True, flipY=True)\n",
    "\n",
    "plt.ylim([150, 0])"
   ]
  },
  {
   "cell_type": "code",
   "execution_count": 50,
   "metadata": {},
   "outputs": [
    {
     "data": {
      "text/plain": [
       "StatArray([0.001     , 0.00311111, 0.00522222, 0.00733333, 0.00944444,\n",
       "           0.01155556, 0.01366667, 0.01577778, 0.01788889, 0.02      ])"
      ]
     },
     "execution_count": 50,
     "metadata": {},
     "output_type": "execute_result"
    }
   ],
   "source": [
    "mod.par"
   ]
  },
  {
   "cell_type": "code",
   "execution_count": 51,
   "metadata": {},
   "outputs": [
    {
     "data": {
      "text/plain": [
       "StatArray([ 0., 10., 20., 30., 40., 50., 60., 70., 80., 90., inf])"
      ]
     },
     "execution_count": 51,
     "metadata": {},
     "output_type": "execute_result"
    }
   ],
   "source": [
    "mod.depth"
   ]
  },
  {
   "cell_type": "code",
   "execution_count": 52,
   "metadata": {},
   "outputs": [
    {
     "data": {
      "text/plain": [
       "array([0.001     , 0.001     , 0.001     , 0.001     , 0.001     ,\n",
       "       0.001     , 0.001     , 0.001     , 0.00311111, 0.00311111,\n",
       "       0.00311111, 0.00311111, 0.00311111, 0.00311111, 0.00311111,\n",
       "       0.00311111, 0.00522222, 0.00522222, 0.00522222, 0.00522222,\n",
       "       0.00522222, 0.00522222, 0.00522222, 0.00522222, 0.00733333,\n",
       "       0.00733333, 0.00733333, 0.00733333, 0.00733333, 0.00733333,\n",
       "       0.00733333, 0.00733333, 0.00944444, 0.00944444, 0.00944444,\n",
       "       0.00944444, 0.00944444, 0.00944444, 0.00944444, 0.00944444,\n",
       "       0.01155556, 0.01155556, 0.01155556, 0.01155556, 0.01155556,\n",
       "       0.01155556, 0.01155556, 0.01155556, 0.01366667, 0.01366667,\n",
       "       0.01366667, 0.01366667, 0.01366667, 0.01366667, 0.01366667,\n",
       "       0.01366667, 0.01577778, 0.01577778, 0.01577778, 0.01577778,\n",
       "       0.01577778, 0.01577778, 0.01577778, 0.01577778, 0.01788889,\n",
       "       0.01788889, 0.01788889, 0.01788889, 0.01788889, 0.01788889,\n",
       "       0.01788889, 0.01788889, 0.02      , 0.02      , 0.02      ,\n",
       "       0.02      , 0.02      , 0.02      , 0.02      , 0.02      ,\n",
       "       0.02      , 0.02      , 0.02      , 0.02      , 0.02      ,\n",
       "       0.02      , 0.02      , 0.02      , 0.02      , 0.02      ,\n",
       "       0.02      , 0.02      , 0.02      , 0.02      , 0.02      ,\n",
       "       0.02      , 0.02      , 0.02      , 0.02      , 0.02      ,\n",
       "       0.02      , 0.02      , 0.02      , 0.02      , 0.02      ,\n",
       "       0.02      , 0.02      , 0.02      , 0.02      , 0.02      ,\n",
       "       0.02      , 0.02      , 0.02      , 0.02      , 0.02      ,\n",
       "       0.02      , 0.02      , 0.02      , 0.02      , 0.02      ,\n",
       "       0.02      , 0.02      , 0.02      , 0.02      , 0.02      ,\n",
       "       0.02      , 0.02      , 0.02      , 0.02      , 0.02      ,\n",
       "       0.02      , 0.02      , 0.02      ])"
      ]
     },
     "execution_count": 52,
     "metadata": {},
     "output_type": "execute_result"
    }
   ],
   "source": [
    "mod.interpPar2Mesh(mod.par.posterior, axis=1)"
   ]
  },
  {
   "cell_type": "code",
   "execution_count": 47,
   "metadata": {},
   "outputs": [
    {
     "data": {
      "text/plain": [
       "StatArray([  0.27916667,   1.52083333,   2.7625    ,   4.00416667,\n",
       "             5.24583333,   6.4875    ,   7.72916667,   8.97083333,\n",
       "            10.2125    ,  11.45416667,  12.69583333,  13.9375    ,\n",
       "            15.17916667,  16.42083333,  17.6625    ,  18.90416667,\n",
       "            20.14583333,  21.3875    ,  22.62916667,  23.87083333,\n",
       "            25.1125    ,  26.35416667,  27.59583333,  28.8375    ,\n",
       "            30.07916667,  31.32083333,  32.5625    ,  33.80416667,\n",
       "            35.04583333,  36.2875    ,  37.52916667,  38.77083333,\n",
       "            40.0125    ,  41.25416667,  42.49583333,  43.7375    ,\n",
       "            44.97916667,  46.22083333,  47.4625    ,  48.70416667,\n",
       "            49.94583333,  51.1875    ,  52.42916667,  53.67083333,\n",
       "            54.9125    ,  56.15416667,  57.39583333,  58.6375    ,\n",
       "            59.87916667,  61.12083333,  62.3625    ,  63.60416667,\n",
       "            64.84583333,  66.0875    ,  67.32916667,  68.57083333,\n",
       "            69.8125    ,  71.05416667,  72.29583333,  73.5375    ,\n",
       "            74.77916667,  76.02083333,  77.2625    ,  78.50416667,\n",
       "            79.74583333,  80.9875    ,  82.22916667,  83.47083333,\n",
       "            84.7125    ,  85.95416667,  87.19583333,  88.4375    ,\n",
       "            89.67916667,  90.92083333,  92.1625    ,  93.40416667,\n",
       "            94.64583333,  95.8875    ,  97.12916667,  98.37083333,\n",
       "            99.6125    , 100.85416667, 102.09583333, 103.3375    ,\n",
       "           104.57916667, 105.82083333, 107.0625    , 108.30416667,\n",
       "           109.54583333, 110.7875    , 112.02916667, 113.27083333,\n",
       "           114.5125    , 115.75416667, 116.99583333, 118.2375    ,\n",
       "           119.47916667, 120.72083333, 121.9625    , 123.20416667,\n",
       "           124.44583333, 125.6875    , 126.92916667, 128.17083333,\n",
       "           129.4125    , 130.65416667, 131.89583333, 133.1375    ,\n",
       "           134.37916667, 135.62083333, 136.8625    , 138.10416667,\n",
       "           139.34583333, 140.5875    , 141.82916667, 143.07083333,\n",
       "           144.3125    , 145.55416667, 146.79583333, 148.0375    ,\n",
       "           149.27916667, 150.52083333, 151.7625    , 153.00416667,\n",
       "           154.24583333, 155.4875    , 156.72916667, 157.97083333,\n",
       "           159.2125    , 160.45416667, 161.69583333, 162.9375    ,\n",
       "           164.17916667, 165.42083333])"
      ]
     },
     "execution_count": 47,
     "metadata": {},
     "output_type": "execute_result"
    }
   ],
   "source": [
    "mod.par.posterior.y.edges"
   ]
  },
  {
   "cell_type": "code",
   "execution_count": 21,
   "metadata": {},
   "outputs": [
    {
     "data": {
      "text/plain": [
       "StatArray([0.001])"
      ]
     },
     "execution_count": 21,
     "metadata": {},
     "output_type": "execute_result"
    }
   ],
   "source": [
    "mod.par"
   ]
  },
  {
   "cell_type": "code",
   "execution_count": null,
   "metadata": {},
   "outputs": [],
   "source": []
  },
  {
   "cell_type": "code",
   "execution_count": null,
   "metadata": {},
   "outputs": [],
   "source": []
  },
  {
   "cell_type": "markdown",
   "metadata": {},
   "source": [
    "## Randomness and Model Perturbations\n",
    "We can set the priors on the 1D model by assigning minimum and maximum layer\n",
    "depths and a maximum number of layers.  These are used to create priors on\n",
    "the number of cells in the model, a new depth interface, new parameter values\n",
    "and the vertical gradient of those parameters.\n",
    "The halfSpaceValue is used as a reference value for the parameter prior.\n",
    "\n"
   ]
  },
  {
   "cell_type": "code",
   "execution_count": null,
   "metadata": {},
   "outputs": [],
   "source": [
    "prng = np.random.RandomState()\n",
    "# Set the priors\n",
    "mod.setPriors(halfSpaceValue = 0.01,\n",
    "              minDepth = 1.0, \n",
    "              maxDepth = 150.0, \n",
    "              maxLayers = 30, \n",
    "              parameterPrior = True, \n",
    "              gradientPrior = True, \n",
    "              prng = prng)"
   ]
  },
  {
   "cell_type": "markdown",
   "metadata": {},
   "source": [
    "To propose new models, we specify the probabilities of creating, removing, perturbing, and not changing\n",
    "a layer interface\n",
    "\n"
   ]
  },
  {
   "cell_type": "code",
   "execution_count": null,
   "metadata": {},
   "outputs": [],
   "source": [
    "pProposal = Distribution('LogNormal', 0.01, np.log(2.0)**2.0, linearSpace=True, prng=prng)\n",
    "mod.setProposals(probabilities = [0.25, 0.25, 0.25, 0.25], parameterProposal=pProposal, prng=prng)"
   ]
  },
  {
   "cell_type": "markdown",
   "metadata": {},
   "source": [
    "We can then perturb the layers of the model\n",
    "perturbed = mod.perturbStructure()\n",
    "\n"
   ]
  },
  {
   "cell_type": "code",
   "execution_count": null,
   "metadata": {},
   "outputs": [],
   "source": [
    "remapped, perturbed = mod.perturb()"
   ]
  },
  {
   "cell_type": "code",
   "execution_count": null,
   "metadata": {},
   "outputs": [],
   "source": [
    "fig = plt.figure(figsize=(8,6))\n",
    "ax = plt.subplot(121)\n",
    "mod.pcolor(grid=True)\n",
    "ax = plt.subplot(122)\n",
    "perturbed.pcolor(grid=True)"
   ]
  },
  {
   "cell_type": "markdown",
   "metadata": {},
   "source": [
    "We can evaluate the prior of the model using depths only\n",
    "\n"
   ]
  },
  {
   "cell_type": "code",
   "execution_count": null,
   "metadata": {},
   "outputs": [],
   "source": [
    "print('Log probability of the Model given its priors: ', mod.priorProbability(False, False, log=True))\n",
    "# Or with priors on its parameters, and parameter gradient with depth.\n",
    "print('Log probability of the Model given its priors: ', mod.priorProbability(True, True, log=True))"
   ]
  },
  {
   "cell_type": "markdown",
   "metadata": {},
   "source": [
    "## Perturbing a model multiple times\n",
    "In the stochasitic inference process, we perturb the model structure, \n",
    "and parameter values, multiple times. \n",
    "Each time the model is perturbed, we can record its state\n",
    "in a posterior distribution.\n",
    "\n",
    "For a 1D model, the parameter posterior is a 2D hitmap with depth in one dimension\n",
    "and the parameter value in the other.\n",
    "We also attach a 1D histogram for the number of layers,\n",
    "and a 1D histogram for the locations of interfaces.\n",
    "\n",
    "Since we have already set the priors on the Model, we can set the posteriors\n",
    "based on bins from from the priors.\n",
    "\n"
   ]
  },
  {
   "cell_type": "code",
   "execution_count": null,
   "metadata": {},
   "outputs": [],
   "source": [
    "mod.setPosteriors()\n",
    "\n",
    "mod0 = mod.deepcopy()"
   ]
  },
  {
   "cell_type": "markdown",
   "metadata": {},
   "source": [
    "Now we randomly perturb the model, and update its posteriors.\n",
    "\n"
   ]
  },
  {
   "cell_type": "code",
   "execution_count": null,
   "metadata": {},
   "outputs": [],
   "source": [
    "mod.updatePosteriors()\n",
    "for i in range(1000):\n",
    "    remapped, perturbed = mod.perturb()\n",
    "\n",
    "    # And update the model posteriors\n",
    "    perturbed.updatePosteriors()\n",
    "\n",
    "    mod = perturbed"
   ]
  },
  {
   "cell_type": "markdown",
   "metadata": {},
   "source": [
    "We can now plot the posteriors of the model.\n",
    "\n",
    "Remember in this case, we are simply perturbing the model structure and parameter values\n",
    "The proposal for the parameter values is fixed and centred around a single value.\n",
    "\n"
   ]
  },
  {
   "cell_type": "code",
   "execution_count": null,
   "metadata": {},
   "outputs": [],
   "source": [
    "fig = plt.figure(figsize=(8, 6))\n",
    "plt.subplot(131)\n",
    "mod.nCells.posterior.plot()\n",
    "ax = plt.subplot(132)\n",
    "mod.par.posterior.pcolor(cmap='gray_r', xscale='log', noColorbar=True, flipY=True)\n",
    "plt.subplot(133, sharey=ax)\n",
    "mod.depth.posterior.plot(rotate=True, flipY=True);"
   ]
  }
 ],
 "metadata": {
  "kernelspec": {
   "display_name": "Python 3",
   "language": "python",
   "name": "python3"
  },
  "language_info": {
   "codemirror_mode": {
    "name": "ipython",
    "version": 3
   },
   "file_extension": ".py",
   "mimetype": "text/x-python",
   "name": "python",
   "nbconvert_exporter": "python",
   "pygments_lexer": "ipython3",
   "version": "3.8.8"
  }
 },
 "nbformat": 4,
 "nbformat_minor": 1
}
