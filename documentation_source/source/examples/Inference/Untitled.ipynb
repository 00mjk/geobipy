{
 "cells": [
  {
   "cell_type": "code",
   "execution_count": 13,
   "id": "6b8a52e5",
   "metadata": {},
   "outputs": [],
   "source": [
    "import numpy as np\n",
    "from numba import jit\n",
    "_numba_settings = {'nopython': True, 'nogil': False, 'fastmath': True, 'cache': False}\n",
    "from numba.experimental import jitclass          # import the decorator\n",
    "from numba import int32, float32    # import the types\n",
    "\n",
    "spec = [\n",
    "    ('value', int32),               # a simple scalar field\n",
    "    ('array', float32[:]),          # an array field\n",
    "]\n",
    "\n",
    "@jitclass(spec)\n",
    "class Bag(object):\n",
    "    def __init__(self, value):\n",
    "        self.value = value\n",
    "        self.array = np.zeros(value, dtype=np.float32)\n",
    "\n",
    "    @property\n",
    "    def size(self):\n",
    "        return self.array.size\n",
    "\n",
    "#     @jit(**_numba_settings)\n",
    "    def increment(self, val):\n",
    "        for i in range(self.size):\n",
    "            self.array[i] = val\n",
    "        return self.array\n",
    "            "
   ]
  },
  {
   "cell_type": "code",
   "execution_count": 27,
   "id": "5c1a3e0c",
   "metadata": {},
   "outputs": [],
   "source": [
    "x = Bag(10000000)"
   ]
  },
  {
   "cell_type": "code",
   "execution_count": 28,
   "id": "279f5e95",
   "metadata": {},
   "outputs": [
    {
     "name": "stdout",
     "output_type": "stream",
     "text": [
      "3.67 ms ± 18.2 µs per loop (mean ± std. dev. of 7 runs, 100 loops each)\n"
     ]
    }
   ],
   "source": [
    "%%timeit\n",
    "x.increment(100.0)"
   ]
  },
  {
   "cell_type": "code",
   "execution_count": 16,
   "id": "6fcd7bf6",
   "metadata": {},
   "outputs": [],
   "source": [
    "class Bag2(object):\n",
    "    def __init__(self, value):\n",
    "        self.value = value\n",
    "        self.array = np.zeros(value, dtype=np.float32)\n",
    "\n",
    "    @property\n",
    "    def size(self):\n",
    "        return self.array.size\n",
    "    \n",
    "    def increment(self, val):\n",
    "        for i in range(self.size):\n",
    "            self.array[i] = val\n",
    "        return self.array"
   ]
  },
  {
   "cell_type": "code",
   "execution_count": 29,
   "id": "32761d3a",
   "metadata": {},
   "outputs": [],
   "source": [
    "x = Bag2(1000000)"
   ]
  },
  {
   "cell_type": "code",
   "execution_count": 30,
   "id": "1d334e83",
   "metadata": {},
   "outputs": [
    {
     "name": "stdout",
     "output_type": "stream",
     "text": [
      "96.6 ms ± 4.27 ms per loop (mean ± std. dev. of 7 runs, 10 loops each)\n"
     ]
    }
   ],
   "source": [
    "%%timeit\n",
    "x.increment(100.0)"
   ]
  },
  {
   "cell_type": "code",
   "execution_count": 31,
   "id": "83e6e09f",
   "metadata": {},
   "outputs": [
    {
     "data": {
      "text/plain": [
       "26.321525885558582"
      ]
     },
     "execution_count": 31,
     "metadata": {},
     "output_type": "execute_result"
    }
   ],
   "source": [
    "96.6/3.67"
   ]
  },
  {
   "cell_type": "code",
   "execution_count": null,
   "id": "36f5abf1",
   "metadata": {},
   "outputs": [],
   "source": []
  }
 ],
 "metadata": {
  "kernelspec": {
   "display_name": "Python (geobipy)",
   "language": "python",
   "name": "geobipy"
  },
  "language_info": {
   "codemirror_mode": {
    "name": "ipython",
    "version": 3
   },
   "file_extension": ".py",
   "mimetype": "text/x-python",
   "name": "python",
   "nbconvert_exporter": "python",
   "pygments_lexer": "ipython3",
   "version": "3.9.6"
  }
 },
 "nbformat": 4,
 "nbformat_minor": 5
}
