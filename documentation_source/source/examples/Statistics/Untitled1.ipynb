{
 "cells": [
  {
   "cell_type": "code",
   "execution_count": 1,
   "id": "678e5a03",
   "metadata": {},
   "outputs": [],
   "source": [
    "%load_ext autoreload\n",
    "%autoreload 2\n",
    "%matplotlib inline"
   ]
  },
  {
   "cell_type": "code",
   "execution_count": 2,
   "id": "c28221f3",
   "metadata": {},
   "outputs": [],
   "source": [
    "from geobipy import StatArray\n",
    "from geobipy import Histogram1D\n",
    "import numpy as np\n",
    "import matplotlib.pyplot as plt\n",
    "import h5py\n",
    "from geobipy import hdfRead"
   ]
  },
  {
   "cell_type": "code",
   "execution_count": 3,
   "id": "25c7b975",
   "metadata": {},
   "outputs": [
    {
     "name": "stdout",
     "output_type": "stream",
     "text": [
      "Name: Density ($\\frac{g}{cc}$)\n",
      "    Shape: (1,)\n",
      "    Values: [-0.12630971]\n",
      "\n"
     ]
    }
   ],
   "source": [
    "Density = StatArray(np.random.randn(1), name=\"Density\", units=\"$\\frac{g}{cc}$\")\n",
    "print(Density.summary)"
   ]
  },
  {
   "cell_type": "code",
   "execution_count": 4,
   "id": "36e177f1",
   "metadata": {},
   "outputs": [
    {
     "data": {
      "text/plain": [
       "<geobipy.src.classes.statistics.Histogram1D.Histogram1D at 0x12e2b9d60>"
      ]
     },
     "execution_count": 4,
     "metadata": {},
     "output_type": "execute_result"
    }
   ],
   "source": [
    "prng = np.random.RandomState()\n",
    "Density.setPrior('Uniform', -2.0, 2.0, prng=prng)\n",
    "bins = Density.prior.bins()\n",
    "post = Histogram1D(bins=bins)\n",
    "\n",
    "################################################################################\n",
    "# Attach the histogram\n",
    "Density.setPosterior(post)\n",
    "Density.posterior"
   ]
  },
  {
   "cell_type": "code",
   "execution_count": 5,
   "id": "c7248adb",
   "metadata": {},
   "outputs": [
    {
     "name": "stdout",
     "output_type": "stream",
     "text": [
      "here\n"
     ]
    }
   ],
   "source": [
    "Density.toHdf('s.h5', 's', withPosterior=True)"
   ]
  },
  {
   "cell_type": "code",
   "execution_count": 8,
   "id": "d8eea477",
   "metadata": {},
   "outputs": [
    {
     "name": "stdout",
     "output_type": "stream",
     "text": [
      "s Histogram1D\n"
     ]
    },
    {
     "data": {
      "text/plain": [
       "<geobipy.src.classes.statistics.Histogram1D.Histogram1D at 0x109fa7e80>"
      ]
     },
     "execution_count": 8,
     "metadata": {},
     "output_type": "execute_result"
    }
   ],
   "source": [
    "Density1 = StatArray.fromHdf('s.h5', 's')\n",
    "Density1.posterior"
   ]
  },
  {
   "cell_type": "code",
   "execution_count": null,
   "id": "5107e27b",
   "metadata": {},
   "outputs": [],
   "source": []
  },
  {
   "cell_type": "code",
   "execution_count": null,
   "id": "eaf60d94",
   "metadata": {},
   "outputs": [],
   "source": []
  }
 ],
 "metadata": {
  "kernelspec": {
   "display_name": "Python 3",
   "language": "python",
   "name": "python3"
  },
  "language_info": {
   "codemirror_mode": {
    "name": "ipython",
    "version": 3
   },
   "file_extension": ".py",
   "mimetype": "text/x-python",
   "name": "python",
   "nbconvert_exporter": "python",
   "pygments_lexer": "ipython3",
   "version": "3.8.10"
  }
 },
 "nbformat": 4,
 "nbformat_minor": 5
}
