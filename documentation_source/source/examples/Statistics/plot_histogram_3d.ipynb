{
  "cells": [
    {
      "cell_type": "code",
      "execution_count": null,
      "metadata": {
        "collapsed": false
      },
      "outputs": [],
      "source": [
        "%matplotlib inline"
      ]
    },
    {
      "cell_type": "markdown",
      "metadata": {},
      "source": [
        "\n# Histogram 2D\n\nThis 2D histogram class allows efficient updating of histograms, plotting and\nsaving as HDF5.\n"
      ]
    },
    {
      "cell_type": "code",
      "execution_count": null,
      "metadata": {
        "collapsed": false
      },
      "outputs": [],
      "source": [
        "import geobipy\nfrom geobipy import StatArray\nfrom geobipy import Histogram3D\nimport matplotlib.pyplot as plt\nimport numpy as np"
      ]
    },
    {
      "cell_type": "markdown",
      "metadata": {},
      "source": [
        "Create some histogram bins in x and y\n\n"
      ]
    },
    {
      "cell_type": "code",
      "execution_count": null,
      "metadata": {
        "collapsed": false
      },
      "outputs": [],
      "source": [
        "x = StatArray(np.linspace(-4.0, 4.0, 101), 'Variable 1')\ny = StatArray(np.linspace(-4.0, 4.0, 101), 'Variable 2')\nz = StatArray(np.linspace(0, 10, 1), 'Variable 3')"
      ]
    },
    {
      "cell_type": "markdown",
      "metadata": {},
      "source": [
        "Instantiate\n\n"
      ]
    },
    {
      "cell_type": "code",
      "execution_count": null,
      "metadata": {
        "collapsed": false
      },
      "outputs": [],
      "source": [
        "H = Histogram3D(xBins=x, yBins=y, zBinCentres=z)"
      ]
    },
    {
      "cell_type": "markdown",
      "metadata": {},
      "source": [
        "Generate some random numbers\n\n"
      ]
    },
    {
      "cell_type": "code",
      "execution_count": null,
      "metadata": {
        "collapsed": false
      },
      "outputs": [],
      "source": [
        "a = np.random.randn(100000)\nb = np.random.randn(100000)\nc = np.random.randn(100000)\nx = np.asarray([a, b, c])"
      ]
    },
    {
      "cell_type": "markdown",
      "metadata": {},
      "source": [
        "Update the histogram counts\n\n"
      ]
    },
    {
      "cell_type": "code",
      "execution_count": null,
      "metadata": {
        "collapsed": false
      },
      "outputs": [],
      "source": [
        "H.update(x)\n\n\n# ################################################################################\n# plt.figure()\n# _ = H.pcolor(cmap='gray_r')\n\n\n# ################################################################################\n# # Generate marginal histograms along an axis\n# h1 = H.marginalize(axis=0)\n# h2 = H.marginalize(axis=1)\n\n\n# ################################################################################\n# # Note that the names of the variables are automatically displayed\n# plt.figure()\n# plt.subplot(121)\n# h1.plot()\n# plt.subplot(122)\n# _ = h2.plot()\n\n\n# ################################################################################\n# # Create a combination plot with marginal histograms.\n# # sphinx_gallery_thumbnail_number = 3\n# plt.figure()\n# _ = H.comboPlot(cmap='gray_r')\n\n\n# ################################################################################\n# # We can overlay the histogram with its credible intervals\n# plt.figure()\n# H.pcolor(cmap='gray_r')\n# H.plotCredibleIntervals(axis=0, percent=95.0)\n# _ = H.plotCredibleIntervals(axis=1, percent=95.0)\n\n\n# ################################################################################\n# # Take the mean or median estimates from the histogram\n# mean = H.mean()\n# median = H.median()\n\n\n# ################################################################################\n# # Or plot the mean and median\n# plt.figure()\n# H.pcolor(cmap='gray_r')\n# H.plotMean()\n# H.plotMedian()\n# plt.legend()\n\n# ################################################################################\n# plt.figure(figsize=(9.5, 5))\n# ax = plt.subplot(121)\n# H.pcolor(cmap='gray_r', noColorbar=True)\n# H.plotCredibleIntervals(axis=0)\n# H.plotMedian()\n# H.plotMean(color='y')\n\n# plt.subplot(122, sharex=ax, sharey=ax)\n# H.pcolor(cmap='gray_r', noColorbar=True)\n# H.plotCredibleIntervals(axis=1)\n# H.plotMedian(axis=1)\n# H.plotMean(axis=1, color='y')\n\n\n# ################################################################################\n# plt.figure(figsize=(9.5, 5))\n# ax = plt.subplot(121)\n# H1 = H.intervalStatistic([-4.0, -2.0, 2.0, 4.0], statistic='mean', axis=0)\n# H1.pcolor(cmap='gray_r', equalize=True, noColorbar=True)\n# H1.plotCredibleIntervals(axis=0)\n# plt.subplot(122, sharex=ax, sharey=ax)\n# H1 = H.intervalStatistic([-4.0, -2.0, 2.0, 4.0], statistic='mean', axis=1)\n# H1.pcolor(cmap='gray_r', equalize=True, noColorbar=True)\n# H1.plotCredibleIntervals(axis=1)\n\n\n# ################################################################################\n# # Get the range between credible intervals\n# H.credibleRange(percent=95.0)\n\n\n# ################################################################################\n# # We can map the credible range to an opacity or transparency\n# H.opacity()\n# H.transparency()\n\nplt.show()"
      ]
    }
  ],
  "metadata": {
    "kernelspec": {
      "display_name": "Python 3",
      "language": "python",
      "name": "python3"
    },
    "language_info": {
      "codemirror_mode": {
        "name": "ipython",
        "version": 3
      },
      "file_extension": ".py",
      "mimetype": "text/x-python",
      "name": "python",
      "nbconvert_exporter": "python",
      "pygments_lexer": "ipython3",
      "version": "3.8.6"
    }
  },
  "nbformat": 4,
  "nbformat_minor": 0
}